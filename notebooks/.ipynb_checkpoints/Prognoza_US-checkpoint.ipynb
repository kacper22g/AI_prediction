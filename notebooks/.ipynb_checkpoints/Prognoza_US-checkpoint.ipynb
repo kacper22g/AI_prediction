{
 "cells": [
  {
   "cell_type": "code",
   "execution_count": 1,
   "id": "562c8eb2-61e9-452d-b664-2245590bf484",
   "metadata": {
    "tags": []
   },
   "outputs": [],
   "source": [
    "import numpy as np\n",
    "import pandas as pd\n",
    "from sklearn.metrics import mean_squared_error\n",
    "from sklearn.model_selection import train_test_split\n",
    "from scipy.stats import pearsonr\n",
    "import matplotlib.pyplot as plt\n",
    "import pandas_datareader.data as web\n",
    "from datetime import datetime, timedelta\n",
    "import matplotlib.pyplot as plt\n",
    "import seaborn as sns\n",
    "import matplotlib.ticker as ticker\n",
    "from arch import arch_model\n",
    "from pmdarima import auto_arima\n",
    "import warnings\n",
    "from statsmodels.graphics.tsaplots import plot_acf, plot_pacf\n",
    "from statsmodels.tsa.ar_model import AutoReg\n",
    "from statsmodels.tsa.arima.model import ARIMA\n",
    "from statsmodels.tsa.holtwinters import ExponentialSmoothing, Holt\n",
    "from statsmodels.tsa.stattools import kpss, adfuller\n",
    "from sklearn.neighbors import LocalOutlierFactor\n",
    "from sklearn.metrics import mean_squared_error, r2_score, mean_absolute_error, median_absolute_error\n",
    "from sklearn.ensemble import IsolationForest\n",
    "from statsmodels.tsa.seasonal import STL\n",
    "from statsmodels.tsa.seasonal import seasonal_decompose\n",
    "from sklearn.model_selection import GridSearchCV, RandomizedSearchCV\n",
    "from scipy import stats\n",
    "from scipy.stats import probplot, shapiro\n",
    "from statsmodels.stats.diagnostic import het_arch\n",
    "import statsmodels.api as sm\n",
    "from arch import arch_model\n",
    "import math \n",
    "from matplotlib import rc\n",
    "import matplotlib.pyplot as mpl\n",
    "import pandas as pd\n",
    "import numpy as np\n",
    "import statsmodels.api as sm\n",
    "from statsmodels.tsa.stattools import adfuller"
   ]
  },
  {
   "cell_type": "code",
   "execution_count": 2,
   "id": "ce7faeca-7258-4298-922f-23129b96ab53",
   "metadata": {},
   "outputs": [],
   "source": [
    "plt.rcParams[\"font.family\"] = \"Times New Roman\""
   ]
  },
  {
   "cell_type": "code",
   "execution_count": 3,
   "id": "bee6d464-ac5d-4a7a-96ce-7b98ef698077",
   "metadata": {},
   "outputs": [],
   "source": [
    "mpl.rcParams['font.size'] = 10"
   ]
  },
  {
   "cell_type": "code",
   "execution_count": 4,
   "id": "1735640d-16b0-4264-8cda-1c86d09be0cb",
   "metadata": {
    "tags": []
   },
   "outputs": [],
   "source": [
    "df = pd.read_excel('C:/JupyterLab/AI_prediction/data/raw/US_ml_models.xlsx')"
   ]
  },
  {
   "cell_type": "code",
   "execution_count": 5,
   "id": "ef5fca09-e081-4915-b16c-b227b1d38647",
   "metadata": {
    "tags": []
   },
   "outputs": [
    {
     "data": {
      "text/html": [
       "<div>\n",
       "<style scoped>\n",
       "    .dataframe tbody tr th:only-of-type {\n",
       "        vertical-align: middle;\n",
       "    }\n",
       "\n",
       "    .dataframe tbody tr th {\n",
       "        vertical-align: top;\n",
       "    }\n",
       "\n",
       "    .dataframe thead th {\n",
       "        text-align: right;\n",
       "    }\n",
       "</style>\n",
       "<table border=\"1\" class=\"dataframe\">\n",
       "  <thead>\n",
       "    <tr style=\"text-align: right;\">\n",
       "      <th></th>\n",
       "      <th>year</th>\n",
       "      <th>ml_models</th>\n",
       "    </tr>\n",
       "  </thead>\n",
       "  <tbody>\n",
       "    <tr>\n",
       "      <th>0</th>\n",
       "      <td>2003</td>\n",
       "      <td>5</td>\n",
       "    </tr>\n",
       "    <tr>\n",
       "      <th>1</th>\n",
       "      <td>2004</td>\n",
       "      <td>1</td>\n",
       "    </tr>\n",
       "    <tr>\n",
       "      <th>2</th>\n",
       "      <td>2005</td>\n",
       "      <td>3</td>\n",
       "    </tr>\n",
       "    <tr>\n",
       "      <th>3</th>\n",
       "      <td>2006</td>\n",
       "      <td>4</td>\n",
       "    </tr>\n",
       "    <tr>\n",
       "      <th>4</th>\n",
       "      <td>2007</td>\n",
       "      <td>2</td>\n",
       "    </tr>\n",
       "    <tr>\n",
       "      <th>5</th>\n",
       "      <td>2008</td>\n",
       "      <td>4</td>\n",
       "    </tr>\n",
       "    <tr>\n",
       "      <th>6</th>\n",
       "      <td>2009</td>\n",
       "      <td>8</td>\n",
       "    </tr>\n",
       "    <tr>\n",
       "      <th>7</th>\n",
       "      <td>2010</td>\n",
       "      <td>5</td>\n",
       "    </tr>\n",
       "    <tr>\n",
       "      <th>8</th>\n",
       "      <td>2011</td>\n",
       "      <td>8</td>\n",
       "    </tr>\n",
       "    <tr>\n",
       "      <th>9</th>\n",
       "      <td>2012</td>\n",
       "      <td>5</td>\n",
       "    </tr>\n",
       "    <tr>\n",
       "      <th>10</th>\n",
       "      <td>2013</td>\n",
       "      <td>9</td>\n",
       "    </tr>\n",
       "    <tr>\n",
       "      <th>11</th>\n",
       "      <td>2014</td>\n",
       "      <td>11</td>\n",
       "    </tr>\n",
       "    <tr>\n",
       "      <th>12</th>\n",
       "      <td>2015</td>\n",
       "      <td>19</td>\n",
       "    </tr>\n",
       "    <tr>\n",
       "      <th>13</th>\n",
       "      <td>2016</td>\n",
       "      <td>30</td>\n",
       "    </tr>\n",
       "    <tr>\n",
       "      <th>14</th>\n",
       "      <td>2017</td>\n",
       "      <td>33</td>\n",
       "    </tr>\n",
       "    <tr>\n",
       "      <th>15</th>\n",
       "      <td>2018</td>\n",
       "      <td>32</td>\n",
       "    </tr>\n",
       "    <tr>\n",
       "      <th>16</th>\n",
       "      <td>2019</td>\n",
       "      <td>54</td>\n",
       "    </tr>\n",
       "    <tr>\n",
       "      <th>17</th>\n",
       "      <td>2020</td>\n",
       "      <td>39</td>\n",
       "    </tr>\n",
       "    <tr>\n",
       "      <th>18</th>\n",
       "      <td>2021</td>\n",
       "      <td>45</td>\n",
       "    </tr>\n",
       "    <tr>\n",
       "      <th>19</th>\n",
       "      <td>2022</td>\n",
       "      <td>51</td>\n",
       "    </tr>\n",
       "    <tr>\n",
       "      <th>20</th>\n",
       "      <td>2023</td>\n",
       "      <td>61</td>\n",
       "    </tr>\n",
       "  </tbody>\n",
       "</table>\n",
       "</div>"
      ],
      "text/plain": [
       "    year  ml_models\n",
       "0   2003          5\n",
       "1   2004          1\n",
       "2   2005          3\n",
       "3   2006          4\n",
       "4   2007          2\n",
       "5   2008          4\n",
       "6   2009          8\n",
       "7   2010          5\n",
       "8   2011          8\n",
       "9   2012          5\n",
       "10  2013          9\n",
       "11  2014         11\n",
       "12  2015         19\n",
       "13  2016         30\n",
       "14  2017         33\n",
       "15  2018         32\n",
       "16  2019         54\n",
       "17  2020         39\n",
       "18  2021         45\n",
       "19  2022         51\n",
       "20  2023         61"
      ]
     },
     "execution_count": 5,
     "metadata": {},
     "output_type": "execute_result"
    }
   ],
   "source": [
    "df"
   ]
  },
  {
   "cell_type": "code",
   "execution_count": 6,
   "id": "add8203d-8649-4626-ac18-b4670dd799ab",
   "metadata": {},
   "outputs": [
    {
     "data": {
      "text/html": [
       "<div>\n",
       "<style scoped>\n",
       "    .dataframe tbody tr th:only-of-type {\n",
       "        vertical-align: middle;\n",
       "    }\n",
       "\n",
       "    .dataframe tbody tr th {\n",
       "        vertical-align: top;\n",
       "    }\n",
       "\n",
       "    .dataframe thead th {\n",
       "        text-align: right;\n",
       "    }\n",
       "</style>\n",
       "<table border=\"1\" class=\"dataframe\">\n",
       "  <thead>\n",
       "    <tr style=\"text-align: right;\">\n",
       "      <th></th>\n",
       "      <th>year</th>\n",
       "      <th>ml_models</th>\n",
       "    </tr>\n",
       "    <tr>\n",
       "      <th>year</th>\n",
       "      <th></th>\n",
       "      <th></th>\n",
       "    </tr>\n",
       "  </thead>\n",
       "  <tbody>\n",
       "    <tr>\n",
       "      <th>2003</th>\n",
       "      <td>2003</td>\n",
       "      <td>5</td>\n",
       "    </tr>\n",
       "    <tr>\n",
       "      <th>2004</th>\n",
       "      <td>2004</td>\n",
       "      <td>1</td>\n",
       "    </tr>\n",
       "    <tr>\n",
       "      <th>2005</th>\n",
       "      <td>2005</td>\n",
       "      <td>3</td>\n",
       "    </tr>\n",
       "    <tr>\n",
       "      <th>2006</th>\n",
       "      <td>2006</td>\n",
       "      <td>4</td>\n",
       "    </tr>\n",
       "    <tr>\n",
       "      <th>2007</th>\n",
       "      <td>2007</td>\n",
       "      <td>2</td>\n",
       "    </tr>\n",
       "    <tr>\n",
       "      <th>2008</th>\n",
       "      <td>2008</td>\n",
       "      <td>4</td>\n",
       "    </tr>\n",
       "    <tr>\n",
       "      <th>2009</th>\n",
       "      <td>2009</td>\n",
       "      <td>8</td>\n",
       "    </tr>\n",
       "    <tr>\n",
       "      <th>2010</th>\n",
       "      <td>2010</td>\n",
       "      <td>5</td>\n",
       "    </tr>\n",
       "    <tr>\n",
       "      <th>2011</th>\n",
       "      <td>2011</td>\n",
       "      <td>8</td>\n",
       "    </tr>\n",
       "    <tr>\n",
       "      <th>2012</th>\n",
       "      <td>2012</td>\n",
       "      <td>5</td>\n",
       "    </tr>\n",
       "    <tr>\n",
       "      <th>2013</th>\n",
       "      <td>2013</td>\n",
       "      <td>9</td>\n",
       "    </tr>\n",
       "    <tr>\n",
       "      <th>2014</th>\n",
       "      <td>2014</td>\n",
       "      <td>11</td>\n",
       "    </tr>\n",
       "    <tr>\n",
       "      <th>2015</th>\n",
       "      <td>2015</td>\n",
       "      <td>19</td>\n",
       "    </tr>\n",
       "    <tr>\n",
       "      <th>2016</th>\n",
       "      <td>2016</td>\n",
       "      <td>30</td>\n",
       "    </tr>\n",
       "    <tr>\n",
       "      <th>2017</th>\n",
       "      <td>2017</td>\n",
       "      <td>33</td>\n",
       "    </tr>\n",
       "    <tr>\n",
       "      <th>2018</th>\n",
       "      <td>2018</td>\n",
       "      <td>32</td>\n",
       "    </tr>\n",
       "    <tr>\n",
       "      <th>2019</th>\n",
       "      <td>2019</td>\n",
       "      <td>54</td>\n",
       "    </tr>\n",
       "    <tr>\n",
       "      <th>2020</th>\n",
       "      <td>2020</td>\n",
       "      <td>39</td>\n",
       "    </tr>\n",
       "    <tr>\n",
       "      <th>2021</th>\n",
       "      <td>2021</td>\n",
       "      <td>45</td>\n",
       "    </tr>\n",
       "    <tr>\n",
       "      <th>2022</th>\n",
       "      <td>2022</td>\n",
       "      <td>51</td>\n",
       "    </tr>\n",
       "    <tr>\n",
       "      <th>2023</th>\n",
       "      <td>2023</td>\n",
       "      <td>61</td>\n",
       "    </tr>\n",
       "  </tbody>\n",
       "</table>\n",
       "</div>"
      ],
      "text/plain": [
       "      year  ml_models\n",
       "year                 \n",
       "2003  2003          5\n",
       "2004  2004          1\n",
       "2005  2005          3\n",
       "2006  2006          4\n",
       "2007  2007          2\n",
       "2008  2008          4\n",
       "2009  2009          8\n",
       "2010  2010          5\n",
       "2011  2011          8\n",
       "2012  2012          5\n",
       "2013  2013          9\n",
       "2014  2014         11\n",
       "2015  2015         19\n",
       "2016  2016         30\n",
       "2017  2017         33\n",
       "2018  2018         32\n",
       "2019  2019         54\n",
       "2020  2020         39\n",
       "2021  2021         45\n",
       "2022  2022         51\n",
       "2023  2023         61"
      ]
     },
     "execution_count": 6,
     "metadata": {},
     "output_type": "execute_result"
    }
   ],
   "source": [
    "df = df.set_index('year', drop=False)\n",
    "df"
   ]
  },
  {
   "cell_type": "code",
   "execution_count": 7,
   "id": "be9a8226-27e1-4fc6-8b2e-16a4d629d9bb",
   "metadata": {},
   "outputs": [
    {
     "data": {
      "text/plain": [
       "([<matplotlib.axis.XTick at 0x1e2d2c99160>,\n",
       "  <matplotlib.axis.XTick at 0x1e2d2cb1590>,\n",
       "  <matplotlib.axis.XTick at 0x1e2d2cb1d10>,\n",
       "  <matplotlib.axis.XTick at 0x1e2d2cb2490>,\n",
       "  <matplotlib.axis.XTick at 0x1e2d2cb2ad0>,\n",
       "  <matplotlib.axis.XTick at 0x1e2d2cb3250>,\n",
       "  <matplotlib.axis.XTick at 0x1e2d2cb39d0>],\n",
       " [Text(2004, 0, '2004'),\n",
       "  Text(2007, 0, '2007'),\n",
       "  Text(2010, 0, '2010'),\n",
       "  Text(2013, 0, '2013'),\n",
       "  Text(2016, 0, '2016'),\n",
       "  Text(2019, 0, '2019'),\n",
       "  Text(2022, 0, '2022')])"
      ]
     },
     "execution_count": 7,
     "metadata": {},
     "output_type": "execute_result"
    },
    {
     "data": {
      "image/png": "[encoded data removed]",
      "text/plain": [
       "<Figure size 1200x600 with 1 Axes>"
      ]
     },
     "metadata": {},
     "output_type": "display_data"
    }
   ],
   "source": [
    "xticks_labels = df.index.tolist()\n",
    "xticks_filtered = [year for year in xticks_labels if year % 3 == 0]\n",
    "\n",
    "plt.figure(figsize=(12, 6))\n",
    "plt.plot(df['ml_models'], marker='o', color='blue', label='ml_models')\n",
    "plt.xticks(xticks_filtered)"
   ]
  },
  {
   "cell_type": "markdown",
   "id": "f29123db-7e48-4b95-8bcd-cd5b75ef2403",
   "metadata": {},
   "source": [
    "There is a positive trend in the number of significant machinle leraning models. The values quickly rise after 2014. In the next step type of trend visible in the data was examined."
   ]
  },
  {
   "cell_type": "markdown",
   "id": "c211f753-becd-4869-bf40-ce8c26a4d7f5",
   "metadata": {},
   "source": [
    "### Trend type verification"
   ]
  },
  {
   "cell_type": "code",
   "execution_count": 8,
   "id": "fe6918db-91e6-41b8-a5dc-5094b6b33c2d",
   "metadata": {},
   "outputs": [
    {
     "data": {
      "text/html": [
       "<div>\n",
       "<style scoped>\n",
       "    .dataframe tbody tr th:only-of-type {\n",
       "        vertical-align: middle;\n",
       "    }\n",
       "\n",
       "    .dataframe tbody tr th {\n",
       "        vertical-align: top;\n",
       "    }\n",
       "\n",
       "    .dataframe thead th {\n",
       "        text-align: right;\n",
       "    }\n",
       "</style>\n",
       "<table border=\"1\" class=\"dataframe\">\n",
       "  <thead>\n",
       "    <tr style=\"text-align: right;\">\n",
       "      <th></th>\n",
       "      <th>Statistic</th>\n",
       "      <th>Linear trend model</th>\n",
       "      <th>Quadratic trend model</th>\n",
       "    </tr>\n",
       "  </thead>\n",
       "  <tbody>\n",
       "    <tr>\n",
       "      <th>0</th>\n",
       "      <td>p-value (t-test for trend coefficient)</td>\n",
       "      <td>0.00000001</td>\n",
       "      <td>0.00003182</td>\n",
       "    </tr>\n",
       "    <tr>\n",
       "      <th>1</th>\n",
       "      <td>R-squared</td>\n",
       "      <td>0.83507969</td>\n",
       "      <td>0.93878016</td>\n",
       "    </tr>\n",
       "    <tr>\n",
       "      <th>2</th>\n",
       "      <td>Standard error of residuals</td>\n",
       "      <td>8.25202807</td>\n",
       "      <td>5.16547496</td>\n",
       "    </tr>\n",
       "    <tr>\n",
       "      <th>3</th>\n",
       "      <td>F-statistic (user definition)</td>\n",
       "      <td>2.55211871</td>\n",
       "      <td>2.55211871</td>\n",
       "    </tr>\n",
       "    <tr>\n",
       "      <th>4</th>\n",
       "      <td>Critical F (alpha=0.05, user definition)</td>\n",
       "      <td>2.25667097</td>\n",
       "      <td>2.25667097</td>\n",
       "    </tr>\n",
       "  </tbody>\n",
       "</table>\n",
       "</div>"
      ],
      "text/plain": [
       "                                  Statistic  Linear trend model  \\\n",
       "0    p-value (t-test for trend coefficient)          0.00000001   \n",
       "1                                 R-squared          0.83507969   \n",
       "2               Standard error of residuals          8.25202807   \n",
       "3             F-statistic (user definition)          2.55211871   \n",
       "4  Critical F (alpha=0.05, user definition)          2.25667097   \n",
       "\n",
       "   Quadratic trend model  \n",
       "0             0.00003182  \n",
       "1             0.93878016  \n",
       "2             5.16547496  \n",
       "3             2.55211871  \n",
       "4             2.25667097  "
      ]
     },
     "execution_count": 8,
     "metadata": {},
     "output_type": "execute_result"
    }
   ],
   "source": [
    "y = df[\"ml_models\"]\n",
    "t = df[\"year\"]\n",
    "\n",
    "X_lin = sm.add_constant(t)\n",
    "model_lin = sm.OLS(y, X_lin).fit()\n",
    "\n",
    "X_quad = sm.add_constant(np.column_stack((t, t**2)))\n",
    "model_quad = sm.OLS(y, X_quad).fit()\n",
    "\n",
    "# Linear model statistics\n",
    "p_value_lin = model_lin.pvalues.iloc[1] \n",
    "r2_lin = model_lin.rsquared\n",
    "se_lin = np.sqrt(model_lin.mse_resid)\n",
    "f_lin = model_lin.fvalue\n",
    "f_crit_lin = stats.f.ppf(0.95, model_lin.df_model, model_lin.df_resid)\n",
    "\n",
    "# Quadratic model statistics\n",
    "p_value_quad = model_quad.pvalues.iloc[1]\n",
    "r2_quad = model_quad.rsquared\n",
    "se_quad = np.sqrt(model_quad.mse_resid)\n",
    "f_quad = model_quad.fvalue\n",
    "f_crit_quad = stats.f.ppf(0.95, model_quad.df_model, model_quad.df_resid)\n",
    "\n",
    "# Degrees of freedom \n",
    "n = len(df)\n",
    "k_lin = X_lin.shape[1] \n",
    "k_quad = X_quad.shape[1] \n",
    "\n",
    "df1_new = n - k_lin - 1\n",
    "df2_new = n - k_quad - 1\n",
    "\n",
    "F_user_updated = (se_lin / se_quad) ** 2\n",
    "F_crit_updated = stats.f.ppf(0.95, df1_new, df2_new)\n",
    "\n",
    "pd.options.display.float_format = '{:.8f}'.format\n",
    "\n",
    "results_updated = pd.DataFrame({\n",
    "    \"Statistic\": [\n",
    "        \"p-value (t-test for trend coefficient)\",\n",
    "        \"R-squared\",\n",
    "        \"Standard error of residuals\",\n",
    "        \"F-statistic (user definition)\",\n",
    "        \"Critical F (alpha=0.05, user definition)\"\n",
    "    ],\n",
    "    \"Linear trend model\": [\n",
    "        p_value_lin, r2_lin, se_lin, F_user_updated, F_crit_updated\n",
    "    ],\n",
    "    \"Quadratic trend model\": [\n",
    "        p_value_quad, r2_quad, se_quad, F_user_updated, F_crit_updated\n",
    "    ]\n",
    "})\n",
    "\n",
    "results_updated"
   ]
  },
  {
   "cell_type": "markdown",
   "id": "fc37d94c-aa92-4a26-8843-4d4376189113",
   "metadata": {},
   "source": [
    "Based on the p-value for the Student's t-test, the null hypothesis should be rejected, therefore, the parameter for the quadratic trend model was significantly different from zero. The quadratic trend model also achieved a lot higher R-squared statistic and a lower standard error of the residuals. The error ratio was lower than the critical value for Fisher's test, so the decrease in residual variance proved statistically significant."
   ]
  },
  {
   "cell_type": "markdown",
   "id": "c4b91984-57e9-4b34-a0a6-27cdb6908ffb",
   "metadata": {},
   "source": [
    "### Stationarity testing"
   ]
  },
  {
   "cell_type": "code",
   "execution_count": 9,
   "id": "3f8def7b-c6d7-435c-98e6-59bb68ef5cca",
   "metadata": {
    "tags": []
   },
   "outputs": [
    {
     "name": "stderr",
     "output_type": "stream",
     "text": [
      "C:\\Users\\tester\\AppData\\Local\\Temp\\ipykernel_3128\\1192270414.py:7: InterpolationWarning: The test statistic is outside of the range of p-values available in the\n",
      "look-up table. The actual p-value is greater than the p-value returned.\n",
      "\n",
      "  kpss(residuals_trend, regression=\"c\", nlags=4)\n"
     ]
    },
    {
     "data": {
      "text/plain": [
       "(np.float64(0.07724283950235769),\n",
       " np.float64(0.1),\n",
       " 4,\n",
       " {'10%': 0.347, '5%': 0.463, '2.5%': 0.574, '1%': 0.739})"
      ]
     },
     "execution_count": 9,
     "metadata": {},
     "output_type": "execute_result"
    }
   ],
   "source": [
    "kpss(df[\"ml_models\"], nlags=4, regression=\"ct\")\n",
    "df[\"time\"] = df[\"year\"]\n",
    "df[\"timesq\"] = df[\"year\"]**2\n",
    "X_trend = sm.add_constant(df[[\"time\", \"timesq\"]])\n",
    "model_trend = sm.OLS(df[\"ml_models\"], X_trend).fit()\n",
    "residuals_trend = model_trend.resid\n",
    "kpss(residuals_trend, regression=\"c\", nlags=4)"
   ]
  },
  {
   "cell_type": "markdown",
   "id": "82ec2160-17f0-4582-8603-5002af26ed1c",
   "metadata": {},
   "source": [
    "The InterpolationWarning indicates a limitation of the KPSS implementation in statsmodels because the computed test statistic lies outside the range of p values available in the built in lookup table. As a result, the reported p value is only an upper bound rather than an exact probability. In this analysis, p values and critical values were additionally calculated with an external program to improve accuracy. These external calculations showed that for the KPSS test with a linear trend the critical value is slightly larger than the test statistic, while when a quadratic trend is included the opposite occurs and the test statistic slightly exceeds the critical value. This demonstrates that the conclusion depends on the chosen trend specification and that the internal lookup tables may not fully capture extreme test statistic values."
   ]
  },
  {
   "cell_type": "code",
   "execution_count": 10,
   "id": "d0cb05f3-1b51-4f7c-807c-8dea244a6c51",
   "metadata": {},
   "outputs": [
    {
     "data": {
      "text/plain": [
       "{'ADF (linear trend)': {'Statistic': np.float64(-2.2675055202281547),\n",
       "  'p-value': np.float64(0.4520000062705981),\n",
       "  'Lags': 0,\n",
       "  'Critical Values': {'1%': np.float64(-4.499264375),\n",
       "   '5%': np.float64(-3.65827175),\n",
       "   '10%': np.float64(-3.26894)}},\n",
       " 'ADF (quadratic trend)': {'Statistic': np.float64(-3.395281492127042),\n",
       "  'p-value': np.float64(0.011120780783777756),\n",
       "  'Lags': 8,\n",
       "  'Critical Values': {'1%': np.float64(-4.137829282407408),\n",
       "   '5%': np.float64(-3.1549724074074077),\n",
       "   '10%': np.float64(-2.7144769444444443)}}}"
      ]
     },
     "execution_count": 10,
     "metadata": {},
     "output_type": "execute_result"
    }
   ],
   "source": [
    "df[\"year_centered\"] = df[\"year\"] - df[\"year\"].min()\n",
    "df[\"year_squared\"] = df[\"year_centered\"] ** 2\n",
    "\n",
    "# ADF test for linear trend\n",
    "adf_result_ct = adfuller(df[\"ml_models\"], regression=\"ct\", autolag=\"AIC\")  \n",
    "# ADF test for quadratic trend\n",
    "X_quad = sm.add_constant(df[[\"year_centered\", \"year_squared\"]])\n",
    "model_quad = sm.OLS(df[\"ml_models\"], X_quad).fit()\n",
    "residuals_quad = model_quad.resid\n",
    "adf_result_quad = adfuller(residuals_quad, regression=\"c\", autolag=\"AIC\")\n",
    "\n",
    "# ADF results with critical values\n",
    "test_results_adf = {\n",
    "    \"ADF (linear trend)\": {\n",
    "        \"Statistic\": adf_result_ct[0],\n",
    "        \"p-value\": adf_result_ct[1],\n",
    "        \"Lags\": adf_result_ct[2],\n",
    "        \"Critical Values\": adf_result_ct[4],\n",
    "    },\n",
    "    \"ADF (quadratic trend)\": {\n",
    "        \"Statistic\": adf_result_quad[0],\n",
    "        \"p-value\": adf_result_quad[1],\n",
    "        \"Lags\": adf_result_quad[2],\n",
    "        \"Critical Values\": adf_result_quad[4],\n",
    "    },\n",
    "}\n",
    "\n",
    "test_results_adf\n"
   ]
  },
  {
   "cell_type": "markdown",
   "id": "51b708bb-55b3-4fc4-9df9-07d8ae5fedd1",
   "metadata": {},
   "source": [
    "The results indicate that the time series is not stationary. Beacause of that, ARIMA models were trained with d parameter bigger or equal to 1. Before model estimation, PACF and ACF charts for differenced time series were drawn to estimate autocorrelations within time series."
   ]
  },
  {
   "cell_type": "markdown",
   "id": "6b079db5-78ae-46a0-9065-392541ccc83e",
   "metadata": {},
   "source": [
    "### Autocorelation functions"
   ]
  },
  {
   "cell_type": "code",
   "execution_count": 11,
   "id": "4dd23fd1-7125-49aa-9ca9-60a54a9d0a00",
   "metadata": {},
   "outputs": [],
   "source": [
    "time_series_diff = np.diff(df[\"ml_models\"])\n",
    "\n",
    "df_diff = pd.DataFrame({\"Differenced\": time_series_diff})"
   ]
  },
  {
   "cell_type": "code",
   "execution_count": 12,
   "id": "a1137dd8-6906-4ab8-a084-15063cd62ce4",
   "metadata": {},
   "outputs": [
    {
     "data": {
      "image/png": "[encoded data removed]",
      "text/plain": [
       "<Figure size 1500x500 with 2 Axes>"
      ]
     },
     "metadata": {},
     "output_type": "display_data"
    }
   ],
   "source": [
    "fig, axes = plt.subplots(1, 2, figsize=(15, 5))\n",
    "\n",
    "sm.graphics.tsa.plot_acf(df_diff[\"Differenced\"], lags=7, alpha=0.05, ax=axes[0], title=\"ACF (Autocorrelation Function)\")\n",
    "\n",
    "sm.graphics.tsa.plot_pacf(df_diff[\"Differenced\"], lags=7, alpha=0.05, ax=axes[1], title=\"PACF (Partial Autocorrelation Function)\")\n",
    "\n",
    "plt.tight_layout()\n",
    "plt.show()"
   ]
  },
  {
   "cell_type": "markdown",
   "id": "d1b7d180-19e6-4c80-8e57-4fa284016262",
   "metadata": {},
   "source": [
    "Values for the lags are not significant, therefore we do not observe a moving average or autoregressive process in the series"
   ]
  },
  {
   "cell_type": "markdown",
   "id": "e253bdae-6efb-4899-b784-7ee9c3a33261",
   "metadata": {
    "tags": []
   },
   "source": [
    "### ARIMA forecast on testing dataset"
   ]
  },
  {
   "cell_type": "markdown",
   "id": "797d29dc-92f5-40c2-a027-1bbc6965cc80",
   "metadata": {},
   "source": [
    "#### Chosing best ARIMA model"
   ]
  },
  {
   "cell_type": "code",
   "execution_count": 13,
   "id": "1043a4d1-4ce6-49d8-8db4-7eb7c1c9ea11",
   "metadata": {
    "tags": []
   },
   "outputs": [],
   "source": [
    "df3 = df.set_index('year')"
   ]
  },
  {
   "cell_type": "code",
   "execution_count": 14,
   "id": "e6471b64-99db-486c-b163-d4545604acdb",
   "metadata": {
    "tags": []
   },
   "outputs": [],
   "source": [
    "train_size = len(df) - 4  \n",
    "train, test = df['ml_models'][:train_size], df['ml_models'][train_size:]\n",
    "train_years = df['year'][:train_size]\n",
    "test_years = df['year'][train_size:]"
   ]
  },
  {
   "cell_type": "markdown",
   "id": "048c59af-1dfd-4b2a-8a09-1898ad8effd1",
   "metadata": {},
   "source": [
    "Training data excludes last 4 years of the time series, it has about 80% of all observations. "
   ]
  },
  {
   "cell_type": "code",
   "execution_count": 15,
   "id": "12fd2cac-47fe-4d1e-b780-c08dcd6de411",
   "metadata": {},
   "outputs": [],
   "source": [
    "warnings.filterwarnings(\"ignore\", category=FutureWarning)\n",
    "warnings.filterwarnings(\"ignore\", category=UserWarning)"
   ]
  },
  {
   "cell_type": "code",
   "execution_count": 16,
   "id": "8f75c51c-e5e5-4a91-a1ba-9a42f00dae8f",
   "metadata": {},
   "outputs": [
    {
     "data": {
      "text/plain": [
       "year\n",
       "2003     5\n",
       "2004     1\n",
       "2005     3\n",
       "2006     4\n",
       "2007     2\n",
       "2008     4\n",
       "2009     8\n",
       "2010     5\n",
       "2011     8\n",
       "2012     5\n",
       "2013     9\n",
       "2014    11\n",
       "2015    19\n",
       "2016    30\n",
       "2017    33\n",
       "2018    32\n",
       "2019    54\n",
       "Name: ml_models, dtype: int64"
      ]
     },
     "execution_count": 16,
     "metadata": {},
     "output_type": "execute_result"
    }
   ],
   "source": [
    "train"
   ]
  },
  {
   "cell_type": "code",
   "execution_count": 17,
   "id": "99e6f0be-579b-4975-a7e5-4c5749833648",
   "metadata": {
    "tags": []
   },
   "outputs": [
    {
     "name": "stdout",
     "output_type": "stream",
     "text": [
      "Performing stepwise search to minimize aic\n",
      " ARIMA(0,2,0)(0,0,0)[0]             : AIC=105.883, Time=0.01 sec\n",
      " ARIMA(1,2,0)(0,0,0)[0]             : AIC=105.343, Time=0.01 sec\n",
      " ARIMA(0,2,1)(0,0,0)[0]             : AIC=102.990, Time=0.01 sec\n",
      " ARIMA(1,2,1)(0,0,0)[0]             : AIC=103.985, Time=0.03 sec\n",
      " ARIMA(0,2,2)(0,0,0)[0]             : AIC=102.197, Time=0.02 sec\n",
      " ARIMA(1,2,2)(0,0,0)[0]             : AIC=inf, Time=0.06 sec\n",
      " ARIMA(0,2,3)(0,0,0)[0]             : AIC=inf, Time=0.06 sec\n",
      " ARIMA(1,2,3)(0,0,0)[0]             : AIC=inf, Time=0.10 sec\n",
      " ARIMA(0,2,2)(0,0,0)[0] intercept   : AIC=inf, Time=0.07 sec\n",
      "\n",
      "Best model:  ARIMA(0,2,2)(0,0,0)[0]          \n",
      "Total fit time: 0.377 seconds\n"
     ]
    },
    {
     "data": {
      "text/html": [
       "<table class=\"simpletable\">\n",
       "<caption>SARIMAX Results</caption>\n",
       "<tr>\n",
       "  <th>Dep. Variable:</th>           <td>y</td>        <th>  No. Observations:  </th>   <td>17</td>   \n",
       "</tr>\n",
       "<tr>\n",
       "  <th>Model:</th>           <td>SARIMAX(0, 2, 2)</td> <th>  Log Likelihood     </th> <td>-48.099</td>\n",
       "</tr>\n",
       "<tr>\n",
       "  <th>Date:</th>            <td>Fri, 10 Oct 2025</td> <th>  AIC                </th> <td>102.197</td>\n",
       "</tr>\n",
       "<tr>\n",
       "  <th>Time:</th>                <td>17:52:18</td>     <th>  BIC                </th> <td>104.321</td>\n",
       "</tr>\n",
       "<tr>\n",
       "  <th>Sample:</th>                  <td>0</td>        <th>  HQIC               </th> <td>102.175</td>\n",
       "</tr>\n",
       "<tr>\n",
       "  <th></th>                       <td> - 17</td>      <th>                     </th>    <td> </td>   \n",
       "</tr>\n",
       "<tr>\n",
       "  <th>Covariance Type:</th>        <td>opg</td>       <th>                     </th>    <td> </td>   \n",
       "</tr>\n",
       "</table>\n",
       "<table class=\"simpletable\">\n",
       "<tr>\n",
       "     <td></td>       <th>coef</th>     <th>std err</th>      <th>z</th>      <th>P>|z|</th>  <th>[0.025</th>    <th>0.975]</th>  \n",
       "</tr>\n",
       "<tr>\n",
       "  <th>ma.L1</th>  <td>   -1.2214</td> <td>    0.184</td> <td>   -6.636</td> <td> 0.000</td> <td>   -1.582</td> <td>   -0.861</td>\n",
       "</tr>\n",
       "<tr>\n",
       "  <th>ma.L2</th>  <td>    0.5776</td> <td>    0.141</td> <td>    4.086</td> <td> 0.000</td> <td>    0.301</td> <td>    0.855</td>\n",
       "</tr>\n",
       "<tr>\n",
       "  <th>sigma2</th> <td>   31.8230</td> <td>   12.230</td> <td>    2.602</td> <td> 0.009</td> <td>    7.853</td> <td>   55.793</td>\n",
       "</tr>\n",
       "</table>\n",
       "<table class=\"simpletable\">\n",
       "<tr>\n",
       "  <th>Ljung-Box (L1) (Q):</th>     <td>0.12</td> <th>  Jarque-Bera (JB):  </th> <td>0.00</td> \n",
       "</tr>\n",
       "<tr>\n",
       "  <th>Prob(Q):</th>                <td>0.73</td> <th>  Prob(JB):          </th> <td>1.00</td> \n",
       "</tr>\n",
       "<tr>\n",
       "  <th>Heteroskedasticity (H):</th> <td>9.77</td> <th>  Skew:              </th> <td>-0.01</td>\n",
       "</tr>\n",
       "<tr>\n",
       "  <th>Prob(H) (two-sided):</th>    <td>0.03</td> <th>  Kurtosis:          </th> <td>2.96</td> \n",
       "</tr>\n",
       "</table><br/><br/>Warnings:<br/>[1] Covariance matrix calculated using the outer product of gradients (complex-step)."
      ],
      "text/latex": [
       "\\begin{center}\n",
       "\\begin{tabular}{lclc}\n",
       "\\toprule\n",
       "\\textbf{Dep. Variable:}          &        y         & \\textbf{  No. Observations:  } &     17      \\\\\n",
       "\\textbf{Model:}                  & SARIMAX(0, 2, 2) & \\textbf{  Log Likelihood     } &  -48.099    \\\\\n",
       "\\textbf{Date:}                   & Fri, 10 Oct 2025 & \\textbf{  AIC                } &  102.197    \\\\\n",
       "\\textbf{Time:}                   &     17:52:18     & \\textbf{  BIC                } &  104.321    \\\\\n",
       "\\textbf{Sample:}                 &        0         & \\textbf{  HQIC               } &  102.175    \\\\\n",
       "\\textbf{}                        &       - 17       & \\textbf{                     } &             \\\\\n",
       "\\textbf{Covariance Type:}        &       opg        & \\textbf{                     } &             \\\\\n",
       "\\bottomrule\n",
       "\\end{tabular}\n",
       "\\begin{tabular}{lcccccc}\n",
       "                & \\textbf{coef} & \\textbf{std err} & \\textbf{z} & \\textbf{P$> |$z$|$} & \\textbf{[0.025} & \\textbf{0.975]}  \\\\\n",
       "\\midrule\n",
       "\\textbf{ma.L1}  &      -1.2214  &        0.184     &    -6.636  &         0.000        &       -1.582    &       -0.861     \\\\\n",
       "\\textbf{ma.L2}  &       0.5776  &        0.141     &     4.086  &         0.000        &        0.301    &        0.855     \\\\\n",
       "\\textbf{sigma2} &      31.8230  &       12.230     &     2.602  &         0.009        &        7.853    &       55.793     \\\\\n",
       "\\bottomrule\n",
       "\\end{tabular}\n",
       "\\begin{tabular}{lclc}\n",
       "\\textbf{Ljung-Box (L1) (Q):}     & 0.12 & \\textbf{  Jarque-Bera (JB):  } &  0.00  \\\\\n",
       "\\textbf{Prob(Q):}                & 0.73 & \\textbf{  Prob(JB):          } &  1.00  \\\\\n",
       "\\textbf{Heteroskedasticity (H):} & 9.77 & \\textbf{  Skew:              } & -0.01  \\\\\n",
       "\\textbf{Prob(H) (two-sided):}    & 0.03 & \\textbf{  Kurtosis:          } &  2.96  \\\\\n",
       "\\bottomrule\n",
       "\\end{tabular}\n",
       "%\\caption{SARIMAX Results}\n",
       "\\end{center}\n",
       "\n",
       "Warnings: \\newline\n",
       " [1] Covariance matrix calculated using the outer product of gradients (complex-step)."
      ],
      "text/plain": [
       "<class 'statsmodels.iolib.summary.Summary'>\n",
       "\"\"\"\n",
       "                               SARIMAX Results                                \n",
       "==============================================================================\n",
       "Dep. Variable:                      y   No. Observations:                   17\n",
       "Model:               SARIMAX(0, 2, 2)   Log Likelihood                 -48.099\n",
       "Date:                Fri, 10 Oct 2025   AIC                            102.197\n",
       "Time:                        17:52:18   BIC                            104.321\n",
       "Sample:                             0   HQIC                           102.175\n",
       "                                 - 17                                         \n",
       "Covariance Type:                  opg                                         \n",
       "==============================================================================\n",
       "                 coef    std err          z      P>|z|      [0.025      0.975]\n",
       "------------------------------------------------------------------------------\n",
       "ma.L1         -1.2214      0.184     -6.636      0.000      -1.582      -0.861\n",
       "ma.L2          0.5776      0.141      4.086      0.000       0.301       0.855\n",
       "sigma2        31.8230     12.230      2.602      0.009       7.853      55.793\n",
       "===================================================================================\n",
       "Ljung-Box (L1) (Q):                   0.12   Jarque-Bera (JB):                 0.00\n",
       "Prob(Q):                              0.73   Prob(JB):                         1.00\n",
       "Heteroskedasticity (H):               9.77   Skew:                            -0.01\n",
       "Prob(H) (two-sided):                  0.03   Kurtosis:                         2.96\n",
       "===================================================================================\n",
       "\n",
       "Warnings:\n",
       "[1] Covariance matrix calculated using the outer product of gradients (complex-step).\n",
       "\"\"\""
      ]
     },
     "execution_count": 17,
     "metadata": {},
     "output_type": "execute_result"
    }
   ],
   "source": [
    "stepwise_fit = auto_arima(train, trace=True, start_p=0, start_d=1, start_q=0, information_criterion='aic', test='adf',\n",
    "suppress_warnings=True)\n",
    "\n",
    "stepwise_fit.summary()"
   ]
  },
  {
   "cell_type": "code",
   "execution_count": 18,
   "id": "6aa0d609-0f97-4081-ab72-0c88f4fa2010",
   "metadata": {
    "tags": []
   },
   "outputs": [
    {
     "name": "stdout",
     "output_type": "stream",
     "text": [
      "Performing stepwise search to minimize bic\n",
      " ARIMA(0,2,0)(0,0,0)[0]             : BIC=106.591, Time=0.01 sec\n",
      " ARIMA(1,2,0)(0,0,0)[0]             : BIC=106.759, Time=0.01 sec\n",
      " ARIMA(0,2,1)(0,0,0)[0]             : BIC=104.406, Time=0.01 sec\n",
      " ARIMA(1,2,1)(0,0,0)[0]             : BIC=106.109, Time=0.03 sec\n",
      " ARIMA(0,2,2)(0,0,0)[0]             : BIC=104.321, Time=0.02 sec\n",
      " ARIMA(1,2,2)(0,0,0)[0]             : BIC=inf, Time=0.07 sec\n",
      " ARIMA(0,2,3)(0,0,0)[0]             : BIC=inf, Time=0.06 sec\n",
      " ARIMA(1,2,3)(0,0,0)[0]             : BIC=inf, Time=0.09 sec\n",
      " ARIMA(0,2,2)(0,0,0)[0] intercept   : BIC=inf, Time=0.07 sec\n",
      "\n",
      "Best model:  ARIMA(0,2,2)(0,0,0)[0]          \n",
      "Total fit time: 0.362 seconds\n"
     ]
    },
    {
     "data": {
      "text/html": [
       "<table class=\"simpletable\">\n",
       "<caption>SARIMAX Results</caption>\n",
       "<tr>\n",
       "  <th>Dep. Variable:</th>           <td>y</td>        <th>  No. Observations:  </th>   <td>17</td>   \n",
       "</tr>\n",
       "<tr>\n",
       "  <th>Model:</th>           <td>SARIMAX(0, 2, 2)</td> <th>  Log Likelihood     </th> <td>-48.099</td>\n",
       "</tr>\n",
       "<tr>\n",
       "  <th>Date:</th>            <td>Fri, 10 Oct 2025</td> <th>  AIC                </th> <td>102.197</td>\n",
       "</tr>\n",
       "<tr>\n",
       "  <th>Time:</th>                <td>17:52:19</td>     <th>  BIC                </th> <td>104.321</td>\n",
       "</tr>\n",
       "<tr>\n",
       "  <th>Sample:</th>                  <td>0</td>        <th>  HQIC               </th> <td>102.175</td>\n",
       "</tr>\n",
       "<tr>\n",
       "  <th></th>                       <td> - 17</td>      <th>                     </th>    <td> </td>   \n",
       "</tr>\n",
       "<tr>\n",
       "  <th>Covariance Type:</th>        <td>opg</td>       <th>                     </th>    <td> </td>   \n",
       "</tr>\n",
       "</table>\n",
       "<table class=\"simpletable\">\n",
       "<tr>\n",
       "     <td></td>       <th>coef</th>     <th>std err</th>      <th>z</th>      <th>P>|z|</th>  <th>[0.025</th>    <th>0.975]</th>  \n",
       "</tr>\n",
       "<tr>\n",
       "  <th>ma.L1</th>  <td>   -1.2214</td> <td>    0.184</td> <td>   -6.636</td> <td> 0.000</td> <td>   -1.582</td> <td>   -0.861</td>\n",
       "</tr>\n",
       "<tr>\n",
       "  <th>ma.L2</th>  <td>    0.5776</td> <td>    0.141</td> <td>    4.086</td> <td> 0.000</td> <td>    0.301</td> <td>    0.855</td>\n",
       "</tr>\n",
       "<tr>\n",
       "  <th>sigma2</th> <td>   31.8230</td> <td>   12.230</td> <td>    2.602</td> <td> 0.009</td> <td>    7.853</td> <td>   55.793</td>\n",
       "</tr>\n",
       "</table>\n",
       "<table class=\"simpletable\">\n",
       "<tr>\n",
       "  <th>Ljung-Box (L1) (Q):</th>     <td>0.12</td> <th>  Jarque-Bera (JB):  </th> <td>0.00</td> \n",
       "</tr>\n",
       "<tr>\n",
       "  <th>Prob(Q):</th>                <td>0.73</td> <th>  Prob(JB):          </th> <td>1.00</td> \n",
       "</tr>\n",
       "<tr>\n",
       "  <th>Heteroskedasticity (H):</th> <td>9.77</td> <th>  Skew:              </th> <td>-0.01</td>\n",
       "</tr>\n",
       "<tr>\n",
       "  <th>Prob(H) (two-sided):</th>    <td>0.03</td> <th>  Kurtosis:          </th> <td>2.96</td> \n",
       "</tr>\n",
       "</table><br/><br/>Warnings:<br/>[1] Covariance matrix calculated using the outer product of gradients (complex-step)."
      ],
      "text/latex": [
       "\\begin{center}\n",
       "\\begin{tabular}{lclc}\n",
       "\\toprule\n",
       "\\textbf{Dep. Variable:}          &        y         & \\textbf{  No. Observations:  } &     17      \\\\\n",
       "\\textbf{Model:}                  & SARIMAX(0, 2, 2) & \\textbf{  Log Likelihood     } &  -48.099    \\\\\n",
       "\\textbf{Date:}                   & Fri, 10 Oct 2025 & \\textbf{  AIC                } &  102.197    \\\\\n",
       "\\textbf{Time:}                   &     17:52:19     & \\textbf{  BIC                } &  104.321    \\\\\n",
       "\\textbf{Sample:}                 &        0         & \\textbf{  HQIC               } &  102.175    \\\\\n",
       "\\textbf{}                        &       - 17       & \\textbf{                     } &             \\\\\n",
       "\\textbf{Covariance Type:}        &       opg        & \\textbf{                     } &             \\\\\n",
       "\\bottomrule\n",
       "\\end{tabular}\n",
       "\\begin{tabular}{lcccccc}\n",
       "                & \\textbf{coef} & \\textbf{std err} & \\textbf{z} & \\textbf{P$> |$z$|$} & \\textbf{[0.025} & \\textbf{0.975]}  \\\\\n",
       "\\midrule\n",
       "\\textbf{ma.L1}  &      -1.2214  &        0.184     &    -6.636  &         0.000        &       -1.582    &       -0.861     \\\\\n",
       "\\textbf{ma.L2}  &       0.5776  &        0.141     &     4.086  &         0.000        &        0.301    &        0.855     \\\\\n",
       "\\textbf{sigma2} &      31.8230  &       12.230     &     2.602  &         0.009        &        7.853    &       55.793     \\\\\n",
       "\\bottomrule\n",
       "\\end{tabular}\n",
       "\\begin{tabular}{lclc}\n",
       "\\textbf{Ljung-Box (L1) (Q):}     & 0.12 & \\textbf{  Jarque-Bera (JB):  } &  0.00  \\\\\n",
       "\\textbf{Prob(Q):}                & 0.73 & \\textbf{  Prob(JB):          } &  1.00  \\\\\n",
       "\\textbf{Heteroskedasticity (H):} & 9.77 & \\textbf{  Skew:              } & -0.01  \\\\\n",
       "\\textbf{Prob(H) (two-sided):}    & 0.03 & \\textbf{  Kurtosis:          } &  2.96  \\\\\n",
       "\\bottomrule\n",
       "\\end{tabular}\n",
       "%\\caption{SARIMAX Results}\n",
       "\\end{center}\n",
       "\n",
       "Warnings: \\newline\n",
       " [1] Covariance matrix calculated using the outer product of gradients (complex-step)."
      ],
      "text/plain": [
       "<class 'statsmodels.iolib.summary.Summary'>\n",
       "\"\"\"\n",
       "                               SARIMAX Results                                \n",
       "==============================================================================\n",
       "Dep. Variable:                      y   No. Observations:                   17\n",
       "Model:               SARIMAX(0, 2, 2)   Log Likelihood                 -48.099\n",
       "Date:                Fri, 10 Oct 2025   AIC                            102.197\n",
       "Time:                        17:52:19   BIC                            104.321\n",
       "Sample:                             0   HQIC                           102.175\n",
       "                                 - 17                                         \n",
       "Covariance Type:                  opg                                         \n",
       "==============================================================================\n",
       "                 coef    std err          z      P>|z|      [0.025      0.975]\n",
       "------------------------------------------------------------------------------\n",
       "ma.L1         -1.2214      0.184     -6.636      0.000      -1.582      -0.861\n",
       "ma.L2          0.5776      0.141      4.086      0.000       0.301       0.855\n",
       "sigma2        31.8230     12.230      2.602      0.009       7.853      55.793\n",
       "===================================================================================\n",
       "Ljung-Box (L1) (Q):                   0.12   Jarque-Bera (JB):                 0.00\n",
       "Prob(Q):                              0.73   Prob(JB):                         1.00\n",
       "Heteroskedasticity (H):               9.77   Skew:                            -0.01\n",
       "Prob(H) (two-sided):                  0.03   Kurtosis:                         2.96\n",
       "===================================================================================\n",
       "\n",
       "Warnings:\n",
       "[1] Covariance matrix calculated using the outer product of gradients (complex-step).\n",
       "\"\"\""
      ]
     },
     "execution_count": 18,
     "metadata": {},
     "output_type": "execute_result"
    }
   ],
   "source": [
    "stepwise_fit = auto_arima(train, trace=True, start_p=0, start_d=1, start_q=0, information_criterion='bic', test='adf',\n",
    "suppress_warnings=True)\n",
    "\n",
    "stepwise_fit.summary()"
   ]
  },
  {
   "cell_type": "markdown",
   "id": "e3eecccf-593d-405c-b643-1d08c746f28b",
   "metadata": {},
   "source": [
    "ARIMA (0,2,2) has the best information criteria values for both tests."
   ]
  },
  {
   "cell_type": "markdown",
   "id": "f37e5e59-8d30-4264-b676-cad6a3611247",
   "metadata": {
    "tags": []
   },
   "source": [
    "#### ARIMA (0,2,2) on testing dataset forecast"
   ]
  },
  {
   "cell_type": "code",
   "execution_count": 19,
   "id": "fe76c0f0-358f-4891-bdcc-d3fc9825e4d3",
   "metadata": {
    "tags": []
   },
   "outputs": [],
   "source": [
    "sarima=ARIMA(train,order=(0,2,2))\n",
    "predicted2=sarima.fit()"
   ]
  },
  {
   "cell_type": "code",
   "execution_count": 20,
   "id": "0f92b27d-cf86-4774-8101-dc85d5dd88fb",
   "metadata": {
    "tags": []
   },
   "outputs": [
    {
     "name": "stdout",
     "output_type": "stream",
     "text": [
      "                               SARIMAX Results                                \n",
      "==============================================================================\n",
      "Dep. Variable:              ml_models   No. Observations:                   17\n",
      "Model:                 ARIMA(0, 2, 2)   Log Likelihood                 -48.099\n",
      "Date:                Fri, 10 Oct 2025   AIC                            102.197\n",
      "Time:                        17:52:19   BIC                            104.321\n",
      "Sample:                             0   HQIC                           102.175\n",
      "                                 - 17                                         \n",
      "Covariance Type:                  opg                                         \n",
      "==============================================================================\n",
      "                 coef    std err          z      P>|z|      [0.025      0.975]\n",
      "------------------------------------------------------------------------------\n",
      "ma.L1         -1.2214      0.184     -6.636      0.000      -1.582      -0.861\n",
      "ma.L2          0.5776      0.141      4.086      0.000       0.301       0.855\n",
      "sigma2        31.8230     12.230      2.602      0.009       7.853      55.793\n",
      "===================================================================================\n",
      "Ljung-Box (L1) (Q):                   0.12   Jarque-Bera (JB):                 0.00\n",
      "Prob(Q):                              0.73   Prob(JB):                         1.00\n",
      "Heteroskedasticity (H):               9.77   Skew:                            -0.01\n",
      "Prob(H) (two-sided):                  0.03   Kurtosis:                         2.96\n",
      "===================================================================================\n",
      "\n",
      "Warnings:\n",
      "[1] Covariance matrix calculated using the outer product of gradients (complex-step).\n"
     ]
    }
   ],
   "source": [
    "print(predicted2.summary())"
   ]
  },
  {
   "cell_type": "code",
   "execution_count": 21,
   "id": "0fbcd87e-7289-4cc2-a16a-be4728665d2b",
   "metadata": {
    "tags": []
   },
   "outputs": [
    {
     "data": {
      "image/png": "[encoded data removed]",
      "text/plain": [
       "<Figure size 1200x600 with 1 Axes>"
      ]
     },
     "metadata": {},
     "output_type": "display_data"
    }
   ],
   "source": [
    "forecast_steps = 4\n",
    "forecast_result = predicted2.get_forecast(steps=forecast_steps)\n",
    "forecast_mean = forecast_result.predicted_mean\n",
    "forecast_ci = forecast_result.conf_int()\n",
    "\n",
    "future_years = test_years.values\n",
    "\n",
    "plt.figure(figsize=(12, 6))\n",
    "plt.plot(train_years, train, label='Testing datset', marker='o')\n",
    "plt.plot(test_years, test, label='Testing dataset', color='orange', marker='o')\n",
    "plt.plot(future_years, forecast_mean, label='Forecast for testing dataset', marker='x', linestyle='--', color='red')\n",
    "plt.fill_between(future_years, forecast_ci.iloc[:, 0], forecast_ci.iloc[:, 1], color='orange', alpha=0.2, label='95% Confidence interval')\n",
    "\n",
    "plt.xlabel('Year')\n",
    "plt.ylabel('Number of machine learning models')\n",
    "plt.title('')\n",
    "plt.legend()\n",
    "plt.ylim(0, 120) \n",
    "plt.xticks(xticks_filtered)\n",
    "plt.grid(True)\n",
    "plt.show()"
   ]
  },
  {
   "cell_type": "markdown",
   "id": "02854bd3-5475-445d-b169-13ad0d508c0d",
   "metadata": {},
   "source": [
    "The forecast significantly overestimated the actual values, indicating that the dynamic growth rate of the number of important machine learning models will continue in the coming years."
   ]
  },
  {
   "cell_type": "code",
   "execution_count": 22,
   "id": "45f26af8-4e32-48c8-94c1-b649208c6010",
   "metadata": {
    "tags": []
   },
   "outputs": [
    {
     "data": {
      "text/plain": [
       "year\n",
       "2020    2020\n",
       "2021    2021\n",
       "2022    2022\n",
       "2023    2023\n",
       "Name: year, dtype: int64"
      ]
     },
     "execution_count": 22,
     "metadata": {},
     "output_type": "execute_result"
    }
   ],
   "source": [
    "test_years"
   ]
  },
  {
   "cell_type": "code",
   "execution_count": 23,
   "id": "6eb848ed-efe0-4329-a08a-f0e20e500dea",
   "metadata": {
    "tags": []
   },
   "outputs": [],
   "source": [
    "residuals2 = predicted2.resid"
   ]
  },
  {
   "cell_type": "code",
   "execution_count": 24,
   "id": "8d84146b-3a3a-4487-aeb8-4133455157ef",
   "metadata": {
    "tags": []
   },
   "outputs": [
    {
     "data": {
      "text/plain": [
       "year\n",
       "2003    0.00000000\n",
       "2004    7.49995910\n",
       "2005   -2.99927644\n",
       "2006    0.90828420\n",
       "2007    3.09050071\n",
       "2008    2.45048304\n",
       "2009    3.59154936\n",
       "2010    7.57118425\n",
       "2011    7.56439865\n",
       "2012    9.02763527\n",
       "2013    7.15315073\n",
       "2014    8.43817562\n",
       "2015   10.93860305\n",
       "2016   18.64107733\n",
       "2017   31.78147969\n",
       "2018   41.06520184\n",
       "2019   42.77521040\n",
       "Name: predicted_mean, dtype: float64"
      ]
     },
     "execution_count": 24,
     "metadata": {},
     "output_type": "execute_result"
    }
   ],
   "source": [
    "predicted2=sarima.fit().predict();predicted2"
   ]
  },
  {
   "cell_type": "code",
   "execution_count": 25,
   "id": "40c3eaf9-f863-4425-a561-69da94789743",
   "metadata": {
    "tags": []
   },
   "outputs": [
    {
     "name": "stdout",
     "output_type": "stream",
     "text": [
      "MSE: 508.14\n",
      "RMSE: 22.54\n",
      "MAE: 22.36\n",
      "MAPE: 46.00%\n",
      "R-squared: -6.70\n"
     ]
    }
   ],
   "source": [
    "actual_values = test.values\n",
    "predicted_values = forecast_mean.values\n",
    "\n",
    "mse_art = mean_squared_error(actual_values, predicted_values)\n",
    "rmse_art = np.sqrt(mse_art)\n",
    "mae_art = mean_absolute_error(actual_values, predicted_values)\n",
    "mape_art = np.mean(np.abs((actual_values - predicted_values) / actual_values)) * 100\n",
    "r2_art = r2_score(actual_values, predicted_values)\n",
    "\n",
    "print(f\"MSE: {mse_art:.2f}\")\n",
    "print(f\"RMSE: {rmse_art:.2f}\")\n",
    "print(f\"MAE: {mae_art:.2f}\")\n",
    "print(f\"MAPE: {mape_art:.2f}%\")\n",
    "print(f\"R-squared: {r2_art:.2f}\")"
   ]
  },
  {
   "cell_type": "code",
   "execution_count": 26,
   "id": "217ee3a6-f8ff-4b2d-8089-531ab295ac2f",
   "metadata": {
    "tags": []
   },
   "outputs": [
    {
     "name": "stdout",
     "output_type": "stream",
     "text": [
      "Test Shapiro–Wilka: statystyka = 0.9786, p-value = 0.9433\n"
     ]
    }
   ],
   "source": [
    "shapiro_stat, shapiro_p = shapiro(residuals2)\n",
    "print(f\"Test Shapiro–Wilka: statystyka = {shapiro_stat:.4f}, p-value = {shapiro_p:.4f}\")"
   ]
  },
  {
   "cell_type": "code",
   "execution_count": 27,
   "id": "ee905f65-08c6-4638-a683-adbca2cfd354",
   "metadata": {
    "tags": []
   },
   "outputs": [
    {
     "name": "stdout",
     "output_type": "stream",
     "text": [
      "ARCH test p-value: 0.1752\n"
     ]
    }
   ],
   "source": [
    "from statsmodels.stats.diagnostic import het_arch\n",
    "\n",
    "arch_test = het_arch(residuals2)\n",
    "print(f\"ARCH test p-value: {arch_test[1]:.4f}\")"
   ]
  },
  {
   "cell_type": "code",
   "execution_count": 28,
   "id": "2e734552-784d-48be-abce-3d139e744cd2",
   "metadata": {
    "scrolled": true,
    "tags": []
   },
   "outputs": [
    {
     "data": {
      "text/plain": [
       "Text(0.5, 1.0, 'Barplot of Residuals')"
      ]
     },
     "execution_count": 28,
     "metadata": {},
     "output_type": "execute_result"
    },
    {
     "data": {
      "image/png": "[encoded data removed]",
      "text/plain": [
       "<Figure size 640x480 with 1 Axes>"
      ]
     },
     "metadata": {},
     "output_type": "display_data"
    }
   ],
   "source": [
    "plt.hist(residuals2, bins=20, edgecolor=\"black\", density=True)\n",
    "plt.title(\"Barplot of Residuals\")"
   ]
  },
  {
   "cell_type": "markdown",
   "id": "7c9ad1d8-58f4-40a4-8bb4-ecabc1738822",
   "metadata": {},
   "source": [
    "The ARIMA model's prediction errors are considered very high. The mean absolute percentage error of 46% is unacceptable. The Shapiro-Wilk test assumes the null hypothesis of a normal residual distribution. Based on the p-value from the ARCH test, the variance of the model's residuals is homoscedastic. The test results suggest that the model was correctly selected for the data and that no additional data transformation was necessary."
   ]
  },
  {
   "cell_type": "markdown",
   "id": "c4364fc5-bdae-4c33-b285-98e44e15d1ae",
   "metadata": {},
   "source": [
    "### ARIMA forecast on full dataset"
   ]
  },
  {
   "cell_type": "markdown",
   "id": "606f270f-179d-4888-9035-3336e40ca144",
   "metadata": {},
   "source": [
    "#### Choosing best ARIMA model"
   ]
  },
  {
   "cell_type": "code",
   "execution_count": 29,
   "id": "b5477c21-9520-4658-b873-2a52b0dea1b2",
   "metadata": {
    "tags": []
   },
   "outputs": [
    {
     "name": "stdout",
     "output_type": "stream",
     "text": [
      "<class 'pandas.core.frame.DataFrame'>\n",
      "Index: 21 entries, 2003 to 2023\n",
      "Data columns (total 6 columns):\n",
      " #   Column         Non-Null Count  Dtype\n",
      "---  ------         --------------  -----\n",
      " 0   year           21 non-null     int64\n",
      " 1   ml_models      21 non-null     int64\n",
      " 2   time           21 non-null     int64\n",
      " 3   timesq         21 non-null     int64\n",
      " 4   year_centered  21 non-null     int64\n",
      " 5   year_squared   21 non-null     int64\n",
      "dtypes: int64(6)\n",
      "memory usage: 1.1 KB\n"
     ]
    },
    {
     "data": {
      "text/html": [
       "<div>\n",
       "<style scoped>\n",
       "    .dataframe tbody tr th:only-of-type {\n",
       "        vertical-align: middle;\n",
       "    }\n",
       "\n",
       "    .dataframe tbody tr th {\n",
       "        vertical-align: top;\n",
       "    }\n",
       "\n",
       "    .dataframe thead th {\n",
       "        text-align: right;\n",
       "    }\n",
       "</style>\n",
       "<table border=\"1\" class=\"dataframe\">\n",
       "  <thead>\n",
       "    <tr style=\"text-align: right;\">\n",
       "      <th></th>\n",
       "      <th>ml_models</th>\n",
       "      <th>time</th>\n",
       "      <th>timesq</th>\n",
       "      <th>year_centered</th>\n",
       "      <th>year_squared</th>\n",
       "    </tr>\n",
       "    <tr>\n",
       "      <th>year</th>\n",
       "      <th></th>\n",
       "      <th></th>\n",
       "      <th></th>\n",
       "      <th></th>\n",
       "      <th></th>\n",
       "    </tr>\n",
       "  </thead>\n",
       "  <tbody>\n",
       "    <tr>\n",
       "      <th>2003</th>\n",
       "      <td>5</td>\n",
       "      <td>2003</td>\n",
       "      <td>4012009</td>\n",
       "      <td>0</td>\n",
       "      <td>0</td>\n",
       "    </tr>\n",
       "    <tr>\n",
       "      <th>2004</th>\n",
       "      <td>1</td>\n",
       "      <td>2004</td>\n",
       "      <td>4016016</td>\n",
       "      <td>1</td>\n",
       "      <td>1</td>\n",
       "    </tr>\n",
       "    <tr>\n",
       "      <th>2005</th>\n",
       "      <td>3</td>\n",
       "      <td>2005</td>\n",
       "      <td>4020025</td>\n",
       "      <td>2</td>\n",
       "      <td>4</td>\n",
       "    </tr>\n",
       "    <tr>\n",
       "      <th>2006</th>\n",
       "      <td>4</td>\n",
       "      <td>2006</td>\n",
       "      <td>4024036</td>\n",
       "      <td>3</td>\n",
       "      <td>9</td>\n",
       "    </tr>\n",
       "    <tr>\n",
       "      <th>2007</th>\n",
       "      <td>2</td>\n",
       "      <td>2007</td>\n",
       "      <td>4028049</td>\n",
       "      <td>4</td>\n",
       "      <td>16</td>\n",
       "    </tr>\n",
       "    <tr>\n",
       "      <th>2008</th>\n",
       "      <td>4</td>\n",
       "      <td>2008</td>\n",
       "      <td>4032064</td>\n",
       "      <td>5</td>\n",
       "      <td>25</td>\n",
       "    </tr>\n",
       "    <tr>\n",
       "      <th>2009</th>\n",
       "      <td>8</td>\n",
       "      <td>2009</td>\n",
       "      <td>4036081</td>\n",
       "      <td>6</td>\n",
       "      <td>36</td>\n",
       "    </tr>\n",
       "    <tr>\n",
       "      <th>2010</th>\n",
       "      <td>5</td>\n",
       "      <td>2010</td>\n",
       "      <td>4040100</td>\n",
       "      <td>7</td>\n",
       "      <td>49</td>\n",
       "    </tr>\n",
       "    <tr>\n",
       "      <th>2011</th>\n",
       "      <td>8</td>\n",
       "      <td>2011</td>\n",
       "      <td>4044121</td>\n",
       "      <td>8</td>\n",
       "      <td>64</td>\n",
       "    </tr>\n",
       "    <tr>\n",
       "      <th>2012</th>\n",
       "      <td>5</td>\n",
       "      <td>2012</td>\n",
       "      <td>4048144</td>\n",
       "      <td>9</td>\n",
       "      <td>81</td>\n",
       "    </tr>\n",
       "    <tr>\n",
       "      <th>2013</th>\n",
       "      <td>9</td>\n",
       "      <td>2013</td>\n",
       "      <td>4052169</td>\n",
       "      <td>10</td>\n",
       "      <td>100</td>\n",
       "    </tr>\n",
       "    <tr>\n",
       "      <th>2014</th>\n",
       "      <td>11</td>\n",
       "      <td>2014</td>\n",
       "      <td>4056196</td>\n",
       "      <td>11</td>\n",
       "      <td>121</td>\n",
       "    </tr>\n",
       "    <tr>\n",
       "      <th>2015</th>\n",
       "      <td>19</td>\n",
       "      <td>2015</td>\n",
       "      <td>4060225</td>\n",
       "      <td>12</td>\n",
       "      <td>144</td>\n",
       "    </tr>\n",
       "    <tr>\n",
       "      <th>2016</th>\n",
       "      <td>30</td>\n",
       "      <td>2016</td>\n",
       "      <td>4064256</td>\n",
       "      <td>13</td>\n",
       "      <td>169</td>\n",
       "    </tr>\n",
       "    <tr>\n",
       "      <th>2017</th>\n",
       "      <td>33</td>\n",
       "      <td>2017</td>\n",
       "      <td>4068289</td>\n",
       "      <td>14</td>\n",
       "      <td>196</td>\n",
       "    </tr>\n",
       "    <tr>\n",
       "      <th>2018</th>\n",
       "      <td>32</td>\n",
       "      <td>2018</td>\n",
       "      <td>4072324</td>\n",
       "      <td>15</td>\n",
       "      <td>225</td>\n",
       "    </tr>\n",
       "    <tr>\n",
       "      <th>2019</th>\n",
       "      <td>54</td>\n",
       "      <td>2019</td>\n",
       "      <td>4076361</td>\n",
       "      <td>16</td>\n",
       "      <td>256</td>\n",
       "    </tr>\n",
       "    <tr>\n",
       "      <th>2020</th>\n",
       "      <td>39</td>\n",
       "      <td>2020</td>\n",
       "      <td>4080400</td>\n",
       "      <td>17</td>\n",
       "      <td>289</td>\n",
       "    </tr>\n",
       "    <tr>\n",
       "      <th>2021</th>\n",
       "      <td>45</td>\n",
       "      <td>2021</td>\n",
       "      <td>4084441</td>\n",
       "      <td>18</td>\n",
       "      <td>324</td>\n",
       "    </tr>\n",
       "    <tr>\n",
       "      <th>2022</th>\n",
       "      <td>51</td>\n",
       "      <td>2022</td>\n",
       "      <td>4088484</td>\n",
       "      <td>19</td>\n",
       "      <td>361</td>\n",
       "    </tr>\n",
       "    <tr>\n",
       "      <th>2023</th>\n",
       "      <td>61</td>\n",
       "      <td>2023</td>\n",
       "      <td>4092529</td>\n",
       "      <td>20</td>\n",
       "      <td>400</td>\n",
       "    </tr>\n",
       "  </tbody>\n",
       "</table>\n",
       "</div>"
      ],
      "text/plain": [
       "      ml_models  time   timesq  year_centered  year_squared\n",
       "year                                                       \n",
       "2003          5  2003  4012009              0             0\n",
       "2004          1  2004  4016016              1             1\n",
       "2005          3  2005  4020025              2             4\n",
       "2006          4  2006  4024036              3             9\n",
       "2007          2  2007  4028049              4            16\n",
       "2008          4  2008  4032064              5            25\n",
       "2009          8  2009  4036081              6            36\n",
       "2010          5  2010  4040100              7            49\n",
       "2011          8  2011  4044121              8            64\n",
       "2012          5  2012  4048144              9            81\n",
       "2013          9  2013  4052169             10           100\n",
       "2014         11  2014  4056196             11           121\n",
       "2015         19  2015  4060225             12           144\n",
       "2016         30  2016  4064256             13           169\n",
       "2017         33  2017  4068289             14           196\n",
       "2018         32  2018  4072324             15           225\n",
       "2019         54  2019  4076361             16           256\n",
       "2020         39  2020  4080400             17           289\n",
       "2021         45  2021  4084441             18           324\n",
       "2022         51  2022  4088484             19           361\n",
       "2023         61  2023  4092529             20           400"
      ]
     },
     "execution_count": 29,
     "metadata": {},
     "output_type": "execute_result"
    }
   ],
   "source": [
    "df.info()\n",
    "df2 = df.set_index('year')\n",
    "df2"
   ]
  },
  {
   "cell_type": "code",
   "execution_count": 30,
   "id": "0512d0f8-f9ab-4cd7-9f44-61b9b5f0fb67",
   "metadata": {
    "tags": []
   },
   "outputs": [],
   "source": [
    "warnings.filterwarnings('ignore')"
   ]
  },
  {
   "cell_type": "code",
   "execution_count": 31,
   "id": "a00cbc4a-ad85-47b2-b9a2-649cd4a52703",
   "metadata": {
    "tags": []
   },
   "outputs": [
    {
     "name": "stdout",
     "output_type": "stream",
     "text": [
      "Performing stepwise search to minimize aic\n",
      " ARIMA(0,2,0)(0,0,0)[0]             : AIC=150.235, Time=0.01 sec\n",
      " ARIMA(1,2,0)(0,0,0)[0]             : AIC=140.532, Time=0.01 sec\n",
      " ARIMA(0,2,1)(0,0,0)[0]             : AIC=136.365, Time=0.02 sec\n",
      " ARIMA(1,2,1)(0,0,0)[0]             : AIC=134.573, Time=0.02 sec\n",
      " ARIMA(2,2,1)(0,0,0)[0]             : AIC=135.819, Time=0.02 sec\n",
      " ARIMA(1,2,2)(0,0,0)[0]             : AIC=135.944, Time=0.02 sec\n",
      " ARIMA(0,2,2)(0,0,0)[0]             : AIC=134.179, Time=0.02 sec\n",
      " ARIMA(0,2,3)(0,0,0)[0]             : AIC=135.780, Time=0.03 sec\n",
      " ARIMA(1,2,3)(0,0,0)[0]             : AIC=inf, Time=0.11 sec\n",
      " ARIMA(0,2,2)(0,0,0)[0] intercept   : AIC=inf, Time=0.07 sec\n",
      "\n",
      "Best model:  ARIMA(0,2,2)(0,0,0)[0]          \n",
      "Total fit time: 0.340 seconds\n"
     ]
    },
    {
     "data": {
      "text/html": [
       "<table class=\"simpletable\">\n",
       "<caption>SARIMAX Results</caption>\n",
       "<tr>\n",
       "  <th>Dep. Variable:</th>           <td>y</td>        <th>  No. Observations:  </th>   <td>21</td>   \n",
       "</tr>\n",
       "<tr>\n",
       "  <th>Model:</th>           <td>SARIMAX(0, 2, 2)</td> <th>  Log Likelihood     </th> <td>-64.089</td>\n",
       "</tr>\n",
       "<tr>\n",
       "  <th>Date:</th>            <td>Fri, 10 Oct 2025</td> <th>  AIC                </th> <td>134.179</td>\n",
       "</tr>\n",
       "<tr>\n",
       "  <th>Time:</th>                <td>17:52:20</td>     <th>  BIC                </th> <td>137.012</td>\n",
       "</tr>\n",
       "<tr>\n",
       "  <th>Sample:</th>                  <td>0</td>        <th>  HQIC               </th> <td>134.658</td>\n",
       "</tr>\n",
       "<tr>\n",
       "  <th></th>                       <td> - 21</td>      <th>                     </th>    <td> </td>   \n",
       "</tr>\n",
       "<tr>\n",
       "  <th>Covariance Type:</th>        <td>opg</td>       <th>                     </th>    <td> </td>   \n",
       "</tr>\n",
       "</table>\n",
       "<table class=\"simpletable\">\n",
       "<tr>\n",
       "     <td></td>       <th>coef</th>     <th>std err</th>      <th>z</th>      <th>P>|z|</th>  <th>[0.025</th>    <th>0.975]</th>  \n",
       "</tr>\n",
       "<tr>\n",
       "  <th>ma.L1</th>  <td>   -1.2831</td> <td>    0.227</td> <td>   -5.650</td> <td> 0.000</td> <td>   -1.728</td> <td>   -0.838</td>\n",
       "</tr>\n",
       "<tr>\n",
       "  <th>ma.L2</th>  <td>    0.4560</td> <td>    0.235</td> <td>    1.938</td> <td> 0.053</td> <td>   -0.005</td> <td>    0.917</td>\n",
       "</tr>\n",
       "<tr>\n",
       "  <th>sigma2</th> <td>   44.9231</td> <td>   14.882</td> <td>    3.019</td> <td> 0.003</td> <td>   15.756</td> <td>   74.091</td>\n",
       "</tr>\n",
       "</table>\n",
       "<table class=\"simpletable\">\n",
       "<tr>\n",
       "  <th>Ljung-Box (L1) (Q):</th>     <td>0.54</td>  <th>  Jarque-Bera (JB):  </th> <td>1.14</td> \n",
       "</tr>\n",
       "<tr>\n",
       "  <th>Prob(Q):</th>                <td>0.46</td>  <th>  Prob(JB):          </th> <td>0.57</td> \n",
       "</tr>\n",
       "<tr>\n",
       "  <th>Heteroskedasticity (H):</th> <td>11.96</td> <th>  Skew:              </th> <td>-0.29</td>\n",
       "</tr>\n",
       "<tr>\n",
       "  <th>Prob(H) (two-sided):</th>    <td>0.01</td>  <th>  Kurtosis:          </th> <td>4.05</td> \n",
       "</tr>\n",
       "</table><br/><br/>Warnings:<br/>[1] Covariance matrix calculated using the outer product of gradients (complex-step)."
      ],
      "text/latex": [
       "\\begin{center}\n",
       "\\begin{tabular}{lclc}\n",
       "\\toprule\n",
       "\\textbf{Dep. Variable:}          &        y         & \\textbf{  No. Observations:  } &     21      \\\\\n",
       "\\textbf{Model:}                  & SARIMAX(0, 2, 2) & \\textbf{  Log Likelihood     } &  -64.089    \\\\\n",
       "\\textbf{Date:}                   & Fri, 10 Oct 2025 & \\textbf{  AIC                } &  134.179    \\\\\n",
       "\\textbf{Time:}                   &     17:52:20     & \\textbf{  BIC                } &  137.012    \\\\\n",
       "\\textbf{Sample:}                 &        0         & \\textbf{  HQIC               } &  134.658    \\\\\n",
       "\\textbf{}                        &       - 21       & \\textbf{                     } &             \\\\\n",
       "\\textbf{Covariance Type:}        &       opg        & \\textbf{                     } &             \\\\\n",
       "\\bottomrule\n",
       "\\end{tabular}\n",
       "\\begin{tabular}{lcccccc}\n",
       "                & \\textbf{coef} & \\textbf{std err} & \\textbf{z} & \\textbf{P$> |$z$|$} & \\textbf{[0.025} & \\textbf{0.975]}  \\\\\n",
       "\\midrule\n",
       "\\textbf{ma.L1}  &      -1.2831  &        0.227     &    -5.650  &         0.000        &       -1.728    &       -0.838     \\\\\n",
       "\\textbf{ma.L2}  &       0.4560  &        0.235     &     1.938  &         0.053        &       -0.005    &        0.917     \\\\\n",
       "\\textbf{sigma2} &      44.9231  &       14.882     &     3.019  &         0.003        &       15.756    &       74.091     \\\\\n",
       "\\bottomrule\n",
       "\\end{tabular}\n",
       "\\begin{tabular}{lclc}\n",
       "\\textbf{Ljung-Box (L1) (Q):}     &  0.54 & \\textbf{  Jarque-Bera (JB):  } &  1.14  \\\\\n",
       "\\textbf{Prob(Q):}                &  0.46 & \\textbf{  Prob(JB):          } &  0.57  \\\\\n",
       "\\textbf{Heteroskedasticity (H):} & 11.96 & \\textbf{  Skew:              } & -0.29  \\\\\n",
       "\\textbf{Prob(H) (two-sided):}    &  0.01 & \\textbf{  Kurtosis:          } &  4.05  \\\\\n",
       "\\bottomrule\n",
       "\\end{tabular}\n",
       "%\\caption{SARIMAX Results}\n",
       "\\end{center}\n",
       "\n",
       "Warnings: \\newline\n",
       " [1] Covariance matrix calculated using the outer product of gradients (complex-step)."
      ],
      "text/plain": [
       "<class 'statsmodels.iolib.summary.Summary'>\n",
       "\"\"\"\n",
       "                               SARIMAX Results                                \n",
       "==============================================================================\n",
       "Dep. Variable:                      y   No. Observations:                   21\n",
       "Model:               SARIMAX(0, 2, 2)   Log Likelihood                 -64.089\n",
       "Date:                Fri, 10 Oct 2025   AIC                            134.179\n",
       "Time:                        17:52:20   BIC                            137.012\n",
       "Sample:                             0   HQIC                           134.658\n",
       "                                 - 21                                         \n",
       "Covariance Type:                  opg                                         \n",
       "==============================================================================\n",
       "                 coef    std err          z      P>|z|      [0.025      0.975]\n",
       "------------------------------------------------------------------------------\n",
       "ma.L1         -1.2831      0.227     -5.650      0.000      -1.728      -0.838\n",
       "ma.L2          0.4560      0.235      1.938      0.053      -0.005       0.917\n",
       "sigma2        44.9231     14.882      3.019      0.003      15.756      74.091\n",
       "===================================================================================\n",
       "Ljung-Box (L1) (Q):                   0.54   Jarque-Bera (JB):                 1.14\n",
       "Prob(Q):                              0.46   Prob(JB):                         0.57\n",
       "Heteroskedasticity (H):              11.96   Skew:                            -0.29\n",
       "Prob(H) (two-sided):                  0.01   Kurtosis:                         4.05\n",
       "===================================================================================\n",
       "\n",
       "Warnings:\n",
       "[1] Covariance matrix calculated using the outer product of gradients (complex-step).\n",
       "\"\"\""
      ]
     },
     "execution_count": 31,
     "metadata": {},
     "output_type": "execute_result"
    }
   ],
   "source": [
    "stepwise_fit = auto_arima(df2['ml_models'], trace=True, start_p=0, start_d=0, start_q=0, test='adf', information_criterion='aic',\n",
    "suppress_warnings=True)\n",
    "\n",
    "stepwise_fit.summary()"
   ]
  },
  {
   "cell_type": "code",
   "execution_count": 32,
   "id": "9f9dd9cb-9890-4353-a1f3-06e5412713fe",
   "metadata": {
    "tags": []
   },
   "outputs": [
    {
     "name": "stdout",
     "output_type": "stream",
     "text": [
      "Performing stepwise search to minimize bic\n",
      " ARIMA(0,2,0)(0,0,0)[0]             : BIC=151.179, Time=0.01 sec\n",
      " ARIMA(1,2,0)(0,0,0)[0]             : BIC=142.421, Time=0.01 sec\n",
      " ARIMA(0,2,1)(0,0,0)[0]             : BIC=138.254, Time=0.02 sec\n",
      " ARIMA(1,2,1)(0,0,0)[0]             : BIC=137.406, Time=0.02 sec\n",
      " ARIMA(2,2,1)(0,0,0)[0]             : BIC=139.596, Time=0.02 sec\n",
      " ARIMA(1,2,2)(0,0,0)[0]             : BIC=139.722, Time=0.02 sec\n",
      " ARIMA(0,2,2)(0,0,0)[0]             : BIC=137.012, Time=0.02 sec\n",
      " ARIMA(0,2,3)(0,0,0)[0]             : BIC=139.558, Time=0.03 sec\n",
      " ARIMA(1,2,3)(0,0,0)[0]             : BIC=inf, Time=0.11 sec\n",
      " ARIMA(0,2,2)(0,0,0)[0] intercept   : BIC=inf, Time=0.07 sec\n",
      "\n",
      "Best model:  ARIMA(0,2,2)(0,0,0)[0]          \n",
      "Total fit time: 0.328 seconds\n"
     ]
    },
    {
     "data": {
      "text/html": [
       "<table class=\"simpletable\">\n",
       "<caption>SARIMAX Results</caption>\n",
       "<tr>\n",
       "  <th>Dep. Variable:</th>           <td>y</td>        <th>  No. Observations:  </th>   <td>21</td>   \n",
       "</tr>\n",
       "<tr>\n",
       "  <th>Model:</th>           <td>SARIMAX(0, 2, 2)</td> <th>  Log Likelihood     </th> <td>-64.089</td>\n",
       "</tr>\n",
       "<tr>\n",
       "  <th>Date:</th>            <td>Fri, 10 Oct 2025</td> <th>  AIC                </th> <td>134.179</td>\n",
       "</tr>\n",
       "<tr>\n",
       "  <th>Time:</th>                <td>17:52:20</td>     <th>  BIC                </th> <td>137.012</td>\n",
       "</tr>\n",
       "<tr>\n",
       "  <th>Sample:</th>                  <td>0</td>        <th>  HQIC               </th> <td>134.658</td>\n",
       "</tr>\n",
       "<tr>\n",
       "  <th></th>                       <td> - 21</td>      <th>                     </th>    <td> </td>   \n",
       "</tr>\n",
       "<tr>\n",
       "  <th>Covariance Type:</th>        <td>opg</td>       <th>                     </th>    <td> </td>   \n",
       "</tr>\n",
       "</table>\n",
       "<table class=\"simpletable\">\n",
       "<tr>\n",
       "     <td></td>       <th>coef</th>     <th>std err</th>      <th>z</th>      <th>P>|z|</th>  <th>[0.025</th>    <th>0.975]</th>  \n",
       "</tr>\n",
       "<tr>\n",
       "  <th>ma.L1</th>  <td>   -1.2831</td> <td>    0.227</td> <td>   -5.650</td> <td> 0.000</td> <td>   -1.728</td> <td>   -0.838</td>\n",
       "</tr>\n",
       "<tr>\n",
       "  <th>ma.L2</th>  <td>    0.4560</td> <td>    0.235</td> <td>    1.938</td> <td> 0.053</td> <td>   -0.005</td> <td>    0.917</td>\n",
       "</tr>\n",
       "<tr>\n",
       "  <th>sigma2</th> <td>   44.9231</td> <td>   14.882</td> <td>    3.019</td> <td> 0.003</td> <td>   15.756</td> <td>   74.091</td>\n",
       "</tr>\n",
       "</table>\n",
       "<table class=\"simpletable\">\n",
       "<tr>\n",
       "  <th>Ljung-Box (L1) (Q):</th>     <td>0.54</td>  <th>  Jarque-Bera (JB):  </th> <td>1.14</td> \n",
       "</tr>\n",
       "<tr>\n",
       "  <th>Prob(Q):</th>                <td>0.46</td>  <th>  Prob(JB):          </th> <td>0.57</td> \n",
       "</tr>\n",
       "<tr>\n",
       "  <th>Heteroskedasticity (H):</th> <td>11.96</td> <th>  Skew:              </th> <td>-0.29</td>\n",
       "</tr>\n",
       "<tr>\n",
       "  <th>Prob(H) (two-sided):</th>    <td>0.01</td>  <th>  Kurtosis:          </th> <td>4.05</td> \n",
       "</tr>\n",
       "</table><br/><br/>Warnings:<br/>[1] Covariance matrix calculated using the outer product of gradients (complex-step)."
      ],
      "text/latex": [
       "\\begin{center}\n",
       "\\begin{tabular}{lclc}\n",
       "\\toprule\n",
       "\\textbf{Dep. Variable:}          &        y         & \\textbf{  No. Observations:  } &     21      \\\\\n",
       "\\textbf{Model:}                  & SARIMAX(0, 2, 2) & \\textbf{  Log Likelihood     } &  -64.089    \\\\\n",
       "\\textbf{Date:}                   & Fri, 10 Oct 2025 & \\textbf{  AIC                } &  134.179    \\\\\n",
       "\\textbf{Time:}                   &     17:52:20     & \\textbf{  BIC                } &  137.012    \\\\\n",
       "\\textbf{Sample:}                 &        0         & \\textbf{  HQIC               } &  134.658    \\\\\n",
       "\\textbf{}                        &       - 21       & \\textbf{                     } &             \\\\\n",
       "\\textbf{Covariance Type:}        &       opg        & \\textbf{                     } &             \\\\\n",
       "\\bottomrule\n",
       "\\end{tabular}\n",
       "\\begin{tabular}{lcccccc}\n",
       "                & \\textbf{coef} & \\textbf{std err} & \\textbf{z} & \\textbf{P$> |$z$|$} & \\textbf{[0.025} & \\textbf{0.975]}  \\\\\n",
       "\\midrule\n",
       "\\textbf{ma.L1}  &      -1.2831  &        0.227     &    -5.650  &         0.000        &       -1.728    &       -0.838     \\\\\n",
       "\\textbf{ma.L2}  &       0.4560  &        0.235     &     1.938  &         0.053        &       -0.005    &        0.917     \\\\\n",
       "\\textbf{sigma2} &      44.9231  &       14.882     &     3.019  &         0.003        &       15.756    &       74.091     \\\\\n",
       "\\bottomrule\n",
       "\\end{tabular}\n",
       "\\begin{tabular}{lclc}\n",
       "\\textbf{Ljung-Box (L1) (Q):}     &  0.54 & \\textbf{  Jarque-Bera (JB):  } &  1.14  \\\\\n",
       "\\textbf{Prob(Q):}                &  0.46 & \\textbf{  Prob(JB):          } &  0.57  \\\\\n",
       "\\textbf{Heteroskedasticity (H):} & 11.96 & \\textbf{  Skew:              } & -0.29  \\\\\n",
       "\\textbf{Prob(H) (two-sided):}    &  0.01 & \\textbf{  Kurtosis:          } &  4.05  \\\\\n",
       "\\bottomrule\n",
       "\\end{tabular}\n",
       "%\\caption{SARIMAX Results}\n",
       "\\end{center}\n",
       "\n",
       "Warnings: \\newline\n",
       " [1] Covariance matrix calculated using the outer product of gradients (complex-step)."
      ],
      "text/plain": [
       "<class 'statsmodels.iolib.summary.Summary'>\n",
       "\"\"\"\n",
       "                               SARIMAX Results                                \n",
       "==============================================================================\n",
       "Dep. Variable:                      y   No. Observations:                   21\n",
       "Model:               SARIMAX(0, 2, 2)   Log Likelihood                 -64.089\n",
       "Date:                Fri, 10 Oct 2025   AIC                            134.179\n",
       "Time:                        17:52:20   BIC                            137.012\n",
       "Sample:                             0   HQIC                           134.658\n",
       "                                 - 21                                         \n",
       "Covariance Type:                  opg                                         \n",
       "==============================================================================\n",
       "                 coef    std err          z      P>|z|      [0.025      0.975]\n",
       "------------------------------------------------------------------------------\n",
       "ma.L1         -1.2831      0.227     -5.650      0.000      -1.728      -0.838\n",
       "ma.L2          0.4560      0.235      1.938      0.053      -0.005       0.917\n",
       "sigma2        44.9231     14.882      3.019      0.003      15.756      74.091\n",
       "===================================================================================\n",
       "Ljung-Box (L1) (Q):                   0.54   Jarque-Bera (JB):                 1.14\n",
       "Prob(Q):                              0.46   Prob(JB):                         0.57\n",
       "Heteroskedasticity (H):              11.96   Skew:                            -0.29\n",
       "Prob(H) (two-sided):                  0.01   Kurtosis:                         4.05\n",
       "===================================================================================\n",
       "\n",
       "Warnings:\n",
       "[1] Covariance matrix calculated using the outer product of gradients (complex-step).\n",
       "\"\"\""
      ]
     },
     "execution_count": 32,
     "metadata": {},
     "output_type": "execute_result"
    }
   ],
   "source": [
    "stepwise_fit = auto_arima(df2['ml_models'], trace=True, start_p=0, start_d=0, start_q=0, test='adf', information_criterion='bic',\n",
    "suppress_warnings=True)\n",
    "\n",
    "stepwise_fit.summary()"
   ]
  },
  {
   "cell_type": "markdown",
   "id": "19fae006-a0f2-44b7-a91f-7797075b669e",
   "metadata": {},
   "source": [
    "Best parameters for ARIMA model for both criterion are (0,2,0)"
   ]
  },
  {
   "cell_type": "code",
   "execution_count": 33,
   "id": "51f7faff-fb15-4c17-aa13-3e771120be34",
   "metadata": {
    "tags": []
   },
   "outputs": [
    {
     "data": {
      "text/html": [
       "<style>#sk-container-id-1 {\n",
       "  /* Definition of color scheme common for light and dark mode */\n",
       "  --sklearn-color-text: #000;\n",
       "  --sklearn-color-text-muted: #666;\n",
       "  --sklearn-color-line: gray;\n",
       "  /* Definition of color scheme for unfitted estimators */\n",
       "  --sklearn-color-unfitted-level-0: #fff5e6;\n",
       "  --sklearn-color-unfitted-level-1: #f6e4d2;\n",
       "  --sklearn-color-unfitted-level-2: #ffe0b3;\n",
       "  --sklearn-color-unfitted-level-3: chocolate;\n",
       "  /* Definition of color scheme for fitted estimators */\n",
       "  --sklearn-color-fitted-level-0: #f0f8ff;\n",
       "  --sklearn-color-fitted-level-1: #d4ebff;\n",
       "  --sklearn-color-fitted-level-2: #b3dbfd;\n",
       "  --sklearn-color-fitted-level-3: cornflowerblue;\n",
       "\n",
       "  /* Specific color for light theme */\n",
       "  --sklearn-color-text-on-default-background: var(--sg-text-color, var(--theme-code-foreground, var(--jp-content-font-color1, black)));\n",
       "  --sklearn-color-background: var(--sg-background-color, var(--theme-background, var(--jp-layout-color0, white)));\n",
       "  --sklearn-color-border-box: var(--sg-text-color, var(--theme-code-foreground, var(--jp-content-font-color1, black)));\n",
       "  --sklearn-color-icon: #696969;\n",
       "\n",
       "  @media (prefers-color-scheme: dark) {\n",
       "    /* Redefinition of color scheme for dark theme */\n",
       "    --sklearn-color-text-on-default-background: var(--sg-text-color, var(--theme-code-foreground, var(--jp-content-font-color1, white)));\n",
       "    --sklearn-color-background: var(--sg-background-color, var(--theme-background, var(--jp-layout-color0, #111)));\n",
       "    --sklearn-color-border-box: var(--sg-text-color, var(--theme-code-foreground, var(--jp-content-font-color1, white)));\n",
       "    --sklearn-color-icon: #878787;\n",
       "  }\n",
       "}\n",
       "\n",
       "#sk-container-id-1 {\n",
       "  color: var(--sklearn-color-text);\n",
       "}\n",
       "\n",
       "#sk-container-id-1 pre {\n",
       "  padding: 0;\n",
       "}\n",
       "\n",
       "#sk-container-id-1 input.sk-hidden--visually {\n",
       "  border: 0;\n",
       "  clip: rect(1px 1px 1px 1px);\n",
       "  clip: rect(1px, 1px, 1px, 1px);\n",
       "  height: 1px;\n",
       "  margin: -1px;\n",
       "  overflow: hidden;\n",
       "  padding: 0;\n",
       "  position: absolute;\n",
       "  width: 1px;\n",
       "}\n",
       "\n",
       "#sk-container-id-1 div.sk-dashed-wrapped {\n",
       "  border: 1px dashed var(--sklearn-color-line);\n",
       "  margin: 0 0.4em 0.5em 0.4em;\n",
       "  box-sizing: border-box;\n",
       "  padding-bottom: 0.4em;\n",
       "  background-color: var(--sklearn-color-background);\n",
       "}\n",
       "\n",
       "#sk-container-id-1 div.sk-container {\n",
       "  /* jupyter's `normalize.less` sets `[hidden] { display: none; }`\n",
       "     but bootstrap.min.css set `[hidden] { display: none !important; }`\n",
       "     so we also need the `!important` here to be able to override the\n",
       "     default hidden behavior on the sphinx rendered scikit-learn.org.\n",
       "     See: https://github.com/scikit-learn/scikit-learn/issues/21755 */\n",
       "  display: inline-block !important;\n",
       "  position: relative;\n",
       "}\n",
       "\n",
       "#sk-container-id-1 div.sk-text-repr-fallback {\n",
       "  display: none;\n",
       "}\n",
       "\n",
       "div.sk-parallel-item,\n",
       "div.sk-serial,\n",
       "div.sk-item {\n",
       "  /* draw centered vertical line to link estimators */\n",
       "  background-image: linear-gradient(var(--sklearn-color-text-on-default-background), var(--sklearn-color-text-on-default-background));\n",
       "  background-size: 2px 100%;\n",
       "  background-repeat: no-repeat;\n",
       "  background-position: center center;\n",
       "}\n",
       "\n",
       "/* Parallel-specific style estimator block */\n",
       "\n",
       "#sk-container-id-1 div.sk-parallel-item::after {\n",
       "  content: \"\";\n",
       "  width: 100%;\n",
       "  border-bottom: 2px solid var(--sklearn-color-text-on-default-background);\n",
       "  flex-grow: 1;\n",
       "}\n",
       "\n",
       "#sk-container-id-1 div.sk-parallel {\n",
       "  display: flex;\n",
       "  align-items: stretch;\n",
       "  justify-content: center;\n",
       "  background-color: var(--sklearn-color-background);\n",
       "  position: relative;\n",
       "}\n",
       "\n",
       "#sk-container-id-1 div.sk-parallel-item {\n",
       "  display: flex;\n",
       "  flex-direction: column;\n",
       "}\n",
       "\n",
       "#sk-container-id-1 div.sk-parallel-item:first-child::after {\n",
       "  align-self: flex-end;\n",
       "  width: 50%;\n",
       "}\n",
       "\n",
       "#sk-container-id-1 div.sk-parallel-item:last-child::after {\n",
       "  align-self: flex-start;\n",
       "  width: 50%;\n",
       "}\n",
       "\n",
       "#sk-container-id-1 div.sk-parallel-item:only-child::after {\n",
       "  width: 0;\n",
       "}\n",
       "\n",
       "/* Serial-specific style estimator block */\n",
       "\n",
       "#sk-container-id-1 div.sk-serial {\n",
       "  display: flex;\n",
       "  flex-direction: column;\n",
       "  align-items: center;\n",
       "  background-color: var(--sklearn-color-background);\n",
       "  padding-right: 1em;\n",
       "  padding-left: 1em;\n",
       "}\n",
       "\n",
       "\n",
       "/* Toggleable style: style used for estimator/Pipeline/ColumnTransformer box that is\n",
       "clickable and can be expanded/collapsed.\n",
       "- Pipeline and ColumnTransformer use this feature and define the default style\n",
       "- Estimators will overwrite some part of the style using the `sk-estimator` class\n",
       "*/\n",
       "\n",
       "/* Pipeline and ColumnTransformer style (default) */\n",
       "\n",
       "#sk-container-id-1 div.sk-toggleable {\n",
       "  /* Default theme specific background. It is overwritten whether we have a\n",
       "  specific estimator or a Pipeline/ColumnTransformer */\n",
       "  background-color: var(--sklearn-color-background);\n",
       "}\n",
       "\n",
       "/* Toggleable label */\n",
       "#sk-container-id-1 label.sk-toggleable__label {\n",
       "  cursor: pointer;\n",
       "  display: flex;\n",
       "  width: 100%;\n",
       "  margin-bottom: 0;\n",
       "  padding: 0.5em;\n",
       "  box-sizing: border-box;\n",
       "  text-align: center;\n",
       "  align-items: start;\n",
       "  justify-content: space-between;\n",
       "  gap: 0.5em;\n",
       "}\n",
       "\n",
       "#sk-container-id-1 label.sk-toggleable__label .caption {\n",
       "  font-size: 0.6rem;\n",
       "  font-weight: lighter;\n",
       "  color: var(--sklearn-color-text-muted);\n",
       "}\n",
       "\n",
       "#sk-container-id-1 label.sk-toggleable__label-arrow:before {\n",
       "  /* Arrow on the left of the label */\n",
       "  content: \"▸\";\n",
       "  float: left;\n",
       "  margin-right: 0.25em;\n",
       "  color: var(--sklearn-color-icon);\n",
       "}\n",
       "\n",
       "#sk-container-id-1 label.sk-toggleable__label-arrow:hover:before {\n",
       "  color: var(--sklearn-color-text);\n",
       "}\n",
       "\n",
       "/* Toggleable content - dropdown */\n",
       "\n",
       "#sk-container-id-1 div.sk-toggleable__content {\n",
       "  max-height: 0;\n",
       "  max-width: 0;\n",
       "  overflow: hidden;\n",
       "  text-align: left;\n",
       "  /* unfitted */\n",
       "  background-color: var(--sklearn-color-unfitted-level-0);\n",
       "}\n",
       "\n",
       "#sk-container-id-1 div.sk-toggleable__content.fitted {\n",
       "  /* fitted */\n",
       "  background-color: var(--sklearn-color-fitted-level-0);\n",
       "}\n",
       "\n",
       "#sk-container-id-1 div.sk-toggleable__content pre {\n",
       "  margin: 0.2em;\n",
       "  border-radius: 0.25em;\n",
       "  color: var(--sklearn-color-text);\n",
       "  /* unfitted */\n",
       "  background-color: var(--sklearn-color-unfitted-level-0);\n",
       "}\n",
       "\n",
       "#sk-container-id-1 div.sk-toggleable__content.fitted pre {\n",
       "  /* unfitted */\n",
       "  background-color: var(--sklearn-color-fitted-level-0);\n",
       "}\n",
       "\n",
       "#sk-container-id-1 input.sk-toggleable__control:checked~div.sk-toggleable__content {\n",
       "  /* Expand drop-down */\n",
       "  max-height: 200px;\n",
       "  max-width: 100%;\n",
       "  overflow: auto;\n",
       "}\n",
       "\n",
       "#sk-container-id-1 input.sk-toggleable__control:checked~label.sk-toggleable__label-arrow:before {\n",
       "  content: \"▾\";\n",
       "}\n",
       "\n",
       "/* Pipeline/ColumnTransformer-specific style */\n",
       "\n",
       "#sk-container-id-1 div.sk-label input.sk-toggleable__control:checked~label.sk-toggleable__label {\n",
       "  color: var(--sklearn-color-text);\n",
       "  background-color: var(--sklearn-color-unfitted-level-2);\n",
       "}\n",
       "\n",
       "#sk-container-id-1 div.sk-label.fitted input.sk-toggleable__control:checked~label.sk-toggleable__label {\n",
       "  background-color: var(--sklearn-color-fitted-level-2);\n",
       "}\n",
       "\n",
       "/* Estimator-specific style */\n",
       "\n",
       "/* Colorize estimator box */\n",
       "#sk-container-id-1 div.sk-estimator input.sk-toggleable__control:checked~label.sk-toggleable__label {\n",
       "  /* unfitted */\n",
       "  background-color: var(--sklearn-color-unfitted-level-2);\n",
       "}\n",
       "\n",
       "#sk-container-id-1 div.sk-estimator.fitted input.sk-toggleable__control:checked~label.sk-toggleable__label {\n",
       "  /* fitted */\n",
       "  background-color: var(--sklearn-color-fitted-level-2);\n",
       "}\n",
       "\n",
       "#sk-container-id-1 div.sk-label label.sk-toggleable__label,\n",
       "#sk-container-id-1 div.sk-label label {\n",
       "  /* The background is the default theme color */\n",
       "  color: var(--sklearn-color-text-on-default-background);\n",
       "}\n",
       "\n",
       "/* On hover, darken the color of the background */\n",
       "#sk-container-id-1 div.sk-label:hover label.sk-toggleable__label {\n",
       "  color: var(--sklearn-color-text);\n",
       "  background-color: var(--sklearn-color-unfitted-level-2);\n",
       "}\n",
       "\n",
       "/* Label box, darken color on hover, fitted */\n",
       "#sk-container-id-1 div.sk-label.fitted:hover label.sk-toggleable__label.fitted {\n",
       "  color: var(--sklearn-color-text);\n",
       "  background-color: var(--sklearn-color-fitted-level-2);\n",
       "}\n",
       "\n",
       "/* Estimator label */\n",
       "\n",
       "#sk-container-id-1 div.sk-label label {\n",
       "  font-family: monospace;\n",
       "  font-weight: bold;\n",
       "  display: inline-block;\n",
       "  line-height: 1.2em;\n",
       "}\n",
       "\n",
       "#sk-container-id-1 div.sk-label-container {\n",
       "  text-align: center;\n",
       "}\n",
       "\n",
       "/* Estimator-specific */\n",
       "#sk-container-id-1 div.sk-estimator {\n",
       "  font-family: monospace;\n",
       "  border: 1px dotted var(--sklearn-color-border-box);\n",
       "  border-radius: 0.25em;\n",
       "  box-sizing: border-box;\n",
       "  margin-bottom: 0.5em;\n",
       "  /* unfitted */\n",
       "  background-color: var(--sklearn-color-unfitted-level-0);\n",
       "}\n",
       "\n",
       "#sk-container-id-1 div.sk-estimator.fitted {\n",
       "  /* fitted */\n",
       "  background-color: var(--sklearn-color-fitted-level-0);\n",
       "}\n",
       "\n",
       "/* on hover */\n",
       "#sk-container-id-1 div.sk-estimator:hover {\n",
       "  /* unfitted */\n",
       "  background-color: var(--sklearn-color-unfitted-level-2);\n",
       "}\n",
       "\n",
       "#sk-container-id-1 div.sk-estimator.fitted:hover {\n",
       "  /* fitted */\n",
       "  background-color: var(--sklearn-color-fitted-level-2);\n",
       "}\n",
       "\n",
       "/* Specification for estimator info (e.g. \"i\" and \"?\") */\n",
       "\n",
       "/* Common style for \"i\" and \"?\" */\n",
       "\n",
       ".sk-estimator-doc-link,\n",
       "a:link.sk-estimator-doc-link,\n",
       "a:visited.sk-estimator-doc-link {\n",
       "  float: right;\n",
       "  font-size: smaller;\n",
       "  line-height: 1em;\n",
       "  font-family: monospace;\n",
       "  background-color: var(--sklearn-color-background);\n",
       "  border-radius: 1em;\n",
       "  height: 1em;\n",
       "  width: 1em;\n",
       "  text-decoration: none !important;\n",
       "  margin-left: 0.5em;\n",
       "  text-align: center;\n",
       "  /* unfitted */\n",
       "  border: var(--sklearn-color-unfitted-level-1) 1pt solid;\n",
       "  color: var(--sklearn-color-unfitted-level-1);\n",
       "}\n",
       "\n",
       ".sk-estimator-doc-link.fitted,\n",
       "a:link.sk-estimator-doc-link.fitted,\n",
       "a:visited.sk-estimator-doc-link.fitted {\n",
       "  /* fitted */\n",
       "  border: var(--sklearn-color-fitted-level-1) 1pt solid;\n",
       "  color: var(--sklearn-color-fitted-level-1);\n",
       "}\n",
       "\n",
       "/* On hover */\n",
       "div.sk-estimator:hover .sk-estimator-doc-link:hover,\n",
       ".sk-estimator-doc-link:hover,\n",
       "div.sk-label-container:hover .sk-estimator-doc-link:hover,\n",
       ".sk-estimator-doc-link:hover {\n",
       "  /* unfitted */\n",
       "  background-color: var(--sklearn-color-unfitted-level-3);\n",
       "  color: var(--sklearn-color-background);\n",
       "  text-decoration: none;\n",
       "}\n",
       "\n",
       "div.sk-estimator.fitted:hover .sk-estimator-doc-link.fitted:hover,\n",
       ".sk-estimator-doc-link.fitted:hover,\n",
       "div.sk-label-container:hover .sk-estimator-doc-link.fitted:hover,\n",
       ".sk-estimator-doc-link.fitted:hover {\n",
       "  /* fitted */\n",
       "  background-color: var(--sklearn-color-fitted-level-3);\n",
       "  color: var(--sklearn-color-background);\n",
       "  text-decoration: none;\n",
       "}\n",
       "\n",
       "/* Span, style for the box shown on hovering the info icon */\n",
       ".sk-estimator-doc-link span {\n",
       "  display: none;\n",
       "  z-index: 9999;\n",
       "  position: relative;\n",
       "  font-weight: normal;\n",
       "  right: .2ex;\n",
       "  padding: .5ex;\n",
       "  margin: .5ex;\n",
       "  width: min-content;\n",
       "  min-width: 20ex;\n",
       "  max-width: 50ex;\n",
       "  color: var(--sklearn-color-text);\n",
       "  box-shadow: 2pt 2pt 4pt #999;\n",
       "  /* unfitted */\n",
       "  background: var(--sklearn-color-unfitted-level-0);\n",
       "  border: .5pt solid var(--sklearn-color-unfitted-level-3);\n",
       "}\n",
       "\n",
       ".sk-estimator-doc-link.fitted span {\n",
       "  /* fitted */\n",
       "  background: var(--sklearn-color-fitted-level-0);\n",
       "  border: var(--sklearn-color-fitted-level-3);\n",
       "}\n",
       "\n",
       ".sk-estimator-doc-link:hover span {\n",
       "  display: block;\n",
       "}\n",
       "\n",
       "/* \"?\"-specific style due to the `<a>` HTML tag */\n",
       "\n",
       "#sk-container-id-1 a.estimator_doc_link {\n",
       "  float: right;\n",
       "  font-size: 1rem;\n",
       "  line-height: 1em;\n",
       "  font-family: monospace;\n",
       "  background-color: var(--sklearn-color-background);\n",
       "  border-radius: 1rem;\n",
       "  height: 1rem;\n",
       "  width: 1rem;\n",
       "  text-decoration: none;\n",
       "  /* unfitted */\n",
       "  color: var(--sklearn-color-unfitted-level-1);\n",
       "  border: var(--sklearn-color-unfitted-level-1) 1pt solid;\n",
       "}\n",
       "\n",
       "#sk-container-id-1 a.estimator_doc_link.fitted {\n",
       "  /* fitted */\n",
       "  border: var(--sklearn-color-fitted-level-1) 1pt solid;\n",
       "  color: var(--sklearn-color-fitted-level-1);\n",
       "}\n",
       "\n",
       "/* On hover */\n",
       "#sk-container-id-1 a.estimator_doc_link:hover {\n",
       "  /* unfitted */\n",
       "  background-color: var(--sklearn-color-unfitted-level-3);\n",
       "  color: var(--sklearn-color-background);\n",
       "  text-decoration: none;\n",
       "}\n",
       "\n",
       "#sk-container-id-1 a.estimator_doc_link.fitted:hover {\n",
       "  /* fitted */\n",
       "  background-color: var(--sklearn-color-fitted-level-3);\n",
       "}\n",
       "</style><div id=\"sk-container-id-1\" class=\"sk-top-container\"><div class=\"sk-text-repr-fallback\"><pre> ARIMA(0,2,2)(0,0,0)[0]          </pre><b>In a Jupyter environment, please rerun this cell to show the HTML representation or trust the notebook. <br />On GitHub, the HTML representation is unable to render, please try loading this page with nbviewer.org.</b></div><div class=\"sk-container\" hidden><div class=\"sk-item\"><div class=\"sk-estimator fitted sk-toggleable\"><input class=\"sk-toggleable__control sk-hidden--visually\" id=\"sk-estimator-id-1\" type=\"checkbox\" checked><label for=\"sk-estimator-id-1\" class=\"sk-toggleable__label fitted sk-toggleable__label-arrow\"><div><div>ARIMA</div></div><div><span class=\"sk-estimator-doc-link fitted\">i<span>Fitted</span></span></div></label><div class=\"sk-toggleable__content fitted\"><pre> ARIMA(0,2,2)(0,0,0)[0]          </pre></div> </div></div></div></div>"
      ],
      "text/plain": [
       "ARIMA(order=(0, 2, 2), scoring_args={}, suppress_warnings=True,\n",
       "      with_intercept=False)"
      ]
     },
     "execution_count": 33,
     "metadata": {},
     "output_type": "execute_result"
    }
   ],
   "source": [
    "stepwise_fit"
   ]
  },
  {
   "cell_type": "code",
   "execution_count": 34,
   "id": "f0d23703-8c80-4ef0-9f37-a7d21ad2264a",
   "metadata": {
    "tags": []
   },
   "outputs": [],
   "source": [
    "sarima=ARIMA(df2['ml_models'],order=(0,2,2))\n",
    "predicted=sarima.fit()"
   ]
  },
  {
   "cell_type": "code",
   "execution_count": 35,
   "id": "e316a662-d08f-4a1d-81f6-204d686bf95c",
   "metadata": {
    "tags": []
   },
   "outputs": [
    {
     "name": "stdout",
     "output_type": "stream",
     "text": [
      "   Date\n",
      "0  2024\n",
      "1  2025\n",
      "2  2026\n",
      "3  2027\n"
     ]
    }
   ],
   "source": [
    "data = {'Date': [2024, 2025, 2026, 2027]}\n",
    "\n",
    "future_dates = pd.DataFrame(data)\n",
    "\n",
    "print(future_dates)"
   ]
  },
  {
   "cell_type": "code",
   "execution_count": 36,
   "id": "a39ea9ee-e03d-425d-8af1-2e9f311013f1",
   "metadata": {
    "tags": []
   },
   "outputs": [],
   "source": [
    "future_dates = [2024, 2025, 2026, 2027]"
   ]
  },
  {
   "cell_type": "markdown",
   "id": "9f1c2460-4f16-4131-9fea-b5c0ca2d39e1",
   "metadata": {
    "tags": []
   },
   "source": [
    "#### ARIMA (0,2,2) forecast"
   ]
  },
  {
   "cell_type": "code",
   "execution_count": 37,
   "id": "f4a03de6-4489-43b7-926c-431ba61a28f3",
   "metadata": {
    "tags": []
   },
   "outputs": [],
   "source": [
    "residuals = predicted.resid"
   ]
  },
  {
   "cell_type": "code",
   "execution_count": 38,
   "id": "455efb67-a765-492a-b3f1-e4172687f2cc",
   "metadata": {
    "tags": []
   },
   "outputs": [
    {
     "name": "stdout",
     "output_type": "stream",
     "text": [
      "      Prediction  Lower Bound  Upper Bound\n",
      "2024 62.79669036  55.08650530  70.50687542\n",
      "2025 67.49289558  58.00623648  76.97955468\n",
      "2026 72.18910079  60.48181756  83.89638403\n",
      "2027 76.88530601  62.59570416  91.17490786\n"
     ]
    }
   ],
   "source": [
    "forecast_steps = 4\n",
    "forecast = predicted.get_forecast(steps=forecast_steps)\n",
    "\n",
    "forecast_index = range(df2.index[-1] + 1, df2.index[-1] + 1 + forecast_steps)\n",
    "\n",
    "forecast_values = forecast.predicted_mean\n",
    "\n",
    "confidence_intervals = forecast.conf_int(alpha=0.25)\n",
    "lower_bounds = confidence_intervals.iloc[:, 0] \n",
    "upper_bounds = confidence_intervals.iloc[:, 1]\n",
    "\n",
    "df_forecast = pd.DataFrame({\n",
    "    'Prediction': forecast_values.values,  \n",
    "    'Lower Bound': lower_bounds.values,\n",
    "    'Upper Bound': upper_bounds.values\n",
    "}, index=forecast_index)\n",
    "\n",
    "print(df_forecast)"
   ]
  },
  {
   "cell_type": "code",
   "execution_count": 39,
   "id": "ce834f93-297f-49bc-9468-2b1f78ebb768",
   "metadata": {
    "tags": []
   },
   "outputs": [
    {
     "data": {
      "text/html": [
       "<div>\n",
       "<style scoped>\n",
       "    .dataframe tbody tr th:only-of-type {\n",
       "        vertical-align: middle;\n",
       "    }\n",
       "\n",
       "    .dataframe tbody tr th {\n",
       "        vertical-align: top;\n",
       "    }\n",
       "\n",
       "    .dataframe thead th {\n",
       "        text-align: right;\n",
       "    }\n",
       "</style>\n",
       "<table border=\"1\" class=\"dataframe\">\n",
       "  <thead>\n",
       "    <tr style=\"text-align: right;\">\n",
       "      <th></th>\n",
       "      <th>lower ml_models</th>\n",
       "      <th>upper ml_models</th>\n",
       "    </tr>\n",
       "  </thead>\n",
       "  <tbody>\n",
       "    <tr>\n",
       "      <th>21</th>\n",
       "      <td>55.08650530</td>\n",
       "      <td>70.50687542</td>\n",
       "    </tr>\n",
       "    <tr>\n",
       "      <th>22</th>\n",
       "      <td>58.00623648</td>\n",
       "      <td>76.97955468</td>\n",
       "    </tr>\n",
       "    <tr>\n",
       "      <th>23</th>\n",
       "      <td>60.48181756</td>\n",
       "      <td>83.89638403</td>\n",
       "    </tr>\n",
       "    <tr>\n",
       "      <th>24</th>\n",
       "      <td>62.59570416</td>\n",
       "      <td>91.17490786</td>\n",
       "    </tr>\n",
       "  </tbody>\n",
       "</table>\n",
       "</div>"
      ],
      "text/plain": [
       "    lower ml_models  upper ml_models\n",
       "21      55.08650530      70.50687542\n",
       "22      58.00623648      76.97955468\n",
       "23      60.48181756      83.89638403\n",
       "24      62.59570416      91.17490786"
      ]
     },
     "execution_count": 39,
     "metadata": {},
     "output_type": "execute_result"
    }
   ],
   "source": [
    "confidence_intervals"
   ]
  },
  {
   "cell_type": "code",
   "execution_count": 40,
   "id": "26a19ebd-e30f-4cc3-a320-da014e96d8b7",
   "metadata": {
    "tags": []
   },
   "outputs": [
    {
     "data": {
      "image/png": "[encoded data removed]",
      "text/plain": [
       "<Figure size 1200x600 with 1 Axes>"
      ]
     },
     "metadata": {},
     "output_type": "display_data"
    }
   ],
   "source": [
    "xticks_labels = df2.index.tolist()\n",
    "xticks_labels.extend(future_dates)\n",
    "xticks_filtered = [year for year in xticks_labels if year % 3 == 0]\n",
    "\n",
    "predicted=sarima.fit().predict();predicted\n",
    "\n",
    "plt.figure(figsize=(12, 6))\n",
    "plt.plot(df2['ml_models'], marker='o', color='blue', label='Real values')\n",
    "plt.plot(forecast_index, forecast.predicted_mean, marker='x', linestyle='--', color='red', label='Prediction')\n",
    "plt.plot(predicted, marker='o', color='orange', label='Expected values')\n",
    "\n",
    "plt.fill_between(forecast_index, forecast.conf_int().iloc[:, 0], forecast.conf_int().iloc[:, 1],\n",
    "                 color='orange', alpha=0.2, label='95% Confidence interval')\n",
    "plt.xlabel(\"Year\")\n",
    "plt.ylabel('Number of machine learning models')\n",
    "plt.xticks(xticks_filtered)\n",
    "plt.legend()\n",
    "plt.grid(True)\n",
    "plt.show()"
   ]
  },
  {
   "cell_type": "code",
   "execution_count": 41,
   "id": "509f1079-a0f3-4c2a-9ef7-45e855446b34",
   "metadata": {
    "tags": []
   },
   "outputs": [
    {
     "name": "stdout",
     "output_type": "stream",
     "text": [
      "Mean Squared Error (MSE): 45.20503715576434\n",
      "RMSE: 6.72\n",
      "Mean Absolute Error (MAE): 5.2539987952624205\n",
      "Determination: 0.8789944558617278\n",
      "Mean Absolute Percentage Error (MAPE): 73.85710536174798\n"
     ]
    }
   ],
   "source": [
    "mse_ar = mean_squared_error(df2['ml_models'], predicted)\n",
    "rmse_ar = np.sqrt(mse_ar)\n",
    "mae_ar = mean_absolute_error(df2['ml_models'], predicted)\n",
    "rsquare_ar = r2_score(df2['ml_models'], predicted)\n",
    "mape_ar = np.mean(np.abs((df2['ml_models'] - predicted)) / df2['ml_models'])* 100\n",
    "\n",
    "print(f\"Mean Squared Error (MSE): {mse_ar}\")\n",
    "print(f\"RMSE: {rmse_ar:.2f}\")\n",
    "print(f\"Mean Absolute Error (MAE): {mae_ar}\")\n",
    "print(f'Determination:', rsquare_ar)\n",
    "print(f\"Mean Absolute Percentage Error (MAPE): {mape_ar}\")"
   ]
  },
  {
   "cell_type": "markdown",
   "id": "34b3ab6c-9ad2-49b2-8649-0251822ed3c6",
   "metadata": {},
   "source": [
    "The model is well suited for the data. The expected values are very close to the actual values for most of the series. According to the prediction, the number of relevant ML models will continue to grow in the United States. The expected growth rate will be similar to the development observed since 2019."
   ]
  },
  {
   "cell_type": "code",
   "execution_count": 42,
   "id": "fe5bf673-9a4d-45ee-a665-3986b742b315",
   "metadata": {
    "tags": []
   },
   "outputs": [
    {
     "name": "stdout",
     "output_type": "stream",
     "text": [
      "Shapiro–Wilk statistic: = 0.9758, p-value = 0.8552\n"
     ]
    }
   ],
   "source": [
    "shapiro_stat, shapiro_p = shapiro(residuals)\n",
    "print(f\"Shapiro–Wilk statistic: = {shapiro_stat:.4f}, p-value = {shapiro_p:.4f}\")"
   ]
  },
  {
   "cell_type": "code",
   "execution_count": 43,
   "id": "53f06f4a-e8cb-4168-b1ea-41a2a9bcc972",
   "metadata": {
    "tags": []
   },
   "outputs": [
    {
     "name": "stdout",
     "output_type": "stream",
     "text": [
      "ARCH test p-value: 0.0386\n"
     ]
    }
   ],
   "source": [
    "arch_test = het_arch(residuals)\n",
    "print(f\"ARCH test p-value: {arch_test[1]:.4f}\")"
   ]
  },
  {
   "cell_type": "markdown",
   "id": "7c442c6e-df62-4eea-aae3-87e9a1993faa",
   "metadata": {},
   "source": [
    "The residuals show a normal distribution. Due to the heteroscedasticity of residuals demonstrated by the ARCH test, their values were additionally assessed."
   ]
  },
  {
   "cell_type": "code",
   "execution_count": 44,
   "id": "adcb83c0-0c4b-4aca-98a2-a171d9c9baaa",
   "metadata": {
    "tags": []
   },
   "outputs": [
    {
     "data": {
      "text/plain": [
       "Text(0, 0.5, 'ARIMA residuals values')"
      ]
     },
     "execution_count": 44,
     "metadata": {},
     "output_type": "execute_result"
    },
    {
     "data": {
      "image/png": "[encoded data removed]",
      "text/plain": [
       "<Figure size 1400x600 with 1 Axes>"
      ]
     },
     "metadata": {},
     "output_type": "display_data"
    }
   ],
   "source": [
    "xticks_labels = df2.index.tolist()\n",
    "xticks_filtered2 = [year for year in xticks_labels if year % 3 == 0]\n",
    "plt.figure(figsize=(14, 6))\n",
    "plt.plot(residuals)\n",
    "plt.xticks(xticks_filtered2)\n",
    "plt.axhline(0, color=\"red\", linestyle=\"--\")\n",
    "plt.ylabel(\"ARIMA residuals values\")"
   ]
  },
  {
   "cell_type": "markdown",
   "id": "004a022a-2320-41cf-9ec1-c7e648ff9ee3",
   "metadata": {},
   "source": [
    "The ARIMA residuals plot indicates a possible change in the variance structure over time, especially after 2015. Therefore confidence intervals used for prediction are not representative of possible future data volatility."
   ]
  },
  {
   "cell_type": "markdown",
   "id": "98b37a73-c16d-4237-82dc-22c335f1bfd8",
   "metadata": {},
   "source": [
    "### Dumped Holt model forecast on testing dataset"
   ]
  },
  {
   "cell_type": "code",
   "execution_count": 45,
   "id": "bf5e9ed9-d349-4497-81b5-789fc258c959",
   "metadata": {
    "tags": []
   },
   "outputs": [],
   "source": [
    "train_size = len(df2) - 4  \n",
    "train, test = df2.iloc[:train_size], df.iloc[train_size:]\n",
    "train_years = df['year'][:train_size]\n",
    "test_years = df['year'][train_size:]\n",
    "future_years = test_years.values\n",
    "\n",
    "holt_damped_model2 = ExponentialSmoothing(train['ml_models'], trend='add', damped_trend=True, seasonal=None).fit()\n",
    "fitted_holt_damped = holt_damped_model2.fittedvalues\n",
    "holt_damped_forecast2 = holt_damped_model2.forecast(4)"
   ]
  },
  {
   "cell_type": "code",
   "execution_count": 46,
   "id": "6e734e21-be24-45fa-acaa-a449564e1060",
   "metadata": {
    "tags": []
   },
   "outputs": [
    {
     "data": {
      "text/plain": [
       "year\n",
       "2003    3.10513471\n",
       "2004    4.31170904\n",
       "2005    1.78062692\n",
       "2006    2.03008422\n",
       "2007    3.24674124\n",
       "2008    2.38244002\n",
       "2009    3.51640894\n",
       "2010    7.46629409\n",
       "2011    6.97906631\n",
       "2012    8.64829382\n",
       "2013    6.76699735\n",
       "2014    8.67536349\n",
       "2015   11.29359876\n",
       "2016   18.99144662\n",
       "2017   31.58709266\n",
       "2018   39.41053948\n",
       "2019   40.35226640\n",
       "dtype: float64"
      ]
     },
     "execution_count": 46,
     "metadata": {},
     "output_type": "execute_result"
    }
   ],
   "source": [
    "fitted_holt_damped"
   ]
  },
  {
   "cell_type": "code",
   "execution_count": 47,
   "id": "101f79c2-d8a9-4d4b-9d42-6566c0bc9844",
   "metadata": {
    "tags": []
   },
   "outputs": [],
   "source": [
    "# Variance of residuals as a basis for standard error\n",
    "residuals = train['ml_models'] - fitted_holt_damped\n",
    "res_var = np.var(residuals)\n",
    "se = np.sqrt(res_var)\n",
    "\n",
    "z = 1.96\n",
    "ci_upper = holt_damped_forecast2 + z * se\n",
    "ci_lower = holt_damped_forecast2 - z * se"
   ]
  },
  {
   "cell_type": "code",
   "execution_count": 48,
   "id": "7ef66a8b-7e75-4a3b-8150-1513774e6d84",
   "metadata": {
    "tags": []
   },
   "outputs": [],
   "source": [
    "forecast_steps = 4\n",
    "z = 1.96\n",
    "se_steps = [np.sqrt(res_var * h) for h in range(1, forecast_steps + 1)]\n",
    "lower_bound = holt_damped_forecast2 - z * np.array(se_steps)\n",
    "upper_bound = holt_damped_forecast2 + z * np.array(se_steps)"
   ]
  },
  {
   "cell_type": "code",
   "execution_count": 49,
   "id": "183257ba-be53-4b4a-a729-8c55ea37ca23",
   "metadata": {
    "tags": []
   },
   "outputs": [
    {
     "name": "stdout",
     "output_type": "stream",
     "text": [
      "Damping parameter (phi): 0.995\n"
     ]
    }
   ],
   "source": [
    "print(\"Damping parameter (phi):\", holt_damped_model2.params['damping_trend'])"
   ]
  },
  {
   "cell_type": "markdown",
   "id": "0768f100-957d-475e-8e43-a61d5a8d63e8",
   "metadata": {},
   "source": [
    "The parameter responsible for damping reached a value close to one, which means that it won't have significant impact on the reduction of the predicted values."
   ]
  },
  {
   "cell_type": "code",
   "execution_count": 50,
   "id": "2d149cd9-890b-46c3-bd69-20eefc06efb9",
   "metadata": {
    "tags": []
   },
   "outputs": [
    {
     "data": {
      "text/plain": [
       "(0.0, 100.0)"
      ]
     },
     "execution_count": 50,
     "metadata": {},
     "output_type": "execute_result"
    },
    {
     "data": {
      "image/png": "[encoded data removed]",
      "text/plain": [
       "<Figure size 1400x600 with 1 Axes>"
      ]
     },
     "metadata": {},
     "output_type": "display_data"
    }
   ],
   "source": [
    "plt.figure(figsize=(14, 6))\n",
    "\n",
    "plt.plot(train_years, train['ml_models'], label='Training dataset', marker='o')\n",
    "\n",
    "plt.plot(test_years, test['ml_models'], label='Testing dataset', color='orange', marker='o')\n",
    "\n",
    "plt.plot(future_years, holt_damped_forecast2,label='Dumped Holt forecast', marker='x', linestyle='--', color='red')\n",
    "\n",
    "plt.fill_between(future_years, lower_bound, upper_bound, label='95% Confidence interval', color='orange', alpha=0.2)\n",
    "\n",
    "plt.xlabel(\"Year\")\n",
    "plt.ylabel(\"Number of machine learning models\")\n",
    "plt.legend()\n",
    "plt.xticks(xticks_filtered)\n",
    "plt.grid(True)\n",
    "plt.ylim(0, 100)"
   ]
  },
  {
   "cell_type": "markdown",
   "id": "db788cf7-12e1-48e8-bec1-f618d87a0906",
   "metadata": {},
   "source": [
    "The forecast is similar to that made with the ARIMA model. The values increase slightly slower, with the average growth rate in 2020-2023 being 13.5%, and for the ARIMA model it was one percentage point higher."
   ]
  },
  {
   "cell_type": "code",
   "execution_count": 51,
   "id": "c4d282ff-80e9-4fdf-9979-4dda20b74469",
   "metadata": {
    "tags": []
   },
   "outputs": [
    {
     "data": {
      "text/plain": [
       "17   56.45511767\n",
       "18   65.19994303\n",
       "19   73.90104427\n",
       "20   82.55864000\n",
       "dtype: float64"
      ]
     },
     "execution_count": 51,
     "metadata": {},
     "output_type": "execute_result"
    }
   ],
   "source": [
    "holt_damped_forecast2"
   ]
  },
  {
   "cell_type": "code",
   "execution_count": 52,
   "id": "b5e4dd21-0223-4a31-a717-b7cec551c27b",
   "metadata": {
    "tags": []
   },
   "outputs": [
    {
     "data": {
      "text/plain": [
       "17   57.05566394\n",
       "18   66.59393500\n",
       "19   76.13220605\n",
       "20   85.67047711\n",
       "Name: predicted_mean, dtype: float64"
      ]
     },
     "execution_count": 52,
     "metadata": {},
     "output_type": "execute_result"
    }
   ],
   "source": [
    "forecast_mean"
   ]
  },
  {
   "cell_type": "markdown",
   "id": "b0b35ac8-f0b5-4a41-9d24-89a2cf3c0127",
   "metadata": {},
   "source": [
    "### Dumped Holt forecast on full dataset"
   ]
  },
  {
   "cell_type": "code",
   "execution_count": 53,
   "id": "375ef710-615c-474d-a9e7-d11b67ca267f",
   "metadata": {
    "tags": []
   },
   "outputs": [],
   "source": [
    "holt_damped_model3 = ExponentialSmoothing(df2['ml_models'], trend='add', damped_trend=True, seasonal=None).fit()\n",
    "fitted_holt_damped3 = holt_damped_model3.fittedvalues\n",
    "holt_damped_forecast3 = holt_damped_model3.forecast(4)"
   ]
  },
  {
   "cell_type": "code",
   "execution_count": 54,
   "id": "39467f47-dc31-48e6-b303-042c7f7f3d84",
   "metadata": {
    "tags": []
   },
   "outputs": [
    {
     "data": {
      "text/plain": [
       "21   62.57082150\n",
       "22   67.12611461\n",
       "23   71.65863125\n",
       "24   76.16848531\n",
       "dtype: float64"
      ]
     },
     "execution_count": 54,
     "metadata": {},
     "output_type": "execute_result"
    }
   ],
   "source": [
    "holt_damped_forecast3"
   ]
  },
  {
   "cell_type": "code",
   "execution_count": 55,
   "id": "50e0e795-24b8-4a32-a9fd-008c00790c6a",
   "metadata": {
    "tags": []
   },
   "outputs": [],
   "source": [
    "residuals = df2['ml_models'] - fitted_holt_damped3\n",
    "res_var = np.var(residuals)\n",
    "se = np.sqrt(res_var)"
   ]
  },
  {
   "cell_type": "code",
   "execution_count": 56,
   "id": "58d98341-6a6c-4307-bf9d-f2c5fd81e0e4",
   "metadata": {
    "tags": []
   },
   "outputs": [],
   "source": [
    "forecast_steps = 4\n",
    "z = 1.96\n",
    "se_steps = [np.sqrt(res_var * h) for h in range(1, forecast_steps + 1)]\n",
    "lower_bound = holt_damped_forecast3 - z * np.array(se_steps)\n",
    "upper_bound = holt_damped_forecast3 + z * np.array(se_steps)"
   ]
  },
  {
   "cell_type": "code",
   "execution_count": 57,
   "id": "2cb598eb-9a6e-4e28-8b0e-a15e599ac38b",
   "metadata": {
    "tags": []
   },
   "outputs": [],
   "source": [
    "last_year = df2.index.max()\n",
    "\n",
    "forecast_index = pd.Index([last_year + i for i in range(1, 5)])\n",
    "\n",
    "forecast_series = pd.Series(holt_damped_forecast3.values, index=forecast_index)"
   ]
  },
  {
   "cell_type": "code",
   "execution_count": 58,
   "id": "5f283b65-54a3-4c66-bf5e-f06bbc17c6b2",
   "metadata": {
    "tags": []
   },
   "outputs": [
    {
     "data": {
      "image/png": "[encoded data removed]",
      "text/plain": [
       "<Figure size 1400x600 with 1 Axes>"
      ]
     },
     "metadata": {},
     "output_type": "display_data"
    }
   ],
   "source": [
    "plt.figure(figsize=(14, 6))\n",
    "plt.plot(df2['ml_models'], marker='o', color='blue', label='Wartości rzeczywiste')\n",
    "plt.plot(fitted_holt_damped3, marker='o', color='orange', label='Wartości oczekiwane')\n",
    "plt.plot(forecast_index, holt_damped_forecast3, label='Prognoza modelem Holta z tłumieniem', marker='x', linestyle='--', color='red')\n",
    "plt.fill_between(forecast_index, lower_bound, upper_bound, label='95% Przedział ufności', color='orange', alpha=0.2)\n",
    "plt.xlabel(\"Rok\")\n",
    "plt.ylabel('Liczba istotnych modeli uczenia maszynowego')\n",
    "plt.xticks(xticks_filtered)\n",
    "plt.legend()\n",
    "plt.grid(True)\n",
    "plt.show()"
   ]
  },
  {
   "cell_type": "code",
   "execution_count": 59,
   "id": "9da80f80-8817-4c9d-bd90-75104a539f7c",
   "metadata": {
    "tags": []
   },
   "outputs": [
    {
     "name": "stdout",
     "output_type": "stream",
     "text": [
      "Damping parameter (phi): 0.9949999997370674\n"
     ]
    }
   ],
   "source": [
    "print(\"Damping parameter (phi):\", holt_damped_model3.params['damping_trend'])"
   ]
  },
  {
   "cell_type": "markdown",
   "id": "f2fbe3cc-f1c0-48d6-bcfb-108eb7ea7fdb",
   "metadata": {},
   "source": [
    "The forecast again differs slightly from that made using the ARIMA model. Damping had a negligible effect on the forecast suppression, as the parameter reached a value close to one."
   ]
  },
  {
   "cell_type": "code",
   "execution_count": 61,
   "id": "d883bb88-3cb2-4e77-9ffd-4ce29b5448e3",
   "metadata": {
    "tags": []
   },
   "outputs": [
    {
     "name": "stdout",
     "output_type": "stream",
     "text": [
      "Mean Squared Error (MSE): 40.36624581810785\n",
      "RMSE: 6.35\n",
      "Mean Absolute Error (MAE): 4.625042884099422\n",
      "Determination: 0.8789944558617278\n",
      "Mean Absolute Percentage Error (MAPE): 44.45677846896028\n"
     ]
    }
   ],
   "source": [
    "mse_hw = mean_squared_error(df2['ml_models'], fitted_holt_damped3)\n",
    "rmse_hw = np.sqrt(mse_hw)\n",
    "mae_hw = mean_absolute_error(df2['ml_models'], fitted_holt_damped3)\n",
    "rsquare_hw = r2_score(df2['ml_models'], fitted_holt_damped3)\n",
    "mape_hw = np.mean(np.abs((df2['ml_models'] - fitted_holt_damped3)) / df2['ml_models'])* 100\n",
    "\n",
    "print(f\"Mean Squared Error (MSE): {mse_hw}\")\n",
    "print(f\"RMSE: {rmse_hw:.2f}\")\n",
    "print(f\"Mean Absolute Error (MAE): {mae_hw}\")\n",
    "print(f'Determination:', rsquare_hw)\n",
    "print(f\"Mean Absolute Percentage Error (MAPE): {mape_hw}\")"
   ]
  },
  {
   "cell_type": "code",
   "execution_count": 62,
   "id": "87d634b4-fb06-4476-8230-8d93ac71aa30",
   "metadata": {
    "tags": []
   },
   "outputs": [
    {
     "name": "stdout",
     "output_type": "stream",
     "text": [
      "Test Shapiro–Wilka: statystyka = 0.9547, p-value = 0.4165\n"
     ]
    }
   ],
   "source": [
    "shapiro_stat, shapiro_p = shapiro(residuals)\n",
    "print(f\"Test Shapiro–Wilka: statystyka = {shapiro_stat:.4f}, p-value = {shapiro_p:.4f}\")"
   ]
  },
  {
   "cell_type": "code",
   "execution_count": 63,
   "id": "7c82b679-d430-46b3-8fe8-cc99bfa00855",
   "metadata": {
    "tags": []
   },
   "outputs": [
    {
     "name": "stdout",
     "output_type": "stream",
     "text": [
      "ARCH test p-value: 0.1009\n"
     ]
    }
   ],
   "source": [
    "from statsmodels.stats.diagnostic import het_arch\n",
    "\n",
    "arch_test = het_arch(residuals)\n",
    "print(f\"ARCH test p-value: {arch_test[1]:.4f}\")"
   ]
  },
  {
   "cell_type": "markdown",
   "id": "4a294302-6a57-494d-999a-a520b44cf380",
   "metadata": {},
   "source": [
    "The Holt model fit the data to a similar degree as the ARIMA model. The coefficient of determination achieved the same high value. The largest difference in values was observed for the mean absolute percentage error; however, this measure is not fully reliable due to the low time series values. <br>\n",
    "The p-values for Holt's model residuals were above 0.1 for both tests. Using the standard significance level of 0.05, the model residuals were found to be normal and exhibited relatively constant variance."
   ]
  },
  {
   "cell_type": "markdown",
   "id": "34c6148d-6f64-4514-a5e4-49098abb725f",
   "metadata": {},
   "source": [
    "### Summary for USA prediction"
   ]
  },
  {
   "cell_type": "markdown",
   "id": "0fba19dc-d259-4006-b8c1-55f23c720dc2",
   "metadata": {},
   "source": [
    "For the United States, two forecasts were ultimately prepared based on two different models tailored to the nature of the time series. The observed lack of seasonality, high variability, and low autocorrelation between lags prevented the detection of patterns in the data. For such a short time series, these properties were sufficient to prevent the training of models such as Gradient Boosting or Prophet."
   ]
  }
 ],
 "metadata": {
  "kernelspec": {
   "display_name": "Python [conda env:base] *",
   "language": "python",
   "name": "conda-base-py"
  },
  "language_info": {
   "codemirror_mode": {
    "name": "ipython",
    "version": 3
   },
   "file_extension": ".py",
   "mimetype": "text/x-python",
   "name": "python",
   "nbconvert_exporter": "python",
   "pygments_lexer": "ipython3",
   "version": "3.13.5"
  }
 },
 "nbformat": 4,
 "nbformat_minor": 5
}
