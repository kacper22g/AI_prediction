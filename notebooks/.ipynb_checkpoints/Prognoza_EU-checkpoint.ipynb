{
 "cells": [
  {
   "cell_type": "code",
   "execution_count": 1,
   "id": "562c8eb2-61e9-452d-b664-2245590bf484",
   "metadata": {
    "tags": []
   },
   "outputs": [],
   "source": [
    "import numpy as np\n",
    "import pandas as pd\n",
    "from sklearn.metrics import mean_squared_error\n",
    "from sklearn.model_selection import train_test_split\n",
    "from scipy.stats import pearsonr\n",
    "import matplotlib.pyplot as plt\n",
    "import pandas_datareader.data as web\n",
    "from datetime import datetime, timedelta\n",
    "import matplotlib.pyplot as plt\n",
    "import seaborn as sns\n",
    "import matplotlib.ticker as ticker\n",
    "from arch import arch_model\n",
    "from pmdarima import auto_arima\n",
    "import warnings\n",
    "from statsmodels.graphics.tsaplots import plot_acf, plot_pacf\n",
    "from statsmodels.tsa.ar_model import AutoReg\n",
    "from statsmodels.tsa.arima.model import ARIMA\n",
    "from statsmodels.tsa.holtwinters import ExponentialSmoothing, Holt\n",
    "from statsmodels.tsa.stattools import kpss, adfuller\n",
    "from sklearn.neighbors import LocalOutlierFactor\n",
    "from sklearn.metrics import mean_squared_error, r2_score, mean_absolute_error, median_absolute_error\n",
    "from sklearn.ensemble import IsolationForest\n",
    "from statsmodels.tsa.seasonal import STL\n",
    "from statsmodels.tsa.seasonal import seasonal_decompose\n",
    "from sklearn.model_selection import GridSearchCV, RandomizedSearchCV\n",
    "from scipy import stats\n",
    "from scipy.stats import probplot, shapiro\n",
    "from statsmodels.stats.diagnostic import het_arch\n",
    "import statsmodels.api as sm\n",
    "from arch import arch_model\n",
    "import math \n",
    "from matplotlib import rc\n",
    "import matplotlib.pyplot as mpl\n",
    "import pandas as pd\n",
    "import numpy as np\n",
    "import statsmodels.api as sm\n",
    "from statsmodels.tsa.stattools import adfuller"
   ]
  },
  {
   "cell_type": "code",
   "execution_count": 2,
   "id": "acef6f56-4241-404b-a865-9f73e4f75fd4",
   "metadata": {},
   "outputs": [],
   "source": [
    "plt.rcParams[\"font.family\"] = \"Times New Roman\""
   ]
  },
  {
   "cell_type": "code",
   "execution_count": 3,
   "id": "6e3eb6e4-8c55-41b6-a2aa-f25981d90d28",
   "metadata": {},
   "outputs": [],
   "source": [
    "mpl.rcParams['font.size'] = 10"
   ]
  },
  {
   "cell_type": "code",
   "execution_count": 4,
   "id": "fac37033-f291-425f-93f3-c72652fde749",
   "metadata": {
    "tags": []
   },
   "outputs": [],
   "source": [
    "plt.rcParams[\"legend.loc\"] = \"upper left\""
   ]
  },
  {
   "cell_type": "code",
   "execution_count": 5,
   "id": "1735640d-16b0-4264-8cda-1c86d09be0cb",
   "metadata": {
    "tags": []
   },
   "outputs": [],
   "source": [
    "df = pd.read_excel('C:/JupyterLab/AI_prediction/data/raw/EU_ml_models.xlsx')"
   ]
  },
  {
   "cell_type": "code",
   "execution_count": 6,
   "id": "ef5fca09-e081-4915-b16c-b227b1d38647",
   "metadata": {
    "tags": []
   },
   "outputs": [
    {
     "data": {
      "text/html": [
       "<div>\n",
       "<style scoped>\n",
       "    .dataframe tbody tr th:only-of-type {\n",
       "        vertical-align: middle;\n",
       "    }\n",
       "\n",
       "    .dataframe tbody tr th {\n",
       "        vertical-align: top;\n",
       "    }\n",
       "\n",
       "    .dataframe thead th {\n",
       "        text-align: right;\n",
       "    }\n",
       "</style>\n",
       "<table border=\"1\" class=\"dataframe\">\n",
       "  <thead>\n",
       "    <tr style=\"text-align: right;\">\n",
       "      <th></th>\n",
       "      <th>year</th>\n",
       "      <th>ml_models</th>\n",
       "    </tr>\n",
       "  </thead>\n",
       "  <tbody>\n",
       "    <tr>\n",
       "      <th>0</th>\n",
       "      <td>2003</td>\n",
       "      <td>2</td>\n",
       "    </tr>\n",
       "    <tr>\n",
       "      <th>1</th>\n",
       "      <td>2004</td>\n",
       "      <td>0</td>\n",
       "    </tr>\n",
       "    <tr>\n",
       "      <th>2</th>\n",
       "      <td>2005</td>\n",
       "      <td>2</td>\n",
       "    </tr>\n",
       "    <tr>\n",
       "      <th>3</th>\n",
       "      <td>2006</td>\n",
       "      <td>6</td>\n",
       "    </tr>\n",
       "    <tr>\n",
       "      <th>4</th>\n",
       "      <td>2007</td>\n",
       "      <td>3</td>\n",
       "    </tr>\n",
       "    <tr>\n",
       "      <th>5</th>\n",
       "      <td>2008</td>\n",
       "      <td>2</td>\n",
       "    </tr>\n",
       "    <tr>\n",
       "      <th>6</th>\n",
       "      <td>2009</td>\n",
       "      <td>1</td>\n",
       "    </tr>\n",
       "    <tr>\n",
       "      <th>7</th>\n",
       "      <td>2010</td>\n",
       "      <td>4</td>\n",
       "    </tr>\n",
       "    <tr>\n",
       "      <th>8</th>\n",
       "      <td>2011</td>\n",
       "      <td>2</td>\n",
       "    </tr>\n",
       "    <tr>\n",
       "      <th>9</th>\n",
       "      <td>2012</td>\n",
       "      <td>2</td>\n",
       "    </tr>\n",
       "    <tr>\n",
       "      <th>10</th>\n",
       "      <td>2013</td>\n",
       "      <td>8</td>\n",
       "    </tr>\n",
       "    <tr>\n",
       "      <th>11</th>\n",
       "      <td>2014</td>\n",
       "      <td>12</td>\n",
       "    </tr>\n",
       "    <tr>\n",
       "      <th>12</th>\n",
       "      <td>2015</td>\n",
       "      <td>8</td>\n",
       "    </tr>\n",
       "    <tr>\n",
       "      <th>13</th>\n",
       "      <td>2016</td>\n",
       "      <td>10</td>\n",
       "    </tr>\n",
       "    <tr>\n",
       "      <th>14</th>\n",
       "      <td>2017</td>\n",
       "      <td>12</td>\n",
       "    </tr>\n",
       "    <tr>\n",
       "      <th>15</th>\n",
       "      <td>2018</td>\n",
       "      <td>12</td>\n",
       "    </tr>\n",
       "    <tr>\n",
       "      <th>16</th>\n",
       "      <td>2019</td>\n",
       "      <td>18</td>\n",
       "    </tr>\n",
       "    <tr>\n",
       "      <th>17</th>\n",
       "      <td>2020</td>\n",
       "      <td>7</td>\n",
       "    </tr>\n",
       "    <tr>\n",
       "      <th>18</th>\n",
       "      <td>2021</td>\n",
       "      <td>15</td>\n",
       "    </tr>\n",
       "    <tr>\n",
       "      <th>19</th>\n",
       "      <td>2022</td>\n",
       "      <td>22</td>\n",
       "    </tr>\n",
       "    <tr>\n",
       "      <th>20</th>\n",
       "      <td>2023</td>\n",
       "      <td>25</td>\n",
       "    </tr>\n",
       "  </tbody>\n",
       "</table>\n",
       "</div>"
      ],
      "text/plain": [
       "    year  ml_models\n",
       "0   2003          2\n",
       "1   2004          0\n",
       "2   2005          2\n",
       "3   2006          6\n",
       "4   2007          3\n",
       "5   2008          2\n",
       "6   2009          1\n",
       "7   2010          4\n",
       "8   2011          2\n",
       "9   2012          2\n",
       "10  2013          8\n",
       "11  2014         12\n",
       "12  2015          8\n",
       "13  2016         10\n",
       "14  2017         12\n",
       "15  2018         12\n",
       "16  2019         18\n",
       "17  2020          7\n",
       "18  2021         15\n",
       "19  2022         22\n",
       "20  2023         25"
      ]
     },
     "execution_count": 6,
     "metadata": {},
     "output_type": "execute_result"
    }
   ],
   "source": [
    "df"
   ]
  },
  {
   "cell_type": "code",
   "execution_count": 7,
   "id": "24c075b9-111d-42e5-836e-156f868b7362",
   "metadata": {},
   "outputs": [
    {
     "data": {
      "text/plain": [
       "([<matplotlib.axis.XTick at 0x213f0fcd2b0>,\n",
       "  <matplotlib.axis.XTick at 0x213f0fed1d0>,\n",
       "  <matplotlib.axis.XTick at 0x213f0fed950>,\n",
       "  <matplotlib.axis.XTick at 0x213f0fee0d0>,\n",
       "  <matplotlib.axis.XTick at 0x213f0fee850>,\n",
       "  <matplotlib.axis.XTick at 0x213f0f7e990>,\n",
       "  <matplotlib.axis.XTick at 0x213f0fef610>],\n",
       " [Text(0, 0, '0'),\n",
       "  Text(3, 0, '3'),\n",
       "  Text(6, 0, '6'),\n",
       "  Text(9, 0, '9'),\n",
       "  Text(12, 0, '12'),\n",
       "  Text(15, 0, '15'),\n",
       "  Text(18, 0, '18')])"
      ]
     },
     "execution_count": 7,
     "metadata": {},
     "output_type": "execute_result"
    },
    {
     "data": {
      "image/png": "[encoded data removed]",
      "text/plain": [
       "<Figure size 1200x600 with 1 Axes>"
      ]
     },
     "metadata": {},
     "output_type": "display_data"
    }
   ],
   "source": [
    "xticks_labels = df.index.tolist()\n",
    "xticks_filtered = [year for year in xticks_labels if year % 3 == 0]\n",
    "\n",
    "plt.figure(figsize=(12, 6))\n",
    "plt.plot(df['ml_models'], marker='o', color='blue', label='ml_models')\n",
    "plt.xticks(xticks_filtered)"
   ]
  },
  {
   "cell_type": "markdown",
   "id": "11c350a9-c84d-49f8-81df-00136dcb0a04",
   "metadata": {},
   "source": [
    "As in other regions, the number of models fluctuated significantly during the period under review. There is an upward trend in the data, but its polynomial was determined by comparing two models estimated using the classical least squares method."
   ]
  },
  {
   "cell_type": "markdown",
   "id": "88a3279c-f844-474d-a7ea-1eb03fa1e066",
   "metadata": {},
   "source": [
    "### Trend type verification"
   ]
  },
  {
   "cell_type": "code",
   "execution_count": 8,
   "id": "3fb19903-68bf-4bed-887b-9ab886369be8",
   "metadata": {},
   "outputs": [
    {
     "data": {
      "text/html": [
       "<div>\n",
       "<style scoped>\n",
       "    .dataframe tbody tr th:only-of-type {\n",
       "        vertical-align: middle;\n",
       "    }\n",
       "\n",
       "    .dataframe tbody tr th {\n",
       "        vertical-align: top;\n",
       "    }\n",
       "\n",
       "    .dataframe thead th {\n",
       "        text-align: right;\n",
       "    }\n",
       "</style>\n",
       "<table border=\"1\" class=\"dataframe\">\n",
       "  <thead>\n",
       "    <tr style=\"text-align: right;\">\n",
       "      <th></th>\n",
       "      <th>Statistic</th>\n",
       "      <th>Linear trend model</th>\n",
       "      <th>Quadratic trend model</th>\n",
       "    </tr>\n",
       "  </thead>\n",
       "  <tbody>\n",
       "    <tr>\n",
       "      <th>0</th>\n",
       "      <td>p-value (t-test for trend coefficient)</td>\n",
       "      <td>0.00000061</td>\n",
       "      <td>0.01154555</td>\n",
       "    </tr>\n",
       "    <tr>\n",
       "      <th>1</th>\n",
       "      <td>R-squared</td>\n",
       "      <td>0.73848076</td>\n",
       "      <td>0.81873837</td>\n",
       "    </tr>\n",
       "    <tr>\n",
       "      <th>2</th>\n",
       "      <td>Standard error of residuals</td>\n",
       "      <td>3.75391646</td>\n",
       "      <td>3.21089619</td>\n",
       "    </tr>\n",
       "    <tr>\n",
       "      <th>3</th>\n",
       "      <td>F-statistic (user definition)</td>\n",
       "      <td>1.36683685</td>\n",
       "      <td>1.36683685</td>\n",
       "    </tr>\n",
       "    <tr>\n",
       "      <th>4</th>\n",
       "      <td>Critical F (alpha=0.05, user definition)</td>\n",
       "      <td>2.25667097</td>\n",
       "      <td>2.25667097</td>\n",
       "    </tr>\n",
       "  </tbody>\n",
       "</table>\n",
       "</div>"
      ],
      "text/plain": [
       "                                  Statistic  Linear trend model  \\\n",
       "0    p-value (t-test for trend coefficient)          0.00000061   \n",
       "1                                 R-squared          0.73848076   \n",
       "2               Standard error of residuals          3.75391646   \n",
       "3             F-statistic (user definition)          1.36683685   \n",
       "4  Critical F (alpha=0.05, user definition)          2.25667097   \n",
       "\n",
       "   Quadratic trend model  \n",
       "0             0.01154555  \n",
       "1             0.81873837  \n",
       "2             3.21089619  \n",
       "3             1.36683685  \n",
       "4             2.25667097  "
      ]
     },
     "execution_count": 8,
     "metadata": {},
     "output_type": "execute_result"
    }
   ],
   "source": [
    "y = df[\"ml_models\"]\n",
    "t = df[\"year\"]\n",
    "\n",
    "X_lin = sm.add_constant(t)\n",
    "model_lin = sm.OLS(y, X_lin).fit()\n",
    "\n",
    "X_quad = sm.add_constant(np.column_stack((t, t**2)))\n",
    "model_quad = sm.OLS(y, X_quad).fit()\n",
    "\n",
    "# Linear model statistics\n",
    "p_value_lin = model_lin.pvalues.iloc[1] \n",
    "r2_lin = model_lin.rsquared\n",
    "se_lin = np.sqrt(model_lin.mse_resid)\n",
    "f_lin = model_lin.fvalue\n",
    "f_crit_lin = stats.f.ppf(0.95, model_lin.df_model, model_lin.df_resid)\n",
    "\n",
    "# Quadratic model statistics\n",
    "p_value_quad = model_quad.pvalues.iloc[1]\n",
    "r2_quad = model_quad.rsquared\n",
    "se_quad = np.sqrt(model_quad.mse_resid)\n",
    "f_quad = model_quad.fvalue\n",
    "f_crit_quad = stats.f.ppf(0.95, model_quad.df_model, model_quad.df_resid)\n",
    "\n",
    "# Degrees of freedom \n",
    "n = len(df)\n",
    "k_lin = X_lin.shape[1] \n",
    "k_quad = X_quad.shape[1] \n",
    "\n",
    "df1_new = n - k_lin - 1\n",
    "df2_new = n - k_quad - 1\n",
    "\n",
    "F_user_updated = (se_lin / se_quad) ** 2\n",
    "F_crit_updated = stats.f.ppf(0.95, df1_new, df2_new)\n",
    "\n",
    "pd.options.display.float_format = '{:.8f}'.format\n",
    "\n",
    "results_updated = pd.DataFrame({\n",
    "    \"Statistic\": [\n",
    "        \"p-value (t-test for trend coefficient)\",\n",
    "        \"R-squared\",\n",
    "        \"Standard error of residuals\",\n",
    "        \"F-statistic (user definition)\",\n",
    "        \"Critical F (alpha=0.05, user definition)\"\n",
    "    ],\n",
    "    \"Linear trend model\": [\n",
    "        p_value_lin, r2_lin, se_lin, F_user_updated, F_crit_updated\n",
    "    ],\n",
    "    \"Quadratic trend model\": [\n",
    "        p_value_quad, r2_quad, se_quad, F_user_updated, F_crit_updated\n",
    "    ]\n",
    "})\n",
    "\n",
    "results_updated"
   ]
  },
  {
   "cell_type": "markdown",
   "id": "b718a117-6ca3-4340-bdfa-0bab253bf554",
   "metadata": {},
   "source": [
    "Based on the coefficient of determination, it was determined that the model with a quadratic trend fitted the data better than the model with a linear trend. The Akaike information criterion was also slightly lower. The obtained p values ​​indicate that the parameters for both the linear and quadratic trend are significant in the models. However, Fisher's exact test did not reveal a significant difference between the models; the critical value was significantly higher than the squared standard error of the residuals. Further calculations assumed that a quadratic trend did not occur in the data."
   ]
  },
  {
   "cell_type": "markdown",
   "id": "59976557-a0fa-460e-862b-cf2d68067645",
   "metadata": {},
   "source": [
    "### Stationarity testing"
   ]
  },
  {
   "cell_type": "code",
   "execution_count": 9,
   "id": "d6fba24c-1dbd-4fa5-a553-5f8fa0c0a330",
   "metadata": {},
   "outputs": [
    {
     "name": "stderr",
     "output_type": "stream",
     "text": [
      "C:\\Users\\tester\\AppData\\Local\\Temp\\ipykernel_4220\\1192270414.py:7: InterpolationWarning: The test statistic is outside of the range of p-values available in the\n",
      "look-up table. The actual p-value is greater than the p-value returned.\n",
      "\n",
      "  kpss(residuals_trend, regression=\"c\", nlags=4)\n"
     ]
    },
    {
     "data": {
      "text/plain": [
       "(np.float64(0.08740819076207253),\n",
       " np.float64(0.1),\n",
       " 4,\n",
       " {'10%': 0.347, '5%': 0.463, '2.5%': 0.574, '1%': 0.739})"
      ]
     },
     "execution_count": 9,
     "metadata": {},
     "output_type": "execute_result"
    }
   ],
   "source": [
    "kpss(df[\"ml_models\"], nlags=4, regression=\"ct\")\n",
    "df[\"time\"] = df[\"year\"]\n",
    "df[\"timesq\"] = df[\"year\"]**2\n",
    "X_trend = sm.add_constant(df[[\"time\", \"timesq\"]])\n",
    "model_trend = sm.OLS(df[\"ml_models\"], X_trend).fit()\n",
    "residuals_trend = model_trend.resid\n",
    "kpss(residuals_trend, regression=\"c\", nlags=4)"
   ]
  },
  {
   "cell_type": "code",
   "execution_count": 10,
   "id": "86ec0141-02dd-4db1-b9d3-c70754159d95",
   "metadata": {},
   "outputs": [],
   "source": [
    "def check_stationarity(series):\n",
    "    # Source https://machinelearningmastery.com/time-series-data-stationary-python/\n",
    "\n",
    "    result = adfuller(series.values)\n",
    "\n",
    "    print('ADF Statistic: %f' % result[0])\n",
    "    print('p-value: %f' % result[1])\n",
    "    print('Critical Values:')\n",
    "    for key, value in result[4].items():\n",
    "        print('\\t%s: %.3f' % (key, value))\n",
    "\n",
    "    if (result[1] <= 0.05) & (result[4]['5%'] > result[0]):\n",
    "        print(\"\\u001b[32mStationary\\u001b[0m\")\n",
    "    else:\n",
    "        print(\"\\x1b[31mNon-stationary\\x1b[0m\")"
   ]
  },
  {
   "cell_type": "code",
   "execution_count": 11,
   "id": "04ccd181-7608-492c-8f3e-1d93c6e0482a",
   "metadata": {},
   "outputs": [
    {
     "name": "stdout",
     "output_type": "stream",
     "text": [
      "ADF Statistic: -0.499064\n",
      "p-value: 0.892199\n",
      "Critical Values:\n",
      "\t1%: -3.809\n",
      "\t5%: -3.022\n",
      "\t10%: -2.651\n",
      "\u001b[31mNon-stationary\u001b[0m\n"
     ]
    }
   ],
   "source": [
    "check_stationarity(df['ml_models'])"
   ]
  },
  {
   "cell_type": "code",
   "execution_count": 12,
   "id": "f2d254fe-d321-4786-a279-324d96614bd4",
   "metadata": {},
   "outputs": [],
   "source": [
    "adf_result_original = adfuller(df['ml_models'])"
   ]
  },
  {
   "cell_type": "code",
   "execution_count": 13,
   "id": "c8116237-9097-4279-9b63-6abcf11b4118",
   "metadata": {},
   "outputs": [],
   "source": [
    "time_series_diff = np.diff(df[\"ml_models\"])\n",
    "\n",
    "df_diff = pd.DataFrame({\"Differenced\": time_series_diff})"
   ]
  },
  {
   "cell_type": "code",
   "execution_count": 14,
   "id": "f394d3e5-0d8c-4930-ba19-4438ddd1f307",
   "metadata": {},
   "outputs": [],
   "source": [
    "def check_stationarity(series):\n",
    "    # Żródło https://machinelearningmastery.com/time-series-data-stationary-python/\n",
    "\n",
    "    result = adfuller(series.values)\n",
    "\n",
    "    print('ADF Statistic: %f' % result[0])\n",
    "    print('p-value: %f' % result[1])\n",
    "    print('Critical Values:')\n",
    "    for key, value in result[4].items():\n",
    "        print('\\t%s: %.3f' % (key, value))\n",
    "\n",
    "    if (result[1] <= 0.05) & (result[4]['5%'] > result[0]):\n",
    "        print(\"\\u001b[32mStationary\\u001b[0m\")\n",
    "    else:\n",
    "        print(\"\\x1b[31mNon-stationary\\x1b[0m\")"
   ]
  },
  {
   "cell_type": "code",
   "execution_count": 15,
   "id": "fd403dfd-ee4c-4428-a9d9-39e2fff31e87",
   "metadata": {},
   "outputs": [
    {
     "name": "stdout",
     "output_type": "stream",
     "text": [
      "ADF Statistic: -8.840131\n",
      "p-value: 0.000000\n",
      "Critical Values:\n",
      "\t1%: -4.223\n",
      "\t5%: -3.189\n",
      "\t10%: -2.730\n",
      "\u001b[32mStationary\u001b[0m\n"
     ]
    }
   ],
   "source": [
    "check_stationarity(df_diff['Differenced'])"
   ]
  },
  {
   "cell_type": "code",
   "execution_count": 16,
   "id": "e06b5498-000c-4717-9fd0-f682888f427d",
   "metadata": {},
   "outputs": [],
   "source": [
    "adf_result_diff = adfuller(df_diff['Differenced'])"
   ]
  },
  {
   "cell_type": "markdown",
   "id": "d6ab5a84-daeb-478b-ad39-225a2a724279",
   "metadata": {},
   "source": [
    "Series integrated in the first degree"
   ]
  },
  {
   "cell_type": "markdown",
   "id": "ffabddce-1331-49ad-bc65-1744e3dd8e09",
   "metadata": {},
   "source": [
    "### Autocorelation functions"
   ]
  },
  {
   "cell_type": "code",
   "execution_count": 17,
   "id": "1413960b-6d7e-4935-b7ff-da462dcbbfda",
   "metadata": {
    "tags": []
   },
   "outputs": [],
   "source": [
    "time_series_diff = np.diff(df[\"ml_models\"])\n",
    "\n",
    "df_diff = pd.DataFrame({\"Differenced\": time_series_diff})"
   ]
  },
  {
   "cell_type": "code",
   "execution_count": 18,
   "id": "1b63079b-c2d5-48a8-9dea-08a02d03ccd6",
   "metadata": {},
   "outputs": [
    {
     "data": {
      "image/png": "[encoded data removed]",
      "text/plain": [
       "<Figure size 1500x500 with 2 Axes>"
      ]
     },
     "metadata": {},
     "output_type": "display_data"
    }
   ],
   "source": [
    "fig, axes = plt.subplots(1, 2, figsize=(15, 5))\n",
    "\n",
    "sm.graphics.tsa.plot_acf(df_diff[\"Differenced\"], lags=7, alpha=0.05, ax=axes[0], title=\"ACF (Autocorrelation Function)\")\n",
    "\n",
    "sm.graphics.tsa.plot_pacf(df_diff[\"Differenced\"], lags=7, alpha=0.05, ax=axes[1], title=\"PACF (Partial Autocorrelation Function)\")\n",
    "\n",
    "plt.tight_layout()\n",
    "plt.show()"
   ]
  },
  {
   "cell_type": "markdown",
   "id": "c4b91984-57e9-4b34-a0a6-27cdb6908ffb",
   "metadata": {},
   "source": [
    "### ARIMA forecast on testing dataset"
   ]
  },
  {
   "cell_type": "markdown",
   "id": "458e5ccb-df3a-4e70-b73f-9b6e7c2b43f7",
   "metadata": {},
   "source": [
    "#### Chosing best ARIMA model"
   ]
  },
  {
   "cell_type": "code",
   "execution_count": 19,
   "id": "b27cbe27-e32d-4c09-8725-5ae6e835049c",
   "metadata": {
    "tags": []
   },
   "outputs": [],
   "source": [
    "df2 = df.set_index('year')"
   ]
  },
  {
   "cell_type": "code",
   "execution_count": 20,
   "id": "4d97093a-f318-403f-a0c1-dd9ea6a76ce5",
   "metadata": {
    "tags": []
   },
   "outputs": [],
   "source": [
    "train_size = len(df) - 4  \n",
    "train, test = df['ml_models'][:train_size], df['ml_models'][train_size:]\n",
    "train_years = df['year'][:train_size]\n",
    "test_years = df['year'][train_size:]"
   ]
  },
  {
   "cell_type": "code",
   "execution_count": null,
   "id": "2807ae6b-588c-47a4-a313-18ad9bb335f4",
   "metadata": {},
   "outputs": [],
   "source": [
    "warnings.filterwarnings(\"ignore\", category=FutureWarning)\n",
    "warnings.filterwarnings(\"ignore\", category=UserWarning)"
   ]
  },
  {
   "cell_type": "code",
   "execution_count": 21,
   "id": "41a39a3c-5663-458c-85bd-d015db581140",
   "metadata": {
    "tags": []
   },
   "outputs": [
    {
     "name": "stdout",
     "output_type": "stream",
     "text": [
      "Performing stepwise search to minimize aic\n",
      " ARIMA(0,1,0)(0,0,0)[0] intercept   : AIC=84.562, Time=0.01 sec\n",
      " ARIMA(1,1,0)(0,0,0)[0] intercept   : AIC=86.102, Time=0.01 sec\n",
      " ARIMA(0,1,1)(0,0,0)[0] intercept   : AIC=84.994, Time=0.01 sec\n",
      " ARIMA(0,1,0)(0,0,0)[0]             : AIC=84.247, Time=0.01 sec\n",
      " ARIMA(1,1,1)(0,0,0)[0] intercept   : AIC=inf, Time=0.09 sec\n",
      "\n",
      "Best model:  ARIMA(0,1,0)(0,0,0)[0]          \n",
      "Total fit time: 0.135 seconds\n"
     ]
    },
    {
     "name": "stderr",
     "output_type": "stream",
     "text": [
      "C:\\ProgramData\\anaconda3\\Lib\\site-packages\\sklearn\\utils\\deprecation.py:151: FutureWarning: 'force_all_finite' was renamed to 'ensure_all_finite' in 1.6 and will be removed in 1.8.\n",
      "  warnings.warn(\n",
      "C:\\ProgramData\\anaconda3\\Lib\\site-packages\\sklearn\\utils\\deprecation.py:151: FutureWarning: 'force_all_finite' was renamed to 'ensure_all_finite' in 1.6 and will be removed in 1.8.\n",
      "  warnings.warn(\n",
      "C:\\ProgramData\\anaconda3\\Lib\\site-packages\\sklearn\\utils\\deprecation.py:151: FutureWarning: 'force_all_finite' was renamed to 'ensure_all_finite' in 1.6 and will be removed in 1.8.\n",
      "  warnings.warn(\n",
      "C:\\ProgramData\\anaconda3\\Lib\\site-packages\\sklearn\\utils\\deprecation.py:151: FutureWarning: 'force_all_finite' was renamed to 'ensure_all_finite' in 1.6 and will be removed in 1.8.\n",
      "  warnings.warn(\n",
      "C:\\ProgramData\\anaconda3\\Lib\\site-packages\\sklearn\\utils\\deprecation.py:151: FutureWarning: 'force_all_finite' was renamed to 'ensure_all_finite' in 1.6 and will be removed in 1.8.\n",
      "  warnings.warn(\n",
      "C:\\ProgramData\\anaconda3\\Lib\\site-packages\\sklearn\\utils\\deprecation.py:151: FutureWarning: 'force_all_finite' was renamed to 'ensure_all_finite' in 1.6 and will be removed in 1.8.\n",
      "  warnings.warn(\n"
     ]
    },
    {
     "data": {
      "text/html": [
       "<table class=\"simpletable\">\n",
       "<caption>SARIMAX Results</caption>\n",
       "<tr>\n",
       "  <th>Dep. Variable:</th>           <td>y</td>        <th>  No. Observations:  </th>   <td>17</td>   \n",
       "</tr>\n",
       "<tr>\n",
       "  <th>Model:</th>           <td>SARIMAX(0, 1, 0)</td> <th>  Log Likelihood     </th> <td>-41.124</td>\n",
       "</tr>\n",
       "<tr>\n",
       "  <th>Date:</th>            <td>Fri, 10 Oct 2025</td> <th>  AIC                </th> <td>84.247</td> \n",
       "</tr>\n",
       "<tr>\n",
       "  <th>Time:</th>                <td>18:29:59</td>     <th>  BIC                </th> <td>85.020</td> \n",
       "</tr>\n",
       "<tr>\n",
       "  <th>Sample:</th>                  <td>0</td>        <th>  HQIC               </th> <td>84.287</td> \n",
       "</tr>\n",
       "<tr>\n",
       "  <th></th>                       <td> - 17</td>      <th>                     </th>    <td> </td>   \n",
       "</tr>\n",
       "<tr>\n",
       "  <th>Covariance Type:</th>        <td>opg</td>       <th>                     </th>    <td> </td>   \n",
       "</tr>\n",
       "</table>\n",
       "<table class=\"simpletable\">\n",
       "<tr>\n",
       "     <td></td>       <th>coef</th>     <th>std err</th>      <th>z</th>      <th>P>|z|</th>  <th>[0.025</th>    <th>0.975]</th>  \n",
       "</tr>\n",
       "<tr>\n",
       "  <th>sigma2</th> <td>    9.9999</td> <td>    4.468</td> <td>    2.238</td> <td> 0.025</td> <td>    1.244</td> <td>   18.756</td>\n",
       "</tr>\n",
       "</table>\n",
       "<table class=\"simpletable\">\n",
       "<tr>\n",
       "  <th>Ljung-Box (L1) (Q):</th>     <td>0.45</td> <th>  Jarque-Bera (JB):  </th> <td>0.80</td>\n",
       "</tr>\n",
       "<tr>\n",
       "  <th>Prob(Q):</th>                <td>0.50</td> <th>  Prob(JB):          </th> <td>0.67</td>\n",
       "</tr>\n",
       "<tr>\n",
       "  <th>Heteroskedasticity (H):</th> <td>1.76</td> <th>  Skew:              </th> <td>0.12</td>\n",
       "</tr>\n",
       "<tr>\n",
       "  <th>Prob(H) (two-sided):</th>    <td>0.55</td> <th>  Kurtosis:          </th> <td>1.94</td>\n",
       "</tr>\n",
       "</table><br/><br/>Warnings:<br/>[1] Covariance matrix calculated using the outer product of gradients (complex-step)."
      ],
      "text/latex": [
       "\\begin{center}\n",
       "\\begin{tabular}{lclc}\n",
       "\\toprule\n",
       "\\textbf{Dep. Variable:}          &        y         & \\textbf{  No. Observations:  } &     17      \\\\\n",
       "\\textbf{Model:}                  & SARIMAX(0, 1, 0) & \\textbf{  Log Likelihood     } &  -41.124    \\\\\n",
       "\\textbf{Date:}                   & Fri, 10 Oct 2025 & \\textbf{  AIC                } &   84.247    \\\\\n",
       "\\textbf{Time:}                   &     18:29:59     & \\textbf{  BIC                } &   85.020    \\\\\n",
       "\\textbf{Sample:}                 &        0         & \\textbf{  HQIC               } &   84.287    \\\\\n",
       "\\textbf{}                        &       - 17       & \\textbf{                     } &             \\\\\n",
       "\\textbf{Covariance Type:}        &       opg        & \\textbf{                     } &             \\\\\n",
       "\\bottomrule\n",
       "\\end{tabular}\n",
       "\\begin{tabular}{lcccccc}\n",
       "                & \\textbf{coef} & \\textbf{std err} & \\textbf{z} & \\textbf{P$> |$z$|$} & \\textbf{[0.025} & \\textbf{0.975]}  \\\\\n",
       "\\midrule\n",
       "\\textbf{sigma2} &       9.9999  &        4.468     &     2.238  &         0.025        &        1.244    &       18.756     \\\\\n",
       "\\bottomrule\n",
       "\\end{tabular}\n",
       "\\begin{tabular}{lclc}\n",
       "\\textbf{Ljung-Box (L1) (Q):}     & 0.45 & \\textbf{  Jarque-Bera (JB):  } & 0.80  \\\\\n",
       "\\textbf{Prob(Q):}                & 0.50 & \\textbf{  Prob(JB):          } & 0.67  \\\\\n",
       "\\textbf{Heteroskedasticity (H):} & 1.76 & \\textbf{  Skew:              } & 0.12  \\\\\n",
       "\\textbf{Prob(H) (two-sided):}    & 0.55 & \\textbf{  Kurtosis:          } & 1.94  \\\\\n",
       "\\bottomrule\n",
       "\\end{tabular}\n",
       "%\\caption{SARIMAX Results}\n",
       "\\end{center}\n",
       "\n",
       "Warnings: \\newline\n",
       " [1] Covariance matrix calculated using the outer product of gradients (complex-step)."
      ],
      "text/plain": [
       "<class 'statsmodels.iolib.summary.Summary'>\n",
       "\"\"\"\n",
       "                               SARIMAX Results                                \n",
       "==============================================================================\n",
       "Dep. Variable:                      y   No. Observations:                   17\n",
       "Model:               SARIMAX(0, 1, 0)   Log Likelihood                 -41.124\n",
       "Date:                Fri, 10 Oct 2025   AIC                             84.247\n",
       "Time:                        18:29:59   BIC                             85.020\n",
       "Sample:                             0   HQIC                            84.287\n",
       "                                 - 17                                         \n",
       "Covariance Type:                  opg                                         \n",
       "==============================================================================\n",
       "                 coef    std err          z      P>|z|      [0.025      0.975]\n",
       "------------------------------------------------------------------------------\n",
       "sigma2         9.9999      4.468      2.238      0.025       1.244      18.756\n",
       "===================================================================================\n",
       "Ljung-Box (L1) (Q):                   0.45   Jarque-Bera (JB):                 0.80\n",
       "Prob(Q):                              0.50   Prob(JB):                         0.67\n",
       "Heteroskedasticity (H):               1.76   Skew:                             0.12\n",
       "Prob(H) (two-sided):                  0.55   Kurtosis:                         1.94\n",
       "===================================================================================\n",
       "\n",
       "Warnings:\n",
       "[1] Covariance matrix calculated using the outer product of gradients (complex-step).\n",
       "\"\"\""
      ]
     },
     "execution_count": 21,
     "metadata": {},
     "output_type": "execute_result"
    }
   ],
   "source": [
    "stepwise_fit = auto_arima(train, trace=True, start_p=0, d=1, start_q=0, information_criterion='aic', test='adf',\n",
    "suppress_warnings=True)\n",
    "\n",
    "stepwise_fit.summary()"
   ]
  },
  {
   "cell_type": "code",
   "execution_count": 22,
   "id": "cf949ad6-7223-482d-8e7b-e51593c3d383",
   "metadata": {
    "tags": []
   },
   "outputs": [
    {
     "name": "stderr",
     "output_type": "stream",
     "text": [
      "C:\\ProgramData\\anaconda3\\Lib\\site-packages\\sklearn\\utils\\deprecation.py:151: FutureWarning: 'force_all_finite' was renamed to 'ensure_all_finite' in 1.6 and will be removed in 1.8.\n",
      "  warnings.warn(\n",
      "C:\\ProgramData\\anaconda3\\Lib\\site-packages\\sklearn\\utils\\deprecation.py:151: FutureWarning: 'force_all_finite' was renamed to 'ensure_all_finite' in 1.6 and will be removed in 1.8.\n",
      "  warnings.warn(\n",
      "C:\\ProgramData\\anaconda3\\Lib\\site-packages\\sklearn\\utils\\deprecation.py:151: FutureWarning: 'force_all_finite' was renamed to 'ensure_all_finite' in 1.6 and will be removed in 1.8.\n",
      "  warnings.warn(\n",
      "C:\\ProgramData\\anaconda3\\Lib\\site-packages\\sklearn\\utils\\deprecation.py:151: FutureWarning: 'force_all_finite' was renamed to 'ensure_all_finite' in 1.6 and will be removed in 1.8.\n",
      "  warnings.warn(\n"
     ]
    },
    {
     "name": "stdout",
     "output_type": "stream",
     "text": [
      "Performing stepwise search to minimize bic\n",
      " ARIMA(0,1,0)(0,0,0)[0] intercept   : BIC=86.107, Time=0.01 sec\n",
      " ARIMA(1,1,0)(0,0,0)[0] intercept   : BIC=88.420, Time=0.02 sec\n",
      " ARIMA(0,1,1)(0,0,0)[0] intercept   : BIC=87.311, Time=0.03 sec\n",
      " ARIMA(0,1,0)(0,0,0)[0]             : BIC=85.020, Time=0.01 sec\n",
      " ARIMA(1,1,1)(0,0,0)[0] intercept   : BIC=inf, Time=0.07 sec\n",
      "\n",
      "Best model:  ARIMA(0,1,0)(0,0,0)[0]          \n",
      "Total fit time: 0.141 seconds\n"
     ]
    },
    {
     "name": "stderr",
     "output_type": "stream",
     "text": [
      "C:\\ProgramData\\anaconda3\\Lib\\site-packages\\sklearn\\utils\\deprecation.py:151: FutureWarning: 'force_all_finite' was renamed to 'ensure_all_finite' in 1.6 and will be removed in 1.8.\n",
      "  warnings.warn(\n",
      "C:\\ProgramData\\anaconda3\\Lib\\site-packages\\sklearn\\utils\\deprecation.py:151: FutureWarning: 'force_all_finite' was renamed to 'ensure_all_finite' in 1.6 and will be removed in 1.8.\n",
      "  warnings.warn(\n"
     ]
    },
    {
     "data": {
      "text/html": [
       "<table class=\"simpletable\">\n",
       "<caption>SARIMAX Results</caption>\n",
       "<tr>\n",
       "  <th>Dep. Variable:</th>           <td>y</td>        <th>  No. Observations:  </th>   <td>17</td>   \n",
       "</tr>\n",
       "<tr>\n",
       "  <th>Model:</th>           <td>SARIMAX(0, 1, 0)</td> <th>  Log Likelihood     </th> <td>-41.124</td>\n",
       "</tr>\n",
       "<tr>\n",
       "  <th>Date:</th>            <td>Fri, 10 Oct 2025</td> <th>  AIC                </th> <td>84.247</td> \n",
       "</tr>\n",
       "<tr>\n",
       "  <th>Time:</th>                <td>18:29:59</td>     <th>  BIC                </th> <td>85.020</td> \n",
       "</tr>\n",
       "<tr>\n",
       "  <th>Sample:</th>                  <td>0</td>        <th>  HQIC               </th> <td>84.287</td> \n",
       "</tr>\n",
       "<tr>\n",
       "  <th></th>                       <td> - 17</td>      <th>                     </th>    <td> </td>   \n",
       "</tr>\n",
       "<tr>\n",
       "  <th>Covariance Type:</th>        <td>opg</td>       <th>                     </th>    <td> </td>   \n",
       "</tr>\n",
       "</table>\n",
       "<table class=\"simpletable\">\n",
       "<tr>\n",
       "     <td></td>       <th>coef</th>     <th>std err</th>      <th>z</th>      <th>P>|z|</th>  <th>[0.025</th>    <th>0.975]</th>  \n",
       "</tr>\n",
       "<tr>\n",
       "  <th>sigma2</th> <td>    9.9999</td> <td>    4.468</td> <td>    2.238</td> <td> 0.025</td> <td>    1.244</td> <td>   18.756</td>\n",
       "</tr>\n",
       "</table>\n",
       "<table class=\"simpletable\">\n",
       "<tr>\n",
       "  <th>Ljung-Box (L1) (Q):</th>     <td>0.45</td> <th>  Jarque-Bera (JB):  </th> <td>0.80</td>\n",
       "</tr>\n",
       "<tr>\n",
       "  <th>Prob(Q):</th>                <td>0.50</td> <th>  Prob(JB):          </th> <td>0.67</td>\n",
       "</tr>\n",
       "<tr>\n",
       "  <th>Heteroskedasticity (H):</th> <td>1.76</td> <th>  Skew:              </th> <td>0.12</td>\n",
       "</tr>\n",
       "<tr>\n",
       "  <th>Prob(H) (two-sided):</th>    <td>0.55</td> <th>  Kurtosis:          </th> <td>1.94</td>\n",
       "</tr>\n",
       "</table><br/><br/>Warnings:<br/>[1] Covariance matrix calculated using the outer product of gradients (complex-step)."
      ],
      "text/latex": [
       "\\begin{center}\n",
       "\\begin{tabular}{lclc}\n",
       "\\toprule\n",
       "\\textbf{Dep. Variable:}          &        y         & \\textbf{  No. Observations:  } &     17      \\\\\n",
       "\\textbf{Model:}                  & SARIMAX(0, 1, 0) & \\textbf{  Log Likelihood     } &  -41.124    \\\\\n",
       "\\textbf{Date:}                   & Fri, 10 Oct 2025 & \\textbf{  AIC                } &   84.247    \\\\\n",
       "\\textbf{Time:}                   &     18:29:59     & \\textbf{  BIC                } &   85.020    \\\\\n",
       "\\textbf{Sample:}                 &        0         & \\textbf{  HQIC               } &   84.287    \\\\\n",
       "\\textbf{}                        &       - 17       & \\textbf{                     } &             \\\\\n",
       "\\textbf{Covariance Type:}        &       opg        & \\textbf{                     } &             \\\\\n",
       "\\bottomrule\n",
       "\\end{tabular}\n",
       "\\begin{tabular}{lcccccc}\n",
       "                & \\textbf{coef} & \\textbf{std err} & \\textbf{z} & \\textbf{P$> |$z$|$} & \\textbf{[0.025} & \\textbf{0.975]}  \\\\\n",
       "\\midrule\n",
       "\\textbf{sigma2} &       9.9999  &        4.468     &     2.238  &         0.025        &        1.244    &       18.756     \\\\\n",
       "\\bottomrule\n",
       "\\end{tabular}\n",
       "\\begin{tabular}{lclc}\n",
       "\\textbf{Ljung-Box (L1) (Q):}     & 0.45 & \\textbf{  Jarque-Bera (JB):  } & 0.80  \\\\\n",
       "\\textbf{Prob(Q):}                & 0.50 & \\textbf{  Prob(JB):          } & 0.67  \\\\\n",
       "\\textbf{Heteroskedasticity (H):} & 1.76 & \\textbf{  Skew:              } & 0.12  \\\\\n",
       "\\textbf{Prob(H) (two-sided):}    & 0.55 & \\textbf{  Kurtosis:          } & 1.94  \\\\\n",
       "\\bottomrule\n",
       "\\end{tabular}\n",
       "%\\caption{SARIMAX Results}\n",
       "\\end{center}\n",
       "\n",
       "Warnings: \\newline\n",
       " [1] Covariance matrix calculated using the outer product of gradients (complex-step)."
      ],
      "text/plain": [
       "<class 'statsmodels.iolib.summary.Summary'>\n",
       "\"\"\"\n",
       "                               SARIMAX Results                                \n",
       "==============================================================================\n",
       "Dep. Variable:                      y   No. Observations:                   17\n",
       "Model:               SARIMAX(0, 1, 0)   Log Likelihood                 -41.124\n",
       "Date:                Fri, 10 Oct 2025   AIC                             84.247\n",
       "Time:                        18:29:59   BIC                             85.020\n",
       "Sample:                             0   HQIC                            84.287\n",
       "                                 - 17                                         \n",
       "Covariance Type:                  opg                                         \n",
       "==============================================================================\n",
       "                 coef    std err          z      P>|z|      [0.025      0.975]\n",
       "------------------------------------------------------------------------------\n",
       "sigma2         9.9999      4.468      2.238      0.025       1.244      18.756\n",
       "===================================================================================\n",
       "Ljung-Box (L1) (Q):                   0.45   Jarque-Bera (JB):                 0.80\n",
       "Prob(Q):                              0.50   Prob(JB):                         0.67\n",
       "Heteroskedasticity (H):               1.76   Skew:                             0.12\n",
       "Prob(H) (two-sided):                  0.55   Kurtosis:                         1.94\n",
       "===================================================================================\n",
       "\n",
       "Warnings:\n",
       "[1] Covariance matrix calculated using the outer product of gradients (complex-step).\n",
       "\"\"\""
      ]
     },
     "execution_count": 22,
     "metadata": {},
     "output_type": "execute_result"
    }
   ],
   "source": [
    "stepwise_fit = auto_arima(train, trace=True, start_p=0, d=1, start_q=0, information_criterion='bic', test='adf',\n",
    "suppress_warnings=True)\n",
    "\n",
    "stepwise_fit.summary()"
   ]
  },
  {
   "cell_type": "code",
   "execution_count": 23,
   "id": "8a7291aa-7ca7-4359-832f-70dbf8277307",
   "metadata": {
    "tags": []
   },
   "outputs": [],
   "source": [
    "sarima=ARIMA(train,order=(1,1,0))\n",
    "predicted2=sarima.fit()"
   ]
  },
  {
   "cell_type": "code",
   "execution_count": 24,
   "id": "2a084ede-8b9a-4c59-a706-2433287350be",
   "metadata": {
    "tags": []
   },
   "outputs": [
    {
     "data": {
      "image/png": "[encoded data removed]",
      "text/plain": [
       "<Figure size 1200x600 with 1 Axes>"
      ]
     },
     "metadata": {},
     "output_type": "display_data"
    }
   ],
   "source": [
    "xticks_labels = df2.index.tolist()\n",
    "xticks_filtered = [year for year in xticks_labels if year % 3 == 0]\n",
    "\n",
    "forecast_steps = 4\n",
    "forecast_result = predicted2.get_forecast(steps=forecast_steps)\n",
    "forecast_mean = forecast_result.predicted_mean\n",
    "forecast_ci = forecast_result.conf_int()\n",
    "\n",
    "future_years = test_years.values  \n",
    "plt.figure(figsize=(12, 6))\n",
    "plt.plot(train_years, train, label='Zbiór uczący', marker='o')\n",
    "plt.plot(test_years, test, label='Zbiór testowy (rzeczywiste dane)', color='orange', marker='o')\n",
    "plt.plot(future_years, forecast_mean, label='Prognoza na 2 lata', marker='x', linestyle='--', color='red')\n",
    "plt.fill_between(future_years, forecast_ci.iloc[:, 0], forecast_ci.iloc[:, 1], color='orange', alpha=0.2, label='95% Przedział ufności')\n",
    "\n",
    "plt.xlabel('Rok')\n",
    "plt.ylabel('Liczba modeli ML')\n",
    "plt.title('')\n",
    "plt.legend()\n",
    "plt.grid(True)\n",
    "plt.show()"
   ]
  },
  {
   "cell_type": "markdown",
   "id": "2c0c5399-3060-4172-a357-9e49bd26abc2",
   "metadata": {},
   "source": [
    "### ARIMA forecast on full dataset"
   ]
  },
  {
   "cell_type": "markdown",
   "id": "35b67166-6be0-442e-98fe-19216fd9cc07",
   "metadata": {},
   "source": [
    "#### Choosing best ARIMA model"
   ]
  },
  {
   "cell_type": "code",
   "execution_count": 29,
   "id": "0512d0f8-f9ab-4cd7-9f44-61b9b5f0fb67",
   "metadata": {
    "tags": []
   },
   "outputs": [],
   "source": [
    "warnings.filterwarnings('ignore')"
   ]
  },
  {
   "cell_type": "code",
   "execution_count": 30,
   "id": "9f9dd9cb-9890-4353-a1f3-06e5412713fe",
   "metadata": {
    "tags": []
   },
   "outputs": [
    {
     "name": "stdout",
     "output_type": "stream",
     "text": [
      "Performing stepwise search to minimize aic\n",
      " ARIMA(0,1,0)(0,0,0)[0] intercept   : AIC=119.464, Time=0.01 sec\n",
      " ARIMA(1,1,0)(0,0,0)[0] intercept   : AIC=119.613, Time=0.02 sec\n",
      " ARIMA(0,1,1)(0,0,0)[0] intercept   : AIC=117.356, Time=0.02 sec\n",
      " ARIMA(0,1,0)(0,0,0)[0]             : AIC=118.822, Time=0.01 sec\n",
      " ARIMA(1,1,1)(0,0,0)[0] intercept   : AIC=inf, Time=0.07 sec\n",
      " ARIMA(0,1,2)(0,0,0)[0] intercept   : AIC=inf, Time=0.06 sec\n",
      " ARIMA(1,1,2)(0,0,0)[0] intercept   : AIC=inf, Time=0.10 sec\n",
      " ARIMA(0,1,1)(0,0,0)[0]             : AIC=119.540, Time=0.01 sec\n",
      "\n",
      "Best model:  ARIMA(0,1,1)(0,0,0)[0] intercept\n",
      "Total fit time: 0.309 seconds\n"
     ]
    },
    {
     "data": {
      "text/html": [
       "<table class=\"simpletable\">\n",
       "<caption>SARIMAX Results</caption>\n",
       "<tr>\n",
       "  <th>Dep. Variable:</th>           <td>y</td>        <th>  No. Observations:  </th>   <td>21</td>   \n",
       "</tr>\n",
       "<tr>\n",
       "  <th>Model:</th>           <td>SARIMAX(0, 1, 1)</td> <th>  Log Likelihood     </th> <td>-55.678</td>\n",
       "</tr>\n",
       "<tr>\n",
       "  <th>Date:</th>            <td>Fri, 10 Oct 2025</td> <th>  AIC                </th> <td>117.356</td>\n",
       "</tr>\n",
       "<tr>\n",
       "  <th>Time:</th>                <td>18:30:00</td>     <th>  BIC                </th> <td>120.343</td>\n",
       "</tr>\n",
       "<tr>\n",
       "  <th>Sample:</th>                  <td>0</td>        <th>  HQIC               </th> <td>117.939</td>\n",
       "</tr>\n",
       "<tr>\n",
       "  <th></th>                       <td> - 21</td>      <th>                     </th>    <td> </td>   \n",
       "</tr>\n",
       "<tr>\n",
       "  <th>Covariance Type:</th>        <td>opg</td>       <th>                     </th>    <td> </td>   \n",
       "</tr>\n",
       "</table>\n",
       "<table class=\"simpletable\">\n",
       "<tr>\n",
       "      <td></td>         <th>coef</th>     <th>std err</th>      <th>z</th>      <th>P>|z|</th>  <th>[0.025</th>    <th>0.975]</th>  \n",
       "</tr>\n",
       "<tr>\n",
       "  <th>intercept</th> <td>    1.0305</td> <td>    0.300</td> <td>    3.438</td> <td> 0.001</td> <td>    0.443</td> <td>    1.618</td>\n",
       "</tr>\n",
       "<tr>\n",
       "  <th>ma.L1</th>     <td>   -0.6706</td> <td>    0.227</td> <td>   -2.951</td> <td> 0.003</td> <td>   -1.116</td> <td>   -0.225</td>\n",
       "</tr>\n",
       "<tr>\n",
       "  <th>sigma2</th>    <td>   14.8807</td> <td>    5.563</td> <td>    2.675</td> <td> 0.007</td> <td>    3.978</td> <td>   25.783</td>\n",
       "</tr>\n",
       "</table>\n",
       "<table class=\"simpletable\">\n",
       "<tr>\n",
       "  <th>Ljung-Box (L1) (Q):</th>     <td>0.20</td> <th>  Jarque-Bera (JB):  </th> <td>0.08</td> \n",
       "</tr>\n",
       "<tr>\n",
       "  <th>Prob(Q):</th>                <td>0.66</td> <th>  Prob(JB):          </th> <td>0.96</td> \n",
       "</tr>\n",
       "<tr>\n",
       "  <th>Heteroskedasticity (H):</th> <td>3.68</td> <th>  Skew:              </th> <td>-0.02</td>\n",
       "</tr>\n",
       "<tr>\n",
       "  <th>Prob(H) (two-sided):</th>    <td>0.11</td> <th>  Kurtosis:          </th> <td>2.70</td> \n",
       "</tr>\n",
       "</table><br/><br/>Warnings:<br/>[1] Covariance matrix calculated using the outer product of gradients (complex-step)."
      ],
      "text/latex": [
       "\\begin{center}\n",
       "\\begin{tabular}{lclc}\n",
       "\\toprule\n",
       "\\textbf{Dep. Variable:}          &        y         & \\textbf{  No. Observations:  } &     21      \\\\\n",
       "\\textbf{Model:}                  & SARIMAX(0, 1, 1) & \\textbf{  Log Likelihood     } &  -55.678    \\\\\n",
       "\\textbf{Date:}                   & Fri, 10 Oct 2025 & \\textbf{  AIC                } &  117.356    \\\\\n",
       "\\textbf{Time:}                   &     18:30:00     & \\textbf{  BIC                } &  120.343    \\\\\n",
       "\\textbf{Sample:}                 &        0         & \\textbf{  HQIC               } &  117.939    \\\\\n",
       "\\textbf{}                        &       - 21       & \\textbf{                     } &             \\\\\n",
       "\\textbf{Covariance Type:}        &       opg        & \\textbf{                     } &             \\\\\n",
       "\\bottomrule\n",
       "\\end{tabular}\n",
       "\\begin{tabular}{lcccccc}\n",
       "                   & \\textbf{coef} & \\textbf{std err} & \\textbf{z} & \\textbf{P$> |$z$|$} & \\textbf{[0.025} & \\textbf{0.975]}  \\\\\n",
       "\\midrule\n",
       "\\textbf{intercept} &       1.0305  &        0.300     &     3.438  &         0.001        &        0.443    &        1.618     \\\\\n",
       "\\textbf{ma.L1}     &      -0.6706  &        0.227     &    -2.951  &         0.003        &       -1.116    &       -0.225     \\\\\n",
       "\\textbf{sigma2}    &      14.8807  &        5.563     &     2.675  &         0.007        &        3.978    &       25.783     \\\\\n",
       "\\bottomrule\n",
       "\\end{tabular}\n",
       "\\begin{tabular}{lclc}\n",
       "\\textbf{Ljung-Box (L1) (Q):}     & 0.20 & \\textbf{  Jarque-Bera (JB):  } &  0.08  \\\\\n",
       "\\textbf{Prob(Q):}                & 0.66 & \\textbf{  Prob(JB):          } &  0.96  \\\\\n",
       "\\textbf{Heteroskedasticity (H):} & 3.68 & \\textbf{  Skew:              } & -0.02  \\\\\n",
       "\\textbf{Prob(H) (two-sided):}    & 0.11 & \\textbf{  Kurtosis:          } &  2.70  \\\\\n",
       "\\bottomrule\n",
       "\\end{tabular}\n",
       "%\\caption{SARIMAX Results}\n",
       "\\end{center}\n",
       "\n",
       "Warnings: \\newline\n",
       " [1] Covariance matrix calculated using the outer product of gradients (complex-step)."
      ],
      "text/plain": [
       "<class 'statsmodels.iolib.summary.Summary'>\n",
       "\"\"\"\n",
       "                               SARIMAX Results                                \n",
       "==============================================================================\n",
       "Dep. Variable:                      y   No. Observations:                   21\n",
       "Model:               SARIMAX(0, 1, 1)   Log Likelihood                 -55.678\n",
       "Date:                Fri, 10 Oct 2025   AIC                            117.356\n",
       "Time:                        18:30:00   BIC                            120.343\n",
       "Sample:                             0   HQIC                           117.939\n",
       "                                 - 21                                         \n",
       "Covariance Type:                  opg                                         \n",
       "==============================================================================\n",
       "                 coef    std err          z      P>|z|      [0.025      0.975]\n",
       "------------------------------------------------------------------------------\n",
       "intercept      1.0305      0.300      3.438      0.001       0.443       1.618\n",
       "ma.L1         -0.6706      0.227     -2.951      0.003      -1.116      -0.225\n",
       "sigma2        14.8807      5.563      2.675      0.007       3.978      25.783\n",
       "===================================================================================\n",
       "Ljung-Box (L1) (Q):                   0.20   Jarque-Bera (JB):                 0.08\n",
       "Prob(Q):                              0.66   Prob(JB):                         0.96\n",
       "Heteroskedasticity (H):               3.68   Skew:                            -0.02\n",
       "Prob(H) (two-sided):                  0.11   Kurtosis:                         2.70\n",
       "===================================================================================\n",
       "\n",
       "Warnings:\n",
       "[1] Covariance matrix calculated using the outer product of gradients (complex-step).\n",
       "\"\"\""
      ]
     },
     "execution_count": 30,
     "metadata": {},
     "output_type": "execute_result"
    }
   ],
   "source": [
    "stepwise_fit = auto_arima(df2['ml_models'], trace=True, start_p=0, d=1, start_q=0, test='adf', information_criterion='aic',\n",
    "suppress_warnings=True)\n",
    "\n",
    "stepwise_fit.summary()"
   ]
  },
  {
   "cell_type": "code",
   "execution_count": 31,
   "id": "d2868f1d-3e0c-48a2-b25b-f14442ca87e1",
   "metadata": {
    "tags": []
   },
   "outputs": [
    {
     "name": "stdout",
     "output_type": "stream",
     "text": [
      "Performing stepwise search to minimize bic\n",
      " ARIMA(0,1,0)(0,0,0)[0] intercept   : BIC=121.455, Time=0.01 sec\n",
      " ARIMA(1,1,0)(0,0,0)[0] intercept   : BIC=122.600, Time=0.02 sec\n",
      " ARIMA(0,1,1)(0,0,0)[0] intercept   : BIC=120.343, Time=0.02 sec\n",
      " ARIMA(0,1,0)(0,0,0)[0]             : BIC=119.817, Time=0.01 sec\n",
      " ARIMA(1,1,1)(0,0,0)[0] intercept   : BIC=inf, Time=0.07 sec\n",
      "\n",
      "Best model:  ARIMA(0,1,0)(0,0,0)[0]          \n",
      "Total fit time: 0.133 seconds\n"
     ]
    },
    {
     "data": {
      "text/html": [
       "<table class=\"simpletable\">\n",
       "<caption>SARIMAX Results</caption>\n",
       "<tr>\n",
       "  <th>Dep. Variable:</th>           <td>y</td>        <th>  No. Observations:  </th>   <td>21</td>   \n",
       "</tr>\n",
       "<tr>\n",
       "  <th>Model:</th>           <td>SARIMAX(0, 1, 0)</td> <th>  Log Likelihood     </th> <td>-58.411</td>\n",
       "</tr>\n",
       "<tr>\n",
       "  <th>Date:</th>            <td>Fri, 10 Oct 2025</td> <th>  AIC                </th> <td>118.822</td>\n",
       "</tr>\n",
       "<tr>\n",
       "  <th>Time:</th>                <td>18:30:00</td>     <th>  BIC                </th> <td>119.817</td>\n",
       "</tr>\n",
       "<tr>\n",
       "  <th>Sample:</th>                  <td>0</td>        <th>  HQIC               </th> <td>119.016</td>\n",
       "</tr>\n",
       "<tr>\n",
       "  <th></th>                       <td> - 21</td>      <th>                     </th>    <td> </td>   \n",
       "</tr>\n",
       "<tr>\n",
       "  <th>Covariance Type:</th>        <td>opg</td>       <th>                     </th>    <td> </td>   \n",
       "</tr>\n",
       "</table>\n",
       "<table class=\"simpletable\">\n",
       "<tr>\n",
       "     <td></td>       <th>coef</th>     <th>std err</th>      <th>z</th>      <th>P>|z|</th>  <th>[0.025</th>    <th>0.975]</th>  \n",
       "</tr>\n",
       "<tr>\n",
       "  <th>sigma2</th> <td>   20.1499</td> <td>    6.283</td> <td>    3.207</td> <td> 0.001</td> <td>    7.835</td> <td>   32.465</td>\n",
       "</tr>\n",
       "</table>\n",
       "<table class=\"simpletable\">\n",
       "<tr>\n",
       "  <th>Ljung-Box (L1) (Q):</th>     <td>2.07</td> <th>  Jarque-Bera (JB):  </th> <td>2.71</td> \n",
       "</tr>\n",
       "<tr>\n",
       "  <th>Prob(Q):</th>                <td>0.15</td> <th>  Prob(JB):          </th> <td>0.26</td> \n",
       "</tr>\n",
       "<tr>\n",
       "  <th>Heteroskedasticity (H):</th> <td>6.43</td> <th>  Skew:              </th> <td>-0.78</td>\n",
       "</tr>\n",
       "<tr>\n",
       "  <th>Prob(H) (two-sided):</th>    <td>0.03</td> <th>  Kurtosis:          </th> <td>3.90</td> \n",
       "</tr>\n",
       "</table><br/><br/>Warnings:<br/>[1] Covariance matrix calculated using the outer product of gradients (complex-step)."
      ],
      "text/latex": [
       "\\begin{center}\n",
       "\\begin{tabular}{lclc}\n",
       "\\toprule\n",
       "\\textbf{Dep. Variable:}          &        y         & \\textbf{  No. Observations:  } &     21      \\\\\n",
       "\\textbf{Model:}                  & SARIMAX(0, 1, 0) & \\textbf{  Log Likelihood     } &  -58.411    \\\\\n",
       "\\textbf{Date:}                   & Fri, 10 Oct 2025 & \\textbf{  AIC                } &  118.822    \\\\\n",
       "\\textbf{Time:}                   &     18:30:00     & \\textbf{  BIC                } &  119.817    \\\\\n",
       "\\textbf{Sample:}                 &        0         & \\textbf{  HQIC               } &  119.016    \\\\\n",
       "\\textbf{}                        &       - 21       & \\textbf{                     } &             \\\\\n",
       "\\textbf{Covariance Type:}        &       opg        & \\textbf{                     } &             \\\\\n",
       "\\bottomrule\n",
       "\\end{tabular}\n",
       "\\begin{tabular}{lcccccc}\n",
       "                & \\textbf{coef} & \\textbf{std err} & \\textbf{z} & \\textbf{P$> |$z$|$} & \\textbf{[0.025} & \\textbf{0.975]}  \\\\\n",
       "\\midrule\n",
       "\\textbf{sigma2} &      20.1499  &        6.283     &     3.207  &         0.001        &        7.835    &       32.465     \\\\\n",
       "\\bottomrule\n",
       "\\end{tabular}\n",
       "\\begin{tabular}{lclc}\n",
       "\\textbf{Ljung-Box (L1) (Q):}     & 2.07 & \\textbf{  Jarque-Bera (JB):  } &  2.71  \\\\\n",
       "\\textbf{Prob(Q):}                & 0.15 & \\textbf{  Prob(JB):          } &  0.26  \\\\\n",
       "\\textbf{Heteroskedasticity (H):} & 6.43 & \\textbf{  Skew:              } & -0.78  \\\\\n",
       "\\textbf{Prob(H) (two-sided):}    & 0.03 & \\textbf{  Kurtosis:          } &  3.90  \\\\\n",
       "\\bottomrule\n",
       "\\end{tabular}\n",
       "%\\caption{SARIMAX Results}\n",
       "\\end{center}\n",
       "\n",
       "Warnings: \\newline\n",
       " [1] Covariance matrix calculated using the outer product of gradients (complex-step)."
      ],
      "text/plain": [
       "<class 'statsmodels.iolib.summary.Summary'>\n",
       "\"\"\"\n",
       "                               SARIMAX Results                                \n",
       "==============================================================================\n",
       "Dep. Variable:                      y   No. Observations:                   21\n",
       "Model:               SARIMAX(0, 1, 0)   Log Likelihood                 -58.411\n",
       "Date:                Fri, 10 Oct 2025   AIC                            118.822\n",
       "Time:                        18:30:00   BIC                            119.817\n",
       "Sample:                             0   HQIC                           119.016\n",
       "                                 - 21                                         \n",
       "Covariance Type:                  opg                                         \n",
       "==============================================================================\n",
       "                 coef    std err          z      P>|z|      [0.025      0.975]\n",
       "------------------------------------------------------------------------------\n",
       "sigma2        20.1499      6.283      3.207      0.001       7.835      32.465\n",
       "===================================================================================\n",
       "Ljung-Box (L1) (Q):                   2.07   Jarque-Bera (JB):                 2.71\n",
       "Prob(Q):                              0.15   Prob(JB):                         0.26\n",
       "Heteroskedasticity (H):               6.43   Skew:                            -0.78\n",
       "Prob(H) (two-sided):                  0.03   Kurtosis:                         3.90\n",
       "===================================================================================\n",
       "\n",
       "Warnings:\n",
       "[1] Covariance matrix calculated using the outer product of gradients (complex-step).\n",
       "\"\"\""
      ]
     },
     "execution_count": 31,
     "metadata": {},
     "output_type": "execute_result"
    }
   ],
   "source": [
    "stepwise_fit = auto_arima(df2['ml_models'], trace=True, start_p=0, d=1, start_q=0, test='adf', information_criterion='bic',\n",
    "suppress_warnings=True)\n",
    "\n",
    "stepwise_fit.summary()"
   ]
  },
  {
   "cell_type": "markdown",
   "id": "19fae006-a0f2-44b7-a91f-7797075b669e",
   "metadata": {},
   "source": [
    "Autokorelacje w procesie, z którego pobierana jest próba (w populacji), wynoszą 0, zatem wszelkie niezerowe korelacje zaobserwowane w danych wynikają z losowości procesu doboru próby. Reszty mają rozkład normalny."
   ]
  },
  {
   "cell_type": "code",
   "execution_count": 32,
   "id": "51f7faff-fb15-4c17-aa13-3e771120be34",
   "metadata": {
    "tags": []
   },
   "outputs": [
    {
     "data": {
      "text/html": [
       "<style>#sk-container-id-1 {\n",
       "  /* Definition of color scheme common for light and dark mode */\n",
       "  --sklearn-color-text: #000;\n",
       "  --sklearn-color-text-muted: #666;\n",
       "  --sklearn-color-line: gray;\n",
       "  /* Definition of color scheme for unfitted estimators */\n",
       "  --sklearn-color-unfitted-level-0: #fff5e6;\n",
       "  --sklearn-color-unfitted-level-1: #f6e4d2;\n",
       "  --sklearn-color-unfitted-level-2: #ffe0b3;\n",
       "  --sklearn-color-unfitted-level-3: chocolate;\n",
       "  /* Definition of color scheme for fitted estimators */\n",
       "  --sklearn-color-fitted-level-0: #f0f8ff;\n",
       "  --sklearn-color-fitted-level-1: #d4ebff;\n",
       "  --sklearn-color-fitted-level-2: #b3dbfd;\n",
       "  --sklearn-color-fitted-level-3: cornflowerblue;\n",
       "\n",
       "  /* Specific color for light theme */\n",
       "  --sklearn-color-text-on-default-background: var(--sg-text-color, var(--theme-code-foreground, var(--jp-content-font-color1, black)));\n",
       "  --sklearn-color-background: var(--sg-background-color, var(--theme-background, var(--jp-layout-color0, white)));\n",
       "  --sklearn-color-border-box: var(--sg-text-color, var(--theme-code-foreground, var(--jp-content-font-color1, black)));\n",
       "  --sklearn-color-icon: #696969;\n",
       "\n",
       "  @media (prefers-color-scheme: dark) {\n",
       "    /* Redefinition of color scheme for dark theme */\n",
       "    --sklearn-color-text-on-default-background: var(--sg-text-color, var(--theme-code-foreground, var(--jp-content-font-color1, white)));\n",
       "    --sklearn-color-background: var(--sg-background-color, var(--theme-background, var(--jp-layout-color0, #111)));\n",
       "    --sklearn-color-border-box: var(--sg-text-color, var(--theme-code-foreground, var(--jp-content-font-color1, white)));\n",
       "    --sklearn-color-icon: #878787;\n",
       "  }\n",
       "}\n",
       "\n",
       "#sk-container-id-1 {\n",
       "  color: var(--sklearn-color-text);\n",
       "}\n",
       "\n",
       "#sk-container-id-1 pre {\n",
       "  padding: 0;\n",
       "}\n",
       "\n",
       "#sk-container-id-1 input.sk-hidden--visually {\n",
       "  border: 0;\n",
       "  clip: rect(1px 1px 1px 1px);\n",
       "  clip: rect(1px, 1px, 1px, 1px);\n",
       "  height: 1px;\n",
       "  margin: -1px;\n",
       "  overflow: hidden;\n",
       "  padding: 0;\n",
       "  position: absolute;\n",
       "  width: 1px;\n",
       "}\n",
       "\n",
       "#sk-container-id-1 div.sk-dashed-wrapped {\n",
       "  border: 1px dashed var(--sklearn-color-line);\n",
       "  margin: 0 0.4em 0.5em 0.4em;\n",
       "  box-sizing: border-box;\n",
       "  padding-bottom: 0.4em;\n",
       "  background-color: var(--sklearn-color-background);\n",
       "}\n",
       "\n",
       "#sk-container-id-1 div.sk-container {\n",
       "  /* jupyter's `normalize.less` sets `[hidden] { display: none; }`\n",
       "     but bootstrap.min.css set `[hidden] { display: none !important; }`\n",
       "     so we also need the `!important` here to be able to override the\n",
       "     default hidden behavior on the sphinx rendered scikit-learn.org.\n",
       "     See: https://github.com/scikit-learn/scikit-learn/issues/21755 */\n",
       "  display: inline-block !important;\n",
       "  position: relative;\n",
       "}\n",
       "\n",
       "#sk-container-id-1 div.sk-text-repr-fallback {\n",
       "  display: none;\n",
       "}\n",
       "\n",
       "div.sk-parallel-item,\n",
       "div.sk-serial,\n",
       "div.sk-item {\n",
       "  /* draw centered vertical line to link estimators */\n",
       "  background-image: linear-gradient(var(--sklearn-color-text-on-default-background), var(--sklearn-color-text-on-default-background));\n",
       "  background-size: 2px 100%;\n",
       "  background-repeat: no-repeat;\n",
       "  background-position: center center;\n",
       "}\n",
       "\n",
       "/* Parallel-specific style estimator block */\n",
       "\n",
       "#sk-container-id-1 div.sk-parallel-item::after {\n",
       "  content: \"\";\n",
       "  width: 100%;\n",
       "  border-bottom: 2px solid var(--sklearn-color-text-on-default-background);\n",
       "  flex-grow: 1;\n",
       "}\n",
       "\n",
       "#sk-container-id-1 div.sk-parallel {\n",
       "  display: flex;\n",
       "  align-items: stretch;\n",
       "  justify-content: center;\n",
       "  background-color: var(--sklearn-color-background);\n",
       "  position: relative;\n",
       "}\n",
       "\n",
       "#sk-container-id-1 div.sk-parallel-item {\n",
       "  display: flex;\n",
       "  flex-direction: column;\n",
       "}\n",
       "\n",
       "#sk-container-id-1 div.sk-parallel-item:first-child::after {\n",
       "  align-self: flex-end;\n",
       "  width: 50%;\n",
       "}\n",
       "\n",
       "#sk-container-id-1 div.sk-parallel-item:last-child::after {\n",
       "  align-self: flex-start;\n",
       "  width: 50%;\n",
       "}\n",
       "\n",
       "#sk-container-id-1 div.sk-parallel-item:only-child::after {\n",
       "  width: 0;\n",
       "}\n",
       "\n",
       "/* Serial-specific style estimator block */\n",
       "\n",
       "#sk-container-id-1 div.sk-serial {\n",
       "  display: flex;\n",
       "  flex-direction: column;\n",
       "  align-items: center;\n",
       "  background-color: var(--sklearn-color-background);\n",
       "  padding-right: 1em;\n",
       "  padding-left: 1em;\n",
       "}\n",
       "\n",
       "\n",
       "/* Toggleable style: style used for estimator/Pipeline/ColumnTransformer box that is\n",
       "clickable and can be expanded/collapsed.\n",
       "- Pipeline and ColumnTransformer use this feature and define the default style\n",
       "- Estimators will overwrite some part of the style using the `sk-estimator` class\n",
       "*/\n",
       "\n",
       "/* Pipeline and ColumnTransformer style (default) */\n",
       "\n",
       "#sk-container-id-1 div.sk-toggleable {\n",
       "  /* Default theme specific background. It is overwritten whether we have a\n",
       "  specific estimator or a Pipeline/ColumnTransformer */\n",
       "  background-color: var(--sklearn-color-background);\n",
       "}\n",
       "\n",
       "/* Toggleable label */\n",
       "#sk-container-id-1 label.sk-toggleable__label {\n",
       "  cursor: pointer;\n",
       "  display: flex;\n",
       "  width: 100%;\n",
       "  margin-bottom: 0;\n",
       "  padding: 0.5em;\n",
       "  box-sizing: border-box;\n",
       "  text-align: center;\n",
       "  align-items: start;\n",
       "  justify-content: space-between;\n",
       "  gap: 0.5em;\n",
       "}\n",
       "\n",
       "#sk-container-id-1 label.sk-toggleable__label .caption {\n",
       "  font-size: 0.6rem;\n",
       "  font-weight: lighter;\n",
       "  color: var(--sklearn-color-text-muted);\n",
       "}\n",
       "\n",
       "#sk-container-id-1 label.sk-toggleable__label-arrow:before {\n",
       "  /* Arrow on the left of the label */\n",
       "  content: \"▸\";\n",
       "  float: left;\n",
       "  margin-right: 0.25em;\n",
       "  color: var(--sklearn-color-icon);\n",
       "}\n",
       "\n",
       "#sk-container-id-1 label.sk-toggleable__label-arrow:hover:before {\n",
       "  color: var(--sklearn-color-text);\n",
       "}\n",
       "\n",
       "/* Toggleable content - dropdown */\n",
       "\n",
       "#sk-container-id-1 div.sk-toggleable__content {\n",
       "  max-height: 0;\n",
       "  max-width: 0;\n",
       "  overflow: hidden;\n",
       "  text-align: left;\n",
       "  /* unfitted */\n",
       "  background-color: var(--sklearn-color-unfitted-level-0);\n",
       "}\n",
       "\n",
       "#sk-container-id-1 div.sk-toggleable__content.fitted {\n",
       "  /* fitted */\n",
       "  background-color: var(--sklearn-color-fitted-level-0);\n",
       "}\n",
       "\n",
       "#sk-container-id-1 div.sk-toggleable__content pre {\n",
       "  margin: 0.2em;\n",
       "  border-radius: 0.25em;\n",
       "  color: var(--sklearn-color-text);\n",
       "  /* unfitted */\n",
       "  background-color: var(--sklearn-color-unfitted-level-0);\n",
       "}\n",
       "\n",
       "#sk-container-id-1 div.sk-toggleable__content.fitted pre {\n",
       "  /* unfitted */\n",
       "  background-color: var(--sklearn-color-fitted-level-0);\n",
       "}\n",
       "\n",
       "#sk-container-id-1 input.sk-toggleable__control:checked~div.sk-toggleable__content {\n",
       "  /* Expand drop-down */\n",
       "  max-height: 200px;\n",
       "  max-width: 100%;\n",
       "  overflow: auto;\n",
       "}\n",
       "\n",
       "#sk-container-id-1 input.sk-toggleable__control:checked~label.sk-toggleable__label-arrow:before {\n",
       "  content: \"▾\";\n",
       "}\n",
       "\n",
       "/* Pipeline/ColumnTransformer-specific style */\n",
       "\n",
       "#sk-container-id-1 div.sk-label input.sk-toggleable__control:checked~label.sk-toggleable__label {\n",
       "  color: var(--sklearn-color-text);\n",
       "  background-color: var(--sklearn-color-unfitted-level-2);\n",
       "}\n",
       "\n",
       "#sk-container-id-1 div.sk-label.fitted input.sk-toggleable__control:checked~label.sk-toggleable__label {\n",
       "  background-color: var(--sklearn-color-fitted-level-2);\n",
       "}\n",
       "\n",
       "/* Estimator-specific style */\n",
       "\n",
       "/* Colorize estimator box */\n",
       "#sk-container-id-1 div.sk-estimator input.sk-toggleable__control:checked~label.sk-toggleable__label {\n",
       "  /* unfitted */\n",
       "  background-color: var(--sklearn-color-unfitted-level-2);\n",
       "}\n",
       "\n",
       "#sk-container-id-1 div.sk-estimator.fitted input.sk-toggleable__control:checked~label.sk-toggleable__label {\n",
       "  /* fitted */\n",
       "  background-color: var(--sklearn-color-fitted-level-2);\n",
       "}\n",
       "\n",
       "#sk-container-id-1 div.sk-label label.sk-toggleable__label,\n",
       "#sk-container-id-1 div.sk-label label {\n",
       "  /* The background is the default theme color */\n",
       "  color: var(--sklearn-color-text-on-default-background);\n",
       "}\n",
       "\n",
       "/* On hover, darken the color of the background */\n",
       "#sk-container-id-1 div.sk-label:hover label.sk-toggleable__label {\n",
       "  color: var(--sklearn-color-text);\n",
       "  background-color: var(--sklearn-color-unfitted-level-2);\n",
       "}\n",
       "\n",
       "/* Label box, darken color on hover, fitted */\n",
       "#sk-container-id-1 div.sk-label.fitted:hover label.sk-toggleable__label.fitted {\n",
       "  color: var(--sklearn-color-text);\n",
       "  background-color: var(--sklearn-color-fitted-level-2);\n",
       "}\n",
       "\n",
       "/* Estimator label */\n",
       "\n",
       "#sk-container-id-1 div.sk-label label {\n",
       "  font-family: monospace;\n",
       "  font-weight: bold;\n",
       "  display: inline-block;\n",
       "  line-height: 1.2em;\n",
       "}\n",
       "\n",
       "#sk-container-id-1 div.sk-label-container {\n",
       "  text-align: center;\n",
       "}\n",
       "\n",
       "/* Estimator-specific */\n",
       "#sk-container-id-1 div.sk-estimator {\n",
       "  font-family: monospace;\n",
       "  border: 1px dotted var(--sklearn-color-border-box);\n",
       "  border-radius: 0.25em;\n",
       "  box-sizing: border-box;\n",
       "  margin-bottom: 0.5em;\n",
       "  /* unfitted */\n",
       "  background-color: var(--sklearn-color-unfitted-level-0);\n",
       "}\n",
       "\n",
       "#sk-container-id-1 div.sk-estimator.fitted {\n",
       "  /* fitted */\n",
       "  background-color: var(--sklearn-color-fitted-level-0);\n",
       "}\n",
       "\n",
       "/* on hover */\n",
       "#sk-container-id-1 div.sk-estimator:hover {\n",
       "  /* unfitted */\n",
       "  background-color: var(--sklearn-color-unfitted-level-2);\n",
       "}\n",
       "\n",
       "#sk-container-id-1 div.sk-estimator.fitted:hover {\n",
       "  /* fitted */\n",
       "  background-color: var(--sklearn-color-fitted-level-2);\n",
       "}\n",
       "\n",
       "/* Specification for estimator info (e.g. \"i\" and \"?\") */\n",
       "\n",
       "/* Common style for \"i\" and \"?\" */\n",
       "\n",
       ".sk-estimator-doc-link,\n",
       "a:link.sk-estimator-doc-link,\n",
       "a:visited.sk-estimator-doc-link {\n",
       "  float: right;\n",
       "  font-size: smaller;\n",
       "  line-height: 1em;\n",
       "  font-family: monospace;\n",
       "  background-color: var(--sklearn-color-background);\n",
       "  border-radius: 1em;\n",
       "  height: 1em;\n",
       "  width: 1em;\n",
       "  text-decoration: none !important;\n",
       "  margin-left: 0.5em;\n",
       "  text-align: center;\n",
       "  /* unfitted */\n",
       "  border: var(--sklearn-color-unfitted-level-1) 1pt solid;\n",
       "  color: var(--sklearn-color-unfitted-level-1);\n",
       "}\n",
       "\n",
       ".sk-estimator-doc-link.fitted,\n",
       "a:link.sk-estimator-doc-link.fitted,\n",
       "a:visited.sk-estimator-doc-link.fitted {\n",
       "  /* fitted */\n",
       "  border: var(--sklearn-color-fitted-level-1) 1pt solid;\n",
       "  color: var(--sklearn-color-fitted-level-1);\n",
       "}\n",
       "\n",
       "/* On hover */\n",
       "div.sk-estimator:hover .sk-estimator-doc-link:hover,\n",
       ".sk-estimator-doc-link:hover,\n",
       "div.sk-label-container:hover .sk-estimator-doc-link:hover,\n",
       ".sk-estimator-doc-link:hover {\n",
       "  /* unfitted */\n",
       "  background-color: var(--sklearn-color-unfitted-level-3);\n",
       "  color: var(--sklearn-color-background);\n",
       "  text-decoration: none;\n",
       "}\n",
       "\n",
       "div.sk-estimator.fitted:hover .sk-estimator-doc-link.fitted:hover,\n",
       ".sk-estimator-doc-link.fitted:hover,\n",
       "div.sk-label-container:hover .sk-estimator-doc-link.fitted:hover,\n",
       ".sk-estimator-doc-link.fitted:hover {\n",
       "  /* fitted */\n",
       "  background-color: var(--sklearn-color-fitted-level-3);\n",
       "  color: var(--sklearn-color-background);\n",
       "  text-decoration: none;\n",
       "}\n",
       "\n",
       "/* Span, style for the box shown on hovering the info icon */\n",
       ".sk-estimator-doc-link span {\n",
       "  display: none;\n",
       "  z-index: 9999;\n",
       "  position: relative;\n",
       "  font-weight: normal;\n",
       "  right: .2ex;\n",
       "  padding: .5ex;\n",
       "  margin: .5ex;\n",
       "  width: min-content;\n",
       "  min-width: 20ex;\n",
       "  max-width: 50ex;\n",
       "  color: var(--sklearn-color-text);\n",
       "  box-shadow: 2pt 2pt 4pt #999;\n",
       "  /* unfitted */\n",
       "  background: var(--sklearn-color-unfitted-level-0);\n",
       "  border: .5pt solid var(--sklearn-color-unfitted-level-3);\n",
       "}\n",
       "\n",
       ".sk-estimator-doc-link.fitted span {\n",
       "  /* fitted */\n",
       "  background: var(--sklearn-color-fitted-level-0);\n",
       "  border: var(--sklearn-color-fitted-level-3);\n",
       "}\n",
       "\n",
       ".sk-estimator-doc-link:hover span {\n",
       "  display: block;\n",
       "}\n",
       "\n",
       "/* \"?\"-specific style due to the `<a>` HTML tag */\n",
       "\n",
       "#sk-container-id-1 a.estimator_doc_link {\n",
       "  float: right;\n",
       "  font-size: 1rem;\n",
       "  line-height: 1em;\n",
       "  font-family: monospace;\n",
       "  background-color: var(--sklearn-color-background);\n",
       "  border-radius: 1rem;\n",
       "  height: 1rem;\n",
       "  width: 1rem;\n",
       "  text-decoration: none;\n",
       "  /* unfitted */\n",
       "  color: var(--sklearn-color-unfitted-level-1);\n",
       "  border: var(--sklearn-color-unfitted-level-1) 1pt solid;\n",
       "}\n",
       "\n",
       "#sk-container-id-1 a.estimator_doc_link.fitted {\n",
       "  /* fitted */\n",
       "  border: var(--sklearn-color-fitted-level-1) 1pt solid;\n",
       "  color: var(--sklearn-color-fitted-level-1);\n",
       "}\n",
       "\n",
       "/* On hover */\n",
       "#sk-container-id-1 a.estimator_doc_link:hover {\n",
       "  /* unfitted */\n",
       "  background-color: var(--sklearn-color-unfitted-level-3);\n",
       "  color: var(--sklearn-color-background);\n",
       "  text-decoration: none;\n",
       "}\n",
       "\n",
       "#sk-container-id-1 a.estimator_doc_link.fitted:hover {\n",
       "  /* fitted */\n",
       "  background-color: var(--sklearn-color-fitted-level-3);\n",
       "}\n",
       "</style><div id=\"sk-container-id-1\" class=\"sk-top-container\"><div class=\"sk-text-repr-fallback\"><pre> ARIMA(0,1,0)(0,0,0)[0]          </pre><b>In a Jupyter environment, please rerun this cell to show the HTML representation or trust the notebook. <br />On GitHub, the HTML representation is unable to render, please try loading this page with nbviewer.org.</b></div><div class=\"sk-container\" hidden><div class=\"sk-item\"><div class=\"sk-estimator fitted sk-toggleable\"><input class=\"sk-toggleable__control sk-hidden--visually\" id=\"sk-estimator-id-1\" type=\"checkbox\" checked><label for=\"sk-estimator-id-1\" class=\"sk-toggleable__label fitted sk-toggleable__label-arrow\"><div><div>ARIMA</div></div><div><span class=\"sk-estimator-doc-link fitted\">i<span>Fitted</span></span></div></label><div class=\"sk-toggleable__content fitted\"><pre> ARIMA(0,1,0)(0,0,0)[0]          </pre></div> </div></div></div></div>"
      ],
      "text/plain": [
       "ARIMA(order=(0, 1, 0), scoring_args={}, suppress_warnings=True,\n",
       "      with_intercept=False)"
      ]
     },
     "execution_count": 32,
     "metadata": {},
     "output_type": "execute_result"
    }
   ],
   "source": [
    "stepwise_fit"
   ]
  },
  {
   "cell_type": "code",
   "execution_count": 33,
   "id": "f0d23703-8c80-4ef0-9f37-a7d21ad2264a",
   "metadata": {
    "tags": []
   },
   "outputs": [],
   "source": [
    "sarima=ARIMA(df2['ml_models'],order=(0,1,1), trend='t')\n",
    "predicted=sarima.fit()"
   ]
  },
  {
   "cell_type": "code",
   "execution_count": 34,
   "id": "e2d0dd92-4ac6-47ed-8d68-e7cdbfcf926a",
   "metadata": {
    "tags": []
   },
   "outputs": [
    {
     "data": {
      "text/plain": [
       "statsmodels.tsa.arima.model.ARIMAResultsWrapper"
      ]
     },
     "execution_count": 34,
     "metadata": {},
     "output_type": "execute_result"
    }
   ],
   "source": [
    "type(predicted)"
   ]
  },
  {
   "cell_type": "code",
   "execution_count": 35,
   "id": "e316a662-d08f-4a1d-81f6-204d686bf95c",
   "metadata": {
    "tags": []
   },
   "outputs": [
    {
     "name": "stdout",
     "output_type": "stream",
     "text": [
      "   Date\n",
      "0  2024\n",
      "1  2025\n",
      "2  2026\n",
      "3  2027\n"
     ]
    }
   ],
   "source": [
    "data = {'Date': [2024, 2025, 2026, 2027]}\n",
    "\n",
    "future_dates = pd.DataFrame(data)\n",
    "\n",
    "print(future_dates)"
   ]
  },
  {
   "cell_type": "markdown",
   "id": "9f1c2460-4f16-4131-9fea-b5c0ca2d39e1",
   "metadata": {
    "tags": []
   },
   "source": [
    "### Prognoza ARIMA(0,1,1)"
   ]
  },
  {
   "cell_type": "code",
   "execution_count": 36,
   "id": "33032d23-96f5-49a8-b81b-0994b10a047a",
   "metadata": {
    "tags": []
   },
   "outputs": [],
   "source": [
    "future_dates = [2024, 2025, 2026, 2027]"
   ]
  },
  {
   "cell_type": "code",
   "execution_count": 37,
   "id": "7d4df5e7-cedb-424e-a2e4-e95337d102e1",
   "metadata": {
    "tags": []
   },
   "outputs": [],
   "source": [
    "residuals = predicted.resid"
   ]
  },
  {
   "cell_type": "code",
   "execution_count": 38,
   "id": "9b4ad40e-162d-42f6-947f-296997a63141",
   "metadata": {
    "tags": []
   },
   "outputs": [],
   "source": [
    "forecast_steps = 4\n",
    "forecast = predicted.get_forecast(steps=forecast_steps)"
   ]
  },
  {
   "cell_type": "code",
   "execution_count": 39,
   "id": "f0741883-a734-4203-97e6-8959bd20285f",
   "metadata": {
    "tags": []
   },
   "outputs": [],
   "source": [
    "# Ostatni rok z danych historycznych\n",
    "last_year = df2.index.max()\n",
    "\n",
    "# Tworzymy nowy indeks czasu dla prognozy: 2024–2027\n",
    "forecast_index = pd.Index([last_year + i for i in range(1, 5)])\n",
    "\n",
    "# Tworzymy nową serię z poprawnym indeksem\n",
    "forecast_series = pd.Series(forecast, index=forecast_index)"
   ]
  },
  {
   "cell_type": "code",
   "execution_count": 40,
   "id": "d1df9118-1a0c-4bf5-b174-66773a052326",
   "metadata": {
    "tags": []
   },
   "outputs": [
    {
     "data": {
      "image/png": "[encoded data removed]",
      "text/plain": [
       "<Figure size 1200x600 with 1 Axes>"
      ]
     },
     "metadata": {},
     "output_type": "display_data"
    }
   ],
   "source": [
    "xticks_labels = df2.index.tolist()\n",
    "xticks_labels.extend(future_dates)\n",
    "xticks_filtered = [year for year in xticks_labels if year % 3 == 0]\n",
    "# Wykres szeregu czasowego z prognozą\n",
    "\n",
    "predicted=sarima.fit().predict();predicted\n",
    "\n",
    "conf_int = forecast.conf_int()\n",
    "\n",
    "plt.figure(figsize=(12, 6))\n",
    "plt.plot(df2['ml_models'], marker='o', color='blue', label='Wartości rzeczywiste')\n",
    "plt.plot(forecast_index, forecast.predicted_mean, marker='x', linestyle='--', color='red', label='Prognoza')\n",
    "plt.plot(predicted, marker='o', color='orange', label='Wartości oczekiwane')\n",
    "plt.fill_between(forecast_index, forecast.conf_int().iloc[:, 0], forecast.conf_int().iloc[:, 1],\n",
    "                 color='orange', alpha=0.2, label='95% Przedział ufności')\n",
    "plt.xlabel(\"Rok\")\n",
    "plt.ylabel('Liczba istotnych modeli uczenia maszynowego')\n",
    "plt.xticks(xticks_filtered)\n",
    "plt.legend()\n",
    "plt.grid(True)\n",
    "plt.show()"
   ]
  },
  {
   "cell_type": "code",
   "execution_count": 41,
   "id": "326f80e4-24b1-4e42-bb77-cb62a6e3a87b",
   "metadata": {
    "tags": []
   },
   "outputs": [
    {
     "name": "stdout",
     "output_type": "stream",
     "text": [
      "21   21.72862208\n",
      "22   22.75913617\n",
      "23   23.78965026\n",
      "24   24.82016435\n",
      "Name: predicted_mean, dtype: float64\n"
     ]
    }
   ],
   "source": [
    "forecast_values = forecast.predicted_mean\n",
    "print(forecast_values)"
   ]
  },
  {
   "cell_type": "code",
   "execution_count": 42,
   "id": "19e47784-cfb6-41c7-b308-6c15161d7c1f",
   "metadata": {
    "tags": []
   },
   "outputs": [
    {
     "data": {
      "text/plain": [
       "year\n",
       "2003    1.03051409\n",
       "2004    3.03050441\n",
       "2005    2.43234075\n",
       "2006    3.28494244\n",
       "2007    5.30485470\n",
       "2008    5.54065955\n",
       "2009    5.38056141\n",
       "2010    4.95458476\n",
       "2011    5.66932082\n",
       "2012    5.48879521\n",
       "2013    5.36903681\n",
       "2014    7.26659023\n",
       "2015    9.85668424\n",
       "2016   10.27550902\n",
       "2017   11.21525979\n",
       "2018   12.50429273\n",
       "2019   13.36867787\n",
       "2020   15.92488069\n",
       "2021   14.01529126\n",
       "2022   15.37019550\n",
       "2023   18.58474883\n",
       "Name: predicted_mean, dtype: float64"
      ]
     },
     "execution_count": 42,
     "metadata": {},
     "output_type": "execute_result"
    }
   ],
   "source": [
    "predicted"
   ]
  },
  {
   "cell_type": "code",
   "execution_count": 43,
   "id": "39afa505-e85c-4586-a803-e7d091a1c1ad",
   "metadata": {
    "tags": []
   },
   "outputs": [
    {
     "name": "stdout",
     "output_type": "stream",
     "text": [
      "Mean Squared Error (MSE): 14.389028138417808\n",
      "RMSE: 3.79\n",
      "Mean Absolute Error (MAE): 3.0408443567911445\n",
      "Determination: 0.7048576088817556\n",
      "Mean Absolute Percentage Error (MAPE): inf\n"
     ]
    }
   ],
   "source": [
    "mse_ar = mean_squared_error(df2['ml_models'], predicted)\n",
    "rmse_ar = np.sqrt(mse_ar)\n",
    "mae_ar = mean_absolute_error(df2['ml_models'], predicted)\n",
    "rsquare_ar = r2_score(df2['ml_models'], predicted)\n",
    "mape_ar = np.mean(np.abs((df2['ml_models'] - predicted)) / df2['ml_models'])* 100\n",
    "\n",
    "print(f\"Mean Squared Error (MSE): {mse_ar}\")\n",
    "print(f\"RMSE: {rmse_ar:.2f}\")\n",
    "print(f\"Mean Absolute Error (MAE): {mae_ar}\")\n",
    "print(f'Determination:', rsquare_ar)\n",
    "print(f\"Mean Absolute Percentage Error (MAPE): {mape_ar}\")"
   ]
  },
  {
   "cell_type": "code",
   "execution_count": 44,
   "id": "06f5f45c-9be6-4b67-b1cb-e075fdb9d2e0",
   "metadata": {
    "tags": []
   },
   "outputs": [
    {
     "data": {
      "text/plain": [
       "<matplotlib.legend.Legend at 0x213f25cc910>"
      ]
     },
     "execution_count": 44,
     "metadata": {},
     "output_type": "execute_result"
    },
    {
     "data": {
      "image/png": "[encoded data removed]",
      "text/plain": [
       "<Figure size 1400x600 with 1 Axes>"
      ]
     },
     "metadata": {},
     "output_type": "display_data"
    }
   ],
   "source": [
    "# Wykres reszt\n",
    "xticks_labels = df2.index.tolist()\n",
    "xticks_filtered = [year for year in xticks_labels if year % 3 == 0]\n",
    "plt.figure(figsize=(14, 6))\n",
    "plt.plot(residuals, label=\"Residuals\")\n",
    "plt.xticks(xticks_filtered)\n",
    "plt.axhline(0, color=\"red\", linestyle=\"--\")\n",
    "plt.title(\"Residuals\")\n",
    "plt.legend()"
   ]
  },
  {
   "cell_type": "code",
   "execution_count": 45,
   "id": "6d0fac8e-b8e6-4e5d-be8f-1a698631d0d1",
   "metadata": {
    "tags": []
   },
   "outputs": [
    {
     "name": "stdout",
     "output_type": "stream",
     "text": [
      "Test Shapiro–Wilka: statystyka = 0.9701, p-value = 0.7353\n"
     ]
    }
   ],
   "source": [
    "shapiro_stat, shapiro_p = shapiro(residuals)\n",
    "print(f\"Test Shapiro–Wilka: statystyka = {shapiro_stat:.4f}, p-value = {shapiro_p:.4f}\")"
   ]
  },
  {
   "cell_type": "code",
   "execution_count": 46,
   "id": "1087fc14-f908-4a99-9f2f-4930081a3ac0",
   "metadata": {
    "tags": []
   },
   "outputs": [
    {
     "name": "stdout",
     "output_type": "stream",
     "text": [
      "ARCH test p-value: 0.3997\n"
     ]
    }
   ],
   "source": [
    "arch_test = het_arch(residuals)\n",
    "print(f\"ARCH test p-value: {arch_test[1]:.4f}\")"
   ]
  },
  {
   "cell_type": "markdown",
   "id": "823b4470-6d1a-4127-bbab-c9b49a917820",
   "metadata": {
    "tags": []
   },
   "source": [
    "### Model Holta w podziale na zbiór uczący i testowy (dumped, zwykły)"
   ]
  },
  {
   "cell_type": "code",
   "execution_count": 47,
   "id": "7407ba56-5bc9-41a9-ae89-f6bbd0c3d0b4",
   "metadata": {
    "tags": []
   },
   "outputs": [],
   "source": [
    "# Model 1: Zwykły model Holta\n",
    "holt_model = ExponentialSmoothing(train, trend='add', seasonal=None).fit()\n",
    "holt_forecast = holt_model.forecast(4)\n",
    "\n",
    "# Model 3: Holt z dampingiem\n",
    "holt_damped_model = ExponentialSmoothing(train, trend='add', damped_trend=True, seasonal=None).fit()\n",
    "holt_damped_forecast = holt_damped_model.forecast(4)\n"
   ]
  },
  {
   "cell_type": "code",
   "execution_count": 48,
   "id": "7b56523c-925a-4d5e-bd2e-cfbd5f85302b",
   "metadata": {
    "tags": []
   },
   "outputs": [
    {
     "ename": "KeyError",
     "evalue": "'ml_models'",
     "output_type": "error",
     "traceback": [
      "\u001b[31m---------------------------------------------------------------------------\u001b[39m",
      "\u001b[31mKeyError\u001b[39m                                  Traceback (most recent call last)",
      "\u001b[36mCell\u001b[39m\u001b[36m \u001b[39m\u001b[32mIn[48]\u001b[39m\u001b[32m, line 4\u001b[39m\n\u001b[32m      1\u001b[39m plt.figure(figsize=(\u001b[32m14\u001b[39m, \u001b[32m6\u001b[39m))\n\u001b[32m      3\u001b[39m \u001b[38;5;66;03m# Oryginalne dane - zbiór uczący\u001b[39;00m\n\u001b[32m----> \u001b[39m\u001b[32m4\u001b[39m plt.plot(train_years, \u001b[43mtrain\u001b[49m\u001b[43m[\u001b[49m\u001b[33;43m'\u001b[39;49m\u001b[33;43mml_models\u001b[39;49m\u001b[33;43m'\u001b[39;49m\u001b[43m]\u001b[49m, label=\u001b[33m'\u001b[39m\u001b[33mZbiór uczący\u001b[39m\u001b[33m'\u001b[39m, marker=\u001b[33m'\u001b[39m\u001b[33mo\u001b[39m\u001b[33m'\u001b[39m)\n\u001b[32m      6\u001b[39m \u001b[38;5;66;03m# Oryginalne dane - zbiór testowy (rzeczywiste dane)\u001b[39;00m\n\u001b[32m      7\u001b[39m plt.plot(test_years, test[\u001b[33m'\u001b[39m\u001b[33mml_models\u001b[39m\u001b[33m'\u001b[39m], label=\u001b[33m'\u001b[39m\u001b[33mZbiór testowy\u001b[39m\u001b[33m'\u001b[39m, color=\u001b[33m'\u001b[39m\u001b[33morange\u001b[39m\u001b[33m'\u001b[39m, marker=\u001b[33m'\u001b[39m\u001b[33mo\u001b[39m\u001b[33m'\u001b[39m)\n",
      "\u001b[36mFile \u001b[39m\u001b[32mC:\\ProgramData\\anaconda3\\Lib\\site-packages\\pandas\\core\\series.py:1121\u001b[39m, in \u001b[36mSeries.__getitem__\u001b[39m\u001b[34m(self, key)\u001b[39m\n\u001b[32m   1118\u001b[39m     \u001b[38;5;28;01mreturn\u001b[39;00m \u001b[38;5;28mself\u001b[39m._values[key]\n\u001b[32m   1120\u001b[39m \u001b[38;5;28;01melif\u001b[39;00m key_is_scalar:\n\u001b[32m-> \u001b[39m\u001b[32m1121\u001b[39m     \u001b[38;5;28;01mreturn\u001b[39;00m \u001b[38;5;28;43mself\u001b[39;49m\u001b[43m.\u001b[49m\u001b[43m_get_value\u001b[49m\u001b[43m(\u001b[49m\u001b[43mkey\u001b[49m\u001b[43m)\u001b[49m\n\u001b[32m   1123\u001b[39m \u001b[38;5;66;03m# Convert generator to list before going through hashable part\u001b[39;00m\n\u001b[32m   1124\u001b[39m \u001b[38;5;66;03m# (We will iterate through the generator there to check for slices)\u001b[39;00m\n\u001b[32m   1125\u001b[39m \u001b[38;5;28;01mif\u001b[39;00m is_iterator(key):\n",
      "\u001b[36mFile \u001b[39m\u001b[32mC:\\ProgramData\\anaconda3\\Lib\\site-packages\\pandas\\core\\series.py:1237\u001b[39m, in \u001b[36mSeries._get_value\u001b[39m\u001b[34m(self, label, takeable)\u001b[39m\n\u001b[32m   1234\u001b[39m     \u001b[38;5;28;01mreturn\u001b[39;00m \u001b[38;5;28mself\u001b[39m._values[label]\n\u001b[32m   1236\u001b[39m \u001b[38;5;66;03m# Similar to Index.get_value, but we do not fall back to positional\u001b[39;00m\n\u001b[32m-> \u001b[39m\u001b[32m1237\u001b[39m loc = \u001b[38;5;28;43mself\u001b[39;49m\u001b[43m.\u001b[49m\u001b[43mindex\u001b[49m\u001b[43m.\u001b[49m\u001b[43mget_loc\u001b[49m\u001b[43m(\u001b[49m\u001b[43mlabel\u001b[49m\u001b[43m)\u001b[49m\n\u001b[32m   1239\u001b[39m \u001b[38;5;28;01mif\u001b[39;00m is_integer(loc):\n\u001b[32m   1240\u001b[39m     \u001b[38;5;28;01mreturn\u001b[39;00m \u001b[38;5;28mself\u001b[39m._values[loc]\n",
      "\u001b[36mFile \u001b[39m\u001b[32mC:\\ProgramData\\anaconda3\\Lib\\site-packages\\pandas\\core\\indexes\\range.py:417\u001b[39m, in \u001b[36mRangeIndex.get_loc\u001b[39m\u001b[34m(self, key)\u001b[39m\n\u001b[32m    415\u001b[39m         \u001b[38;5;28;01mraise\u001b[39;00m \u001b[38;5;167;01mKeyError\u001b[39;00m(key) \u001b[38;5;28;01mfrom\u001b[39;00m\u001b[38;5;250m \u001b[39m\u001b[34;01merr\u001b[39;00m\n\u001b[32m    416\u001b[39m \u001b[38;5;28;01mif\u001b[39;00m \u001b[38;5;28misinstance\u001b[39m(key, Hashable):\n\u001b[32m--> \u001b[39m\u001b[32m417\u001b[39m     \u001b[38;5;28;01mraise\u001b[39;00m \u001b[38;5;167;01mKeyError\u001b[39;00m(key)\n\u001b[32m    418\u001b[39m \u001b[38;5;28mself\u001b[39m._check_indexing_error(key)\n\u001b[32m    419\u001b[39m \u001b[38;5;28;01mraise\u001b[39;00m \u001b[38;5;167;01mKeyError\u001b[39;00m(key)\n",
      "\u001b[31mKeyError\u001b[39m: 'ml_models'"
     ]
    },
    {
     "data": {
      "text/plain": [
       "<Figure size 1400x600 with 0 Axes>"
      ]
     },
     "metadata": {},
     "output_type": "display_data"
    }
   ],
   "source": [
    "plt.figure(figsize=(14, 6))\n",
    "\n",
    "# Oryginalne dane - zbiór uczący\n",
    "plt.plot(train_years, train, label='Zbiór uczący', marker='o')\n",
    "\n",
    "# Oryginalne dane - zbiór testowy (rzeczywiste dane)\n",
    "plt.plot(test_years, test, label='Zbiór testowy', color='orange', marker='o')\n",
    "\n",
    "# Prognoza\n",
    "plt.plot(future_years, holt_forecast, label='Prognoza na bazie zbioru uczącego modelem Holta', marker='x', linestyle='--', color='red')\n",
    "\n",
    "# Prognoza\n",
    "plt.plot(future_years, holt_damped_forecast,label='Prognoza na bazie zbioru uczącego modelem Holta z tłumieniem',marker='.', linestyle='--', color='green')\n",
    "\n",
    "# Stylizacja\n",
    "plt.xlabel(\"Rok\")\n",
    "plt.ylabel(\"Liczba istotnych modeli uczenia maszynowego\")\n",
    "plt.legend()\n",
    "plt.xticks(xticks_filtered)\n",
    "plt.grid(True)\n",
    "plt.ylim(0, 30)"
   ]
  },
  {
   "cell_type": "code",
   "execution_count": null,
   "id": "5a06c384-524f-4d67-8c6b-35bfab3b03be",
   "metadata": {
    "tags": []
   },
   "outputs": [],
   "source": [
    "mse_u = mean_squared_error(test['ml_models'], holt_forecast)\n",
    "rmse_u = np.sqrt(mean_squared_error(test['ml_models'], holt_forecast))\n",
    "mae_u = mean_absolute_error(test['ml_models'], holt_forecast)\n",
    "mape_u = np.mean(np.abs((test['ml_models'] - holt_forecast) / test['ml_models'])) * 100\n",
    "\n",
    "# Wyniki\n",
    "print(f\"MSE: {mse_u:.2f}\")\n",
    "print(f\"RMSE: {rmse_u:.2f}\")\n",
    "print(f\"MAE: {mae_u:.2f}\")\n",
    "print(f\"MAPE: {mape_u:.2f}%\")"
   ]
  },
  {
   "cell_type": "code",
   "execution_count": null,
   "id": "6998aaae-d177-49a1-9e57-1bcd5b3cb80b",
   "metadata": {
    "tags": []
   },
   "outputs": [],
   "source": [
    "mse_u = mean_squared_error(test['ml_models'], holt_forecast)\n",
    "rmse_u = np.sqrt(mean_squared_error(test['ml_models'], holt_forecast))\n",
    "mae_u = mean_absolute_error(test['ml_models'], holt_forecast)\n",
    "mape_u = np.mean(np.abs((test['ml_models'] - holt_forecast) / test['ml_models'])) * 100\n",
    "\n",
    "# Wyniki\n",
    "print(f\"MSE: {mse_u:.2f}\")\n",
    "print(f\"RMSE: {rmse_u:.2f}\")\n",
    "print(f\"MAE: {mae_u:.2f}\")\n",
    "print(f\"MAPE: {mape_u:.2f}%\")"
   ]
  },
  {
   "cell_type": "code",
   "execution_count": null,
   "id": "21fed425-ab0e-449c-8e4f-15ad7f1512a6",
   "metadata": {
    "tags": []
   },
   "outputs": [],
   "source": [
    "mse_ud = mean_squared_error(test['ml_models'], holt_damped_forecast)\n",
    "rmse_ud = np.sqrt(mean_squared_error(test['ml_models'], holt_damped_forecast))\n",
    "mae_ud = mean_absolute_error(test['ml_models'], holt_damped_forecast)\n",
    "mape_ud = np.mean(np.abs((test['ml_models'] - holt_damped_forecast) / test['ml_models'])) * 100\n",
    "\n",
    "# Wyniki\n",
    "print(f\"MSE: {mse_ud:.2f}\")\n",
    "print(f\"RMSE: {rmse_ud:.2f}\")\n",
    "print(f\"MAE: {mae_ud:.2f}\")\n",
    "print(f\"MAPE: {mape_ud:.2f}%\")"
   ]
  },
  {
   "cell_type": "markdown",
   "id": "bd2f2727-0948-41d9-a0df-ce54cc016bbe",
   "metadata": {
    "tags": []
   },
   "source": [
    "### Model Holta (dumped, zwykły)"
   ]
  },
  {
   "cell_type": "code",
   "execution_count": null,
   "id": "393d1116-e81e-499a-b9b8-c4ce64d16801",
   "metadata": {
    "tags": []
   },
   "outputs": [],
   "source": [
    "holt_model2 = ExponentialSmoothing(df2['ml_models'], trend='add', seasonal=None).fit()\n",
    "fitted_holt = holt_model2.fittedvalues\n",
    "holt_forecast2 = holt_model2.forecast(4)\n",
    "\n",
    "holt_damped_model2 = ExponentialSmoothing(df2['ml_models'], trend='add', damped_trend=True, seasonal=None).fit()\n",
    "fitted_holt_damped = holt_damped_model2.fittedvalues\n",
    "holt_damped_forecast2 = holt_damped_model2.forecast(4)"
   ]
  },
  {
   "cell_type": "code",
   "execution_count": null,
   "id": "75d89993-c2fb-434e-b08c-48e0afd815e3",
   "metadata": {
    "scrolled": true,
    "tags": []
   },
   "outputs": [],
   "source": [
    "fitted_holt_damped"
   ]
  },
  {
   "cell_type": "code",
   "execution_count": null,
   "id": "0be5a581-3684-4e80-bd1f-17c76090ade8",
   "metadata": {
    "tags": []
   },
   "outputs": [],
   "source": [
    "# Wariancja reszt jako baza błędu standardowego\n",
    "residuals = df2['ml_models'] - fitted_holt_damped\n",
    "res_var = np.var(residuals)\n",
    "se = np.sqrt(res_var)\n",
    "\n",
    "# Budowa przedziałów (dla 95%)\n",
    "z = 1.96\n",
    "ci_upper = holt_damped_forecast2 + z * se\n",
    "ci_lower = holt_damped_forecast2 - z * se"
   ]
  },
  {
   "cell_type": "code",
   "execution_count": null,
   "id": "949a7aa6-68c2-4dba-8587-cddac526a323",
   "metadata": {},
   "outputs": [],
   "source": [
    "# Ostatni rok z danych historycznych\n",
    "last_year = df2.index.max()\n",
    "\n",
    "# Tworzymy nowy indeks czasu dla prognozy: 2024–2027\n",
    "forecast_index = pd.Index([last_year + i for i in range(1, 5)])\n",
    "\n",
    "# Tworzymy nową serię z poprawnym indeksem\n",
    "forecast_series = pd.Series(holt_damped_forecast2.values, index=forecast_index)"
   ]
  },
  {
   "cell_type": "code",
   "execution_count": null,
   "id": "33189b90-9201-4122-9819-2f4b2d117223",
   "metadata": {
    "tags": []
   },
   "outputs": [],
   "source": [
    "residuals"
   ]
  },
  {
   "cell_type": "code",
   "execution_count": null,
   "id": "0c617f9b-9ce1-4fd6-9be7-8cfda4c54f88",
   "metadata": {
    "tags": []
   },
   "outputs": [],
   "source": [
    "forecast_steps = 4\n",
    "z = 1.96\n",
    "se_steps = [np.sqrt(res_var * h) for h in range(1, forecast_steps + 1)]\n",
    "lower_bound = holt_damped_forecast2 - z * np.array(se_steps)\n",
    "upper_bound = holt_damped_forecast2 + z * np.array(se_steps)"
   ]
  },
  {
   "cell_type": "code",
   "execution_count": null,
   "id": "d126f810-5d55-4170-8704-8103d2f7628a",
   "metadata": {
    "tags": []
   },
   "outputs": [],
   "source": [
    "plt.figure(figsize=(14, 6))\n",
    "plt.plot(df.index, df['ml_models'], label='Wartości rzeczywiste', marker='o')\n",
    "plt.plot(df.index, fitted_holt_damped, label='Wartości oczekiwane modelu Holta', marker='o', color='orange')\n",
    "plt.plot(df.index, fitted_values_add, label='Wartości oczekiwane modelu Holta z tłumieniem', marker='o', color='green')\n",
    "plt.plot(pd.date_range(df.index[-1], periods=4, freq='Y')[:], holt_damped_forecast2, label='Prognoza (4 lata) modelem Holta z tłumieniem', color='green', linestyle='--', marker='x')\n",
    "plt.plot(pd.date_range(df.index[-1], periods=4, freq='Y')[:], holt_forecast2, label='Prognoza (4 lata) modelem Holta ', color='red', linestyle='--', marker='x')\n",
    "plt.fill_between(pd.date_range(df.index[-1], periods=4, freq='Y')[:], lower_bound, upper_bound, label='95% Przedział ufności', color='orange', alpha=0.2)\n",
    "plt.xlabel('Rok')\n",
    "plt.ylabel(\"Liczba istotnych modeli uczenia maszynowego\")\n",
    "plt.legend()\n",
    "plt.grid(True)"
   ]
  },
  {
   "cell_type": "code",
   "execution_count": null,
   "id": "3acd7cb3-23fd-494a-8d81-4eceda3f8fd9",
   "metadata": {
    "tags": []
   },
   "outputs": [],
   "source": [
    "mse_hw = mean_squared_error(df2['ml_models'], fitted_values_add)\n",
    "rmse_hw = np.sqrt(mse_ar)\n",
    "mae_hw = mean_absolute_error(df2['ml_models'], fitted_values_add)\n",
    "rsquare_hw = r2_score(df2['ml_models'], fitted_values_add)\n",
    "mape_hw = np.mean(np.abs((df2['ml_models'] - fitted_values_add)) / df2['ml_models'])* 100\n",
    "\n",
    "print(f\"Mean Squared Error (MSE): {mse_hw}\")\n",
    "print(f\"RMSE: {rmse_hw:.2f}\")\n",
    "print(f\"Mean Absolute Error (MAE): {mae_hw}\")\n",
    "print(f'Determination:', rsquare_hw)\n",
    "print(f\"Mean Absolute Percentage Error (MAPE): {mape_hw}\")"
   ]
  },
  {
   "cell_type": "code",
   "execution_count": null,
   "id": "dfd008ad-ace6-4e3b-82c4-a6ceb18013c5",
   "metadata": {
    "tags": []
   },
   "outputs": [],
   "source": [
    "actual_values = df2['ml_models'].values"
   ]
  },
  {
   "cell_type": "code",
   "execution_count": null,
   "id": "406ced74-b205-44d5-821b-6f2504baa319",
   "metadata": {
    "tags": []
   },
   "outputs": [],
   "source": [
    "actual_values"
   ]
  },
  {
   "cell_type": "code",
   "execution_count": null,
   "id": "d3e00389-45be-4765-b831-6b39f12c0bd9",
   "metadata": {
    "tags": []
   },
   "outputs": [],
   "source": [
    "residuals = actual_values - fitted_values_add"
   ]
  },
  {
   "cell_type": "code",
   "execution_count": null,
   "id": "3e373ad5-ce0e-40b4-97ec-eddbb9a5f37b",
   "metadata": {
    "tags": []
   },
   "outputs": [],
   "source": [
    "shapiro_stat, shapiro_p = shapiro(residuals)\n",
    "print(f\"Test Shapiro–Wilka: statystyka = {shapiro_stat:.4f}, p-value = {shapiro_p:.4f}\")"
   ]
  },
  {
   "cell_type": "code",
   "execution_count": null,
   "id": "ad5a31fc-ce10-4a47-99d8-955f99272ef0",
   "metadata": {
    "tags": []
   },
   "outputs": [],
   "source": [
    "from statsmodels.stats.diagnostic import het_arch\n",
    "\n",
    "arch_test = het_arch(residuals)\n",
    "print(f\"ARCH test p-value: {arch_test[1]:.4f}\")"
   ]
  },
  {
   "cell_type": "code",
   "execution_count": null,
   "id": "84933356-6f40-4cc9-9f51-83a9807b54c1",
   "metadata": {
    "tags": []
   },
   "outputs": [],
   "source": [
    "# Histogram reszt\n",
    "plt.hist(residuals, bins=20, edgecolor=\"black\", density=True)\n",
    "plt.title(\"Histogram of Residuals\")"
   ]
  }
 ],
 "metadata": {
  "kernelspec": {
   "display_name": "Python [conda env:base] *",
   "language": "python",
   "name": "conda-base-py"
  },
  "language_info": {
   "codemirror_mode": {
    "name": "ipython",
    "version": 3
   },
   "file_extension": ".py",
   "mimetype": "text/x-python",
   "name": "python",
   "nbconvert_exporter": "python",
   "pygments_lexer": "ipython3",
   "version": "3.13.5"
  },
  "toc-autonumbering": false
 },
 "nbformat": 4,
 "nbformat_minor": 5
}
