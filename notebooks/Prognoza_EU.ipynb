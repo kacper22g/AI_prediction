{
 "cells": [
  {
   "cell_type": "code",
   "execution_count": 1,
   "id": "562c8eb2-61e9-452d-b664-2245590bf484",
   "metadata": {
    "tags": []
   },
   "outputs": [],
   "source": [
    "import warnings\n",
    "import numpy as np\n",
    "import pandas as pd\n",
    "import matplotlib.pyplot as plt\n",
    "import matplotlib.ticker as ticker\n",
    "from pandas_datareader import data as web\n",
    "from pmdarima import auto_arima\n",
    "from scipy import stats\n",
    "from sklearn.ensemble import RandomForestRegressor\n",
    "from sklearn.metrics import mean_squared_error, r2_score, mean_absolute_error, median_absolute_error\n",
    "from sklearn.model_selection import train_test_split\n",
    "import statsmodels.api as sm\n",
    "from statsmodels.graphics.tsaplots import plot_acf, plot_pacf\n",
    "from statsmodels.stats.diagnostic import acorr_ljungbox, het_arch\n",
    "from scipy.stats import shapiro\n",
    "from statsmodels.tsa.ar_model import AutoReg\n",
    "from statsmodels.tsa.arima.model import ARIMA\n",
    "from statsmodels.tsa.holtwinters import ExponentialSmoothing\n",
    "from statsmodels.tsa.stattools import kpss, adfuller"
   ]
  },
  {
   "cell_type": "code",
   "execution_count": 2,
   "id": "acef6f56-4241-404b-a865-9f73e4f75fd4",
   "metadata": {},
   "outputs": [],
   "source": [
    "plt.rcParams[\"font.family\"] = \"Times New Roman\""
   ]
  },
  {
   "cell_type": "code",
   "execution_count": 3,
   "id": "6e3eb6e4-8c55-41b6-a2aa-f25981d90d28",
   "metadata": {},
   "outputs": [],
   "source": [
    "plt.rcParams['font.size'] = 10"
   ]
  },
  {
   "cell_type": "code",
   "execution_count": 4,
   "id": "fac37033-f291-425f-93f3-c72652fde749",
   "metadata": {
    "tags": []
   },
   "outputs": [],
   "source": [
    "plt.rcParams[\"legend.loc\"] = \"upper left\""
   ]
  },
  {
   "cell_type": "code",
   "execution_count": 5,
   "id": "1735640d-16b0-4264-8cda-1c86d09be0cb",
   "metadata": {
    "tags": []
   },
   "outputs": [],
   "source": [
    "df = pd.read_excel('C:/JupyterLab/AI_prediction/data/raw/EU_ml_models.xlsx')"
   ]
  },
  {
   "cell_type": "code",
   "execution_count": 6,
   "id": "ef5fca09-e081-4915-b16c-b227b1d38647",
   "metadata": {
    "tags": []
   },
   "outputs": [
    {
     "data": {
      "text/html": [
       "<div>\n",
       "<style scoped>\n",
       "    .dataframe tbody tr th:only-of-type {\n",
       "        vertical-align: middle;\n",
       "    }\n",
       "\n",
       "    .dataframe tbody tr th {\n",
       "        vertical-align: top;\n",
       "    }\n",
       "\n",
       "    .dataframe thead th {\n",
       "        text-align: right;\n",
       "    }\n",
       "</style>\n",
       "<table border=\"1\" class=\"dataframe\">\n",
       "  <thead>\n",
       "    <tr style=\"text-align: right;\">\n",
       "      <th></th>\n",
       "      <th>year</th>\n",
       "      <th>ml_models</th>\n",
       "    </tr>\n",
       "  </thead>\n",
       "  <tbody>\n",
       "    <tr>\n",
       "      <th>0</th>\n",
       "      <td>2003</td>\n",
       "      <td>2</td>\n",
       "    </tr>\n",
       "    <tr>\n",
       "      <th>1</th>\n",
       "      <td>2004</td>\n",
       "      <td>0</td>\n",
       "    </tr>\n",
       "    <tr>\n",
       "      <th>2</th>\n",
       "      <td>2005</td>\n",
       "      <td>2</td>\n",
       "    </tr>\n",
       "    <tr>\n",
       "      <th>3</th>\n",
       "      <td>2006</td>\n",
       "      <td>6</td>\n",
       "    </tr>\n",
       "    <tr>\n",
       "      <th>4</th>\n",
       "      <td>2007</td>\n",
       "      <td>3</td>\n",
       "    </tr>\n",
       "    <tr>\n",
       "      <th>5</th>\n",
       "      <td>2008</td>\n",
       "      <td>2</td>\n",
       "    </tr>\n",
       "    <tr>\n",
       "      <th>6</th>\n",
       "      <td>2009</td>\n",
       "      <td>1</td>\n",
       "    </tr>\n",
       "    <tr>\n",
       "      <th>7</th>\n",
       "      <td>2010</td>\n",
       "      <td>4</td>\n",
       "    </tr>\n",
       "    <tr>\n",
       "      <th>8</th>\n",
       "      <td>2011</td>\n",
       "      <td>2</td>\n",
       "    </tr>\n",
       "    <tr>\n",
       "      <th>9</th>\n",
       "      <td>2012</td>\n",
       "      <td>2</td>\n",
       "    </tr>\n",
       "    <tr>\n",
       "      <th>10</th>\n",
       "      <td>2013</td>\n",
       "      <td>8</td>\n",
       "    </tr>\n",
       "    <tr>\n",
       "      <th>11</th>\n",
       "      <td>2014</td>\n",
       "      <td>12</td>\n",
       "    </tr>\n",
       "    <tr>\n",
       "      <th>12</th>\n",
       "      <td>2015</td>\n",
       "      <td>8</td>\n",
       "    </tr>\n",
       "    <tr>\n",
       "      <th>13</th>\n",
       "      <td>2016</td>\n",
       "      <td>10</td>\n",
       "    </tr>\n",
       "    <tr>\n",
       "      <th>14</th>\n",
       "      <td>2017</td>\n",
       "      <td>12</td>\n",
       "    </tr>\n",
       "    <tr>\n",
       "      <th>15</th>\n",
       "      <td>2018</td>\n",
       "      <td>12</td>\n",
       "    </tr>\n",
       "    <tr>\n",
       "      <th>16</th>\n",
       "      <td>2019</td>\n",
       "      <td>18</td>\n",
       "    </tr>\n",
       "    <tr>\n",
       "      <th>17</th>\n",
       "      <td>2020</td>\n",
       "      <td>7</td>\n",
       "    </tr>\n",
       "    <tr>\n",
       "      <th>18</th>\n",
       "      <td>2021</td>\n",
       "      <td>15</td>\n",
       "    </tr>\n",
       "    <tr>\n",
       "      <th>19</th>\n",
       "      <td>2022</td>\n",
       "      <td>22</td>\n",
       "    </tr>\n",
       "    <tr>\n",
       "      <th>20</th>\n",
       "      <td>2023</td>\n",
       "      <td>25</td>\n",
       "    </tr>\n",
       "  </tbody>\n",
       "</table>\n",
       "</div>"
      ],
      "text/plain": [
       "    year  ml_models\n",
       "0   2003          2\n",
       "1   2004          0\n",
       "2   2005          2\n",
       "3   2006          6\n",
       "4   2007          3\n",
       "5   2008          2\n",
       "6   2009          1\n",
       "7   2010          4\n",
       "8   2011          2\n",
       "9   2012          2\n",
       "10  2013          8\n",
       "11  2014         12\n",
       "12  2015          8\n",
       "13  2016         10\n",
       "14  2017         12\n",
       "15  2018         12\n",
       "16  2019         18\n",
       "17  2020          7\n",
       "18  2021         15\n",
       "19  2022         22\n",
       "20  2023         25"
      ]
     },
     "execution_count": 6,
     "metadata": {},
     "output_type": "execute_result"
    }
   ],
   "source": [
    "df"
   ]
  },
  {
   "cell_type": "code",
   "execution_count": 7,
   "id": "9bbb3813-bb38-4f02-a4f4-431560a1d196",
   "metadata": {},
   "outputs": [],
   "source": [
    "df = df.set_index('year', drop=False)"
   ]
  },
  {
   "cell_type": "code",
   "execution_count": 8,
   "id": "24c075b9-111d-42e5-836e-156f868b7362",
   "metadata": {},
   "outputs": [
    {
     "data": {
      "text/plain": [
       "([<matplotlib.axis.XTick at 0x1431bb5e660>,\n",
       "  <matplotlib.axis.XTick at 0x1431bb716d0>,\n",
       "  <matplotlib.axis.XTick at 0x1431bb71e50>,\n",
       "  <matplotlib.axis.XTick at 0x1431bb725d0>,\n",
       "  <matplotlib.axis.XTick at 0x1431bb06e90>,\n",
       "  <matplotlib.axis.XTick at 0x1431bb73390>,\n",
       "  <matplotlib.axis.XTick at 0x1431bb73b10>],\n",
       " [Text(2004, 0, '2004'),\n",
       "  Text(2007, 0, '2007'),\n",
       "  Text(2010, 0, '2010'),\n",
       "  Text(2013, 0, '2013'),\n",
       "  Text(2016, 0, '2016'),\n",
       "  Text(2019, 0, '2019'),\n",
       "  Text(2022, 0, '2022')])"
      ]
     },
     "execution_count": 8,
     "metadata": {},
     "output_type": "execute_result"
    },
    {
     "data": {
      "image/png": "[encoded data removed]",
      "text/plain": [
       "<Figure size 1200x600 with 1 Axes>"
      ]
     },
     "metadata": {},
     "output_type": "display_data"
    }
   ],
   "source": [
    "xticks_labels = df.index.tolist()\n",
    "xticks_filtered = [year for year in xticks_labels if year % 3 == 0]\n",
    "\n",
    "plt.figure(figsize=(12, 6))\n",
    "plt.plot(df['ml_models'], marker='o', color='blue', label='ml_models')\n",
    "plt.xticks(xticks_filtered)"
   ]
  },
  {
   "cell_type": "markdown",
   "id": "11c350a9-c84d-49f8-81df-00136dcb0a04",
   "metadata": {},
   "source": [
    "As in other regions, the number of models fluctuated significantly during the period under review. There is an upward trend in the data, but its polynomial was determined by comparing two models estimated using the classical least squares method."
   ]
  },
  {
   "cell_type": "markdown",
   "id": "88a3279c-f844-474d-a7ea-1eb03fa1e066",
   "metadata": {},
   "source": [
    "### Trend type verification"
   ]
  },
  {
   "cell_type": "code",
   "execution_count": 9,
   "id": "3fb19903-68bf-4bed-887b-9ab886369be8",
   "metadata": {},
   "outputs": [
    {
     "data": {
      "text/html": [
       "<div>\n",
       "<style scoped>\n",
       "    .dataframe tbody tr th:only-of-type {\n",
       "        vertical-align: middle;\n",
       "    }\n",
       "\n",
       "    .dataframe tbody tr th {\n",
       "        vertical-align: top;\n",
       "    }\n",
       "\n",
       "    .dataframe thead th {\n",
       "        text-align: right;\n",
       "    }\n",
       "</style>\n",
       "<table border=\"1\" class=\"dataframe\">\n",
       "  <thead>\n",
       "    <tr style=\"text-align: right;\">\n",
       "      <th></th>\n",
       "      <th>Statistic</th>\n",
       "      <th>Linear trend model</th>\n",
       "      <th>Quadratic trend model</th>\n",
       "    </tr>\n",
       "  </thead>\n",
       "  <tbody>\n",
       "    <tr>\n",
       "      <th>0</th>\n",
       "      <td>p-value (t-test for trend coefficient)</td>\n",
       "      <td>0.00000061</td>\n",
       "      <td>0.01154555</td>\n",
       "    </tr>\n",
       "    <tr>\n",
       "      <th>1</th>\n",
       "      <td>R-squared</td>\n",
       "      <td>0.73848076</td>\n",
       "      <td>0.81873837</td>\n",
       "    </tr>\n",
       "    <tr>\n",
       "      <th>2</th>\n",
       "      <td>Standard error of residuals</td>\n",
       "      <td>3.75391646</td>\n",
       "      <td>3.21089619</td>\n",
       "    </tr>\n",
       "    <tr>\n",
       "      <th>3</th>\n",
       "      <td>F-statistic (user definition)</td>\n",
       "      <td>1.36683685</td>\n",
       "      <td>1.36683685</td>\n",
       "    </tr>\n",
       "    <tr>\n",
       "      <th>4</th>\n",
       "      <td>Critical F (alpha=0.05, user definition)</td>\n",
       "      <td>2.25667097</td>\n",
       "      <td>2.25667097</td>\n",
       "    </tr>\n",
       "  </tbody>\n",
       "</table>\n",
       "</div>"
      ],
      "text/plain": [
       "                                  Statistic  Linear trend model  \\\n",
       "0    p-value (t-test for trend coefficient)          0.00000061   \n",
       "1                                 R-squared          0.73848076   \n",
       "2               Standard error of residuals          3.75391646   \n",
       "3             F-statistic (user definition)          1.36683685   \n",
       "4  Critical F (alpha=0.05, user definition)          2.25667097   \n",
       "\n",
       "   Quadratic trend model  \n",
       "0             0.01154555  \n",
       "1             0.81873837  \n",
       "2             3.21089619  \n",
       "3             1.36683685  \n",
       "4             2.25667097  "
      ]
     },
     "execution_count": 9,
     "metadata": {},
     "output_type": "execute_result"
    }
   ],
   "source": [
    "y = df[\"ml_models\"]\n",
    "t = df[\"year\"]\n",
    "\n",
    "X_lin = sm.add_constant(t)\n",
    "model_lin = sm.OLS(y, X_lin).fit()\n",
    "\n",
    "X_quad = sm.add_constant(np.column_stack((t, t**2)))\n",
    "model_quad = sm.OLS(y, X_quad).fit()\n",
    "\n",
    "# Linear model statistics\n",
    "p_value_lin = model_lin.pvalues.iloc[1] \n",
    "r2_lin = model_lin.rsquared\n",
    "se_lin = np.sqrt(model_lin.mse_resid)\n",
    "f_lin = model_lin.fvalue\n",
    "f_crit_lin = stats.f.ppf(0.95, model_lin.df_model, model_lin.df_resid)\n",
    "\n",
    "# Quadratic model statistics\n",
    "p_value_quad = model_quad.pvalues.iloc[1]\n",
    "r2_quad = model_quad.rsquared\n",
    "se_quad = np.sqrt(model_quad.mse_resid)\n",
    "f_quad = model_quad.fvalue\n",
    "f_crit_quad = stats.f.ppf(0.95, model_quad.df_model, model_quad.df_resid)\n",
    "\n",
    "# Degrees of freedom \n",
    "n = len(df)\n",
    "k_lin = X_lin.shape[1] \n",
    "k_quad = X_quad.shape[1] \n",
    "\n",
    "df1_new = n - k_lin - 1\n",
    "df2_new = n - k_quad - 1\n",
    "\n",
    "F_user_updated = (se_lin / se_quad) ** 2\n",
    "F_crit_updated = stats.f.ppf(0.95, df1_new, df2_new)\n",
    "\n",
    "pd.options.display.float_format = '{:.8f}'.format\n",
    "\n",
    "results_updated = pd.DataFrame({\n",
    "    \"Statistic\": [\n",
    "        \"p-value (t-test for trend coefficient)\",\n",
    "        \"R-squared\",\n",
    "        \"Standard error of residuals\",\n",
    "        \"F-statistic (user definition)\",\n",
    "        \"Critical F (alpha=0.05, user definition)\"\n",
    "    ],\n",
    "    \"Linear trend model\": [\n",
    "        p_value_lin, r2_lin, se_lin, F_user_updated, F_crit_updated\n",
    "    ],\n",
    "    \"Quadratic trend model\": [\n",
    "        p_value_quad, r2_quad, se_quad, F_user_updated, F_crit_updated\n",
    "    ]\n",
    "})\n",
    "\n",
    "results_updated"
   ]
  },
  {
   "cell_type": "markdown",
   "id": "b718a117-6ca3-4340-bdfa-0bab253bf554",
   "metadata": {},
   "source": [
    "Based on the coefficient of determination, it was determined that the model with a quadratic trend fitted the data better than the model with a linear trend. The Akaike information criterion was also slightly lower. The obtained p values ​​indicate that the parameters for both the linear and quadratic trend are significant in the models. However, Fisher's exact test did not reveal a significant difference between the models; the critical value was significantly higher than the squared standard error of the residuals. Further calculations assumed that a quadratic trend did not occur in the data."
   ]
  },
  {
   "cell_type": "markdown",
   "id": "59976557-a0fa-460e-862b-cf2d68067645",
   "metadata": {},
   "source": [
    "### Stationarity testing"
   ]
  },
  {
   "cell_type": "code",
   "execution_count": 10,
   "id": "d6fba24c-1dbd-4fa5-a553-5f8fa0c0a330",
   "metadata": {},
   "outputs": [
    {
     "name": "stderr",
     "output_type": "stream",
     "text": [
      "C:\\Users\\tester\\AppData\\Local\\Temp\\ipykernel_15056\\1192270414.py:7: InterpolationWarning: The test statistic is outside of the range of p-values available in the\n",
      "look-up table. The actual p-value is greater than the p-value returned.\n",
      "\n",
      "  kpss(residuals_trend, regression=\"c\", nlags=4)\n"
     ]
    },
    {
     "data": {
      "text/plain": [
       "(np.float64(0.08740819076207253),\n",
       " np.float64(0.1),\n",
       " 4,\n",
       " {'10%': 0.347, '5%': 0.463, '2.5%': 0.574, '1%': 0.739})"
      ]
     },
     "execution_count": 10,
     "metadata": {},
     "output_type": "execute_result"
    }
   ],
   "source": [
    "kpss(df[\"ml_models\"], nlags=4, regression=\"ct\")\n",
    "df[\"time\"] = df[\"year\"]\n",
    "df[\"timesq\"] = df[\"year\"]**2\n",
    "X_trend = sm.add_constant(df[[\"time\", \"timesq\"]])\n",
    "model_trend = sm.OLS(df[\"ml_models\"], X_trend).fit()\n",
    "residuals_trend = model_trend.resid\n",
    "kpss(residuals_trend, regression=\"c\", nlags=4)"
   ]
  },
  {
   "cell_type": "code",
   "execution_count": 11,
   "id": "86ec0141-02dd-4db1-b9d3-c70754159d95",
   "metadata": {},
   "outputs": [],
   "source": [
    "def check_stationarity(series):\n",
    "    # Source https://machinelearningmastery.com/time-series-data-stationary-python/\n",
    "\n",
    "    result = adfuller(series.values)\n",
    "\n",
    "    print('ADF Statistic: %f' % result[0])\n",
    "    print('p-value: %f' % result[1])\n",
    "    print('Critical Values:')\n",
    "    for key, value in result[4].items():\n",
    "        print('\\t%s: %.3f' % (key, value))\n",
    "\n",
    "    if (result[1] <= 0.05) & (result[4]['5%'] > result[0]):\n",
    "        print(\"\\u001b[32mStationary\\u001b[0m\")\n",
    "    else:\n",
    "        print(\"\\x1b[31mNon-stationary\\x1b[0m\")"
   ]
  },
  {
   "cell_type": "code",
   "execution_count": 12,
   "id": "04ccd181-7608-492c-8f3e-1d93c6e0482a",
   "metadata": {},
   "outputs": [
    {
     "name": "stdout",
     "output_type": "stream",
     "text": [
      "ADF Statistic: -0.499064\n",
      "p-value: 0.892199\n",
      "Critical Values:\n",
      "\t1%: -3.809\n",
      "\t5%: -3.022\n",
      "\t10%: -2.651\n",
      "\u001b[31mNon-stationary\u001b[0m\n"
     ]
    }
   ],
   "source": [
    "check_stationarity(df['ml_models'])"
   ]
  },
  {
   "cell_type": "code",
   "execution_count": 13,
   "id": "f2d254fe-d321-4786-a279-324d96614bd4",
   "metadata": {},
   "outputs": [],
   "source": [
    "adf_result_original = adfuller(df['ml_models'])"
   ]
  },
  {
   "cell_type": "code",
   "execution_count": 14,
   "id": "c8116237-9097-4279-9b63-6abcf11b4118",
   "metadata": {},
   "outputs": [],
   "source": [
    "time_series_diff = np.diff(df[\"ml_models\"])\n",
    "\n",
    "df_diff = pd.DataFrame({\"Differenced\": time_series_diff})"
   ]
  },
  {
   "cell_type": "code",
   "execution_count": 15,
   "id": "f394d3e5-0d8c-4930-ba19-4438ddd1f307",
   "metadata": {},
   "outputs": [],
   "source": [
    "def check_stationarity(series):\n",
    "    # Source https://machinelearningmastery.com/time-series-data-stationary-python/\n",
    "\n",
    "    result = adfuller(series.values)\n",
    "\n",
    "    print('ADF Statistic: %f' % result[0])\n",
    "    print('p-value: %f' % result[1])\n",
    "    print('Critical Values:')\n",
    "    for key, value in result[4].items():\n",
    "        print('\\t%s: %.3f' % (key, value))\n",
    "\n",
    "    if (result[1] <= 0.05) & (result[4]['5%'] > result[0]):\n",
    "        print(\"\\u001b[32mStationary\\u001b[0m\")\n",
    "    else:\n",
    "        print(\"\\x1b[31mNon-stationary\\x1b[0m\")"
   ]
  },
  {
   "cell_type": "code",
   "execution_count": 16,
   "id": "fd403dfd-ee4c-4428-a9d9-39e2fff31e87",
   "metadata": {},
   "outputs": [
    {
     "name": "stdout",
     "output_type": "stream",
     "text": [
      "ADF Statistic: -8.840131\n",
      "p-value: 0.000000\n",
      "Critical Values:\n",
      "\t1%: -4.223\n",
      "\t5%: -3.189\n",
      "\t10%: -2.730\n",
      "\u001b[32mStationary\u001b[0m\n"
     ]
    }
   ],
   "source": [
    "check_stationarity(df_diff['Differenced'])"
   ]
  },
  {
   "cell_type": "code",
   "execution_count": 17,
   "id": "e06b5498-000c-4717-9fd0-f682888f427d",
   "metadata": {},
   "outputs": [],
   "source": [
    "adf_result_diff = adfuller(df_diff['Differenced'])"
   ]
  },
  {
   "cell_type": "markdown",
   "id": "d6ab5a84-daeb-478b-ad39-225a2a724279",
   "metadata": {},
   "source": [
    "Time series integrated in the first degree"
   ]
  },
  {
   "cell_type": "markdown",
   "id": "ffabddce-1331-49ad-bc65-1744e3dd8e09",
   "metadata": {},
   "source": [
    "### Autocorelation functions"
   ]
  },
  {
   "cell_type": "code",
   "execution_count": 18,
   "id": "1413960b-6d7e-4935-b7ff-da462dcbbfda",
   "metadata": {
    "tags": []
   },
   "outputs": [],
   "source": [
    "time_series_diff = np.diff(df[\"ml_models\"])\n",
    "\n",
    "df_diff = pd.DataFrame({\"Differenced\": time_series_diff})"
   ]
  },
  {
   "cell_type": "code",
   "execution_count": 19,
   "id": "1b63079b-c2d5-48a8-9dea-08a02d03ccd6",
   "metadata": {},
   "outputs": [
    {
     "data": {
      "image/png": "[encoded data removed]",
      "text/plain": [
       "<Figure size 1500x500 with 2 Axes>"
      ]
     },
     "metadata": {},
     "output_type": "display_data"
    }
   ],
   "source": [
    "fig, axes = plt.subplots(1, 2, figsize=(15, 5))\n",
    "\n",
    "sm.graphics.tsa.plot_acf(df_diff[\"Differenced\"], lags=7, alpha=0.05, ax=axes[0], title=\"ACF (Autocorrelation Function)\")\n",
    "\n",
    "sm.graphics.tsa.plot_pacf(df_diff[\"Differenced\"], lags=7, alpha=0.05, ax=axes[1], title=\"PACF (Partial Autocorrelation Function)\")\n",
    "\n",
    "plt.tight_layout()\n",
    "plt.show()"
   ]
  },
  {
   "cell_type": "markdown",
   "id": "b7d940c1-9978-471d-91ab-c8c9a34bb61f",
   "metadata": {},
   "source": [
    "The ACF function showed no strong, repeating patterns or slow decay, so differencing brought the series to a stationary form. None of the values for subsequent shifts in the plots fell outside the confidence interval. Therefore, the series most likely lacks AR and MA components."
   ]
  },
  {
   "cell_type": "markdown",
   "id": "c4b91984-57e9-4b34-a0a6-27cdb6908ffb",
   "metadata": {},
   "source": [
    "### ARIMA forecast on training dataset"
   ]
  },
  {
   "cell_type": "markdown",
   "id": "458e5ccb-df3a-4e70-b73f-9b6e7c2b43f7",
   "metadata": {},
   "source": [
    "#### Chosing best ARIMA model"
   ]
  },
  {
   "cell_type": "code",
   "execution_count": 20,
   "id": "b27cbe27-e32d-4c09-8725-5ae6e835049c",
   "metadata": {
    "tags": []
   },
   "outputs": [],
   "source": [
    "df2 = df.set_index('year')"
   ]
  },
  {
   "cell_type": "code",
   "execution_count": 21,
   "id": "4d97093a-f318-403f-a0c1-dd9ea6a76ce5",
   "metadata": {
    "tags": []
   },
   "outputs": [],
   "source": [
    "train_size = len(df) - 4  \n",
    "train, test = df['ml_models'][:train_size], df['ml_models'][train_size:]\n",
    "train_years = df['year'][:train_size]\n",
    "test_years = df['year'][train_size:]"
   ]
  },
  {
   "cell_type": "code",
   "execution_count": 22,
   "id": "2807ae6b-588c-47a4-a313-18ad9bb335f4",
   "metadata": {},
   "outputs": [],
   "source": [
    "warnings.filterwarnings(\"ignore\", category=FutureWarning)\n",
    "warnings.filterwarnings(\"ignore\", category=UserWarning)"
   ]
  },
  {
   "cell_type": "code",
   "execution_count": 23,
   "id": "41a39a3c-5663-458c-85bd-d015db581140",
   "metadata": {
    "tags": []
   },
   "outputs": [
    {
     "name": "stdout",
     "output_type": "stream",
     "text": [
      "Performing stepwise search to minimize aic\n",
      " ARIMA(0,1,0)(0,0,0)[0] intercept   : AIC=84.562, Time=0.01 sec\n",
      " ARIMA(1,1,0)(0,0,0)[0] intercept   : AIC=86.102, Time=0.02 sec\n",
      " ARIMA(0,1,1)(0,0,0)[0] intercept   : AIC=84.994, Time=0.02 sec\n",
      " ARIMA(0,1,0)(0,0,0)[0]             : AIC=84.247, Time=0.01 sec\n",
      " ARIMA(1,1,1)(0,0,0)[0] intercept   : AIC=inf, Time=0.09 sec\n",
      "\n",
      "Best model:  ARIMA(0,1,0)(0,0,0)[0]          \n",
      "Total fit time: 0.135 seconds\n"
     ]
    },
    {
     "data": {
      "text/html": [
       "<table class=\"simpletable\">\n",
       "<caption>SARIMAX Results</caption>\n",
       "<tr>\n",
       "  <th>Dep. Variable:</th>           <td>y</td>        <th>  No. Observations:  </th>   <td>17</td>   \n",
       "</tr>\n",
       "<tr>\n",
       "  <th>Model:</th>           <td>SARIMAX(0, 1, 0)</td> <th>  Log Likelihood     </th> <td>-41.124</td>\n",
       "</tr>\n",
       "<tr>\n",
       "  <th>Date:</th>            <td>Mon, 20 Oct 2025</td> <th>  AIC                </th> <td>84.247</td> \n",
       "</tr>\n",
       "<tr>\n",
       "  <th>Time:</th>                <td>12:32:25</td>     <th>  BIC                </th> <td>85.020</td> \n",
       "</tr>\n",
       "<tr>\n",
       "  <th>Sample:</th>                  <td>0</td>        <th>  HQIC               </th> <td>84.287</td> \n",
       "</tr>\n",
       "<tr>\n",
       "  <th></th>                       <td> - 17</td>      <th>                     </th>    <td> </td>   \n",
       "</tr>\n",
       "<tr>\n",
       "  <th>Covariance Type:</th>        <td>opg</td>       <th>                     </th>    <td> </td>   \n",
       "</tr>\n",
       "</table>\n",
       "<table class=\"simpletable\">\n",
       "<tr>\n",
       "     <td></td>       <th>coef</th>     <th>std err</th>      <th>z</th>      <th>P>|z|</th>  <th>[0.025</th>    <th>0.975]</th>  \n",
       "</tr>\n",
       "<tr>\n",
       "  <th>sigma2</th> <td>    9.9999</td> <td>    4.468</td> <td>    2.238</td> <td> 0.025</td> <td>    1.244</td> <td>   18.756</td>\n",
       "</tr>\n",
       "</table>\n",
       "<table class=\"simpletable\">\n",
       "<tr>\n",
       "  <th>Ljung-Box (L1) (Q):</th>     <td>0.45</td> <th>  Jarque-Bera (JB):  </th> <td>0.80</td>\n",
       "</tr>\n",
       "<tr>\n",
       "  <th>Prob(Q):</th>                <td>0.50</td> <th>  Prob(JB):          </th> <td>0.67</td>\n",
       "</tr>\n",
       "<tr>\n",
       "  <th>Heteroskedasticity (H):</th> <td>1.76</td> <th>  Skew:              </th> <td>0.12</td>\n",
       "</tr>\n",
       "<tr>\n",
       "  <th>Prob(H) (two-sided):</th>    <td>0.55</td> <th>  Kurtosis:          </th> <td>1.94</td>\n",
       "</tr>\n",
       "</table><br/><br/>Warnings:<br/>[1] Covariance matrix calculated using the outer product of gradients (complex-step)."
      ],
      "text/latex": [
       "\\begin{center}\n",
       "\\begin{tabular}{lclc}\n",
       "\\toprule\n",
       "\\textbf{Dep. Variable:}          &        y         & \\textbf{  No. Observations:  } &     17      \\\\\n",
       "\\textbf{Model:}                  & SARIMAX(0, 1, 0) & \\textbf{  Log Likelihood     } &  -41.124    \\\\\n",
       "\\textbf{Date:}                   & Mon, 20 Oct 2025 & \\textbf{  AIC                } &   84.247    \\\\\n",
       "\\textbf{Time:}                   &     12:32:25     & \\textbf{  BIC                } &   85.020    \\\\\n",
       "\\textbf{Sample:}                 &        0         & \\textbf{  HQIC               } &   84.287    \\\\\n",
       "\\textbf{}                        &       - 17       & \\textbf{                     } &             \\\\\n",
       "\\textbf{Covariance Type:}        &       opg        & \\textbf{                     } &             \\\\\n",
       "\\bottomrule\n",
       "\\end{tabular}\n",
       "\\begin{tabular}{lcccccc}\n",
       "                & \\textbf{coef} & \\textbf{std err} & \\textbf{z} & \\textbf{P$> |$z$|$} & \\textbf{[0.025} & \\textbf{0.975]}  \\\\\n",
       "\\midrule\n",
       "\\textbf{sigma2} &       9.9999  &        4.468     &     2.238  &         0.025        &        1.244    &       18.756     \\\\\n",
       "\\bottomrule\n",
       "\\end{tabular}\n",
       "\\begin{tabular}{lclc}\n",
       "\\textbf{Ljung-Box (L1) (Q):}     & 0.45 & \\textbf{  Jarque-Bera (JB):  } & 0.80  \\\\\n",
       "\\textbf{Prob(Q):}                & 0.50 & \\textbf{  Prob(JB):          } & 0.67  \\\\\n",
       "\\textbf{Heteroskedasticity (H):} & 1.76 & \\textbf{  Skew:              } & 0.12  \\\\\n",
       "\\textbf{Prob(H) (two-sided):}    & 0.55 & \\textbf{  Kurtosis:          } & 1.94  \\\\\n",
       "\\bottomrule\n",
       "\\end{tabular}\n",
       "%\\caption{SARIMAX Results}\n",
       "\\end{center}\n",
       "\n",
       "Warnings: \\newline\n",
       " [1] Covariance matrix calculated using the outer product of gradients (complex-step)."
      ],
      "text/plain": [
       "<class 'statsmodels.iolib.summary.Summary'>\n",
       "\"\"\"\n",
       "                               SARIMAX Results                                \n",
       "==============================================================================\n",
       "Dep. Variable:                      y   No. Observations:                   17\n",
       "Model:               SARIMAX(0, 1, 0)   Log Likelihood                 -41.124\n",
       "Date:                Mon, 20 Oct 2025   AIC                             84.247\n",
       "Time:                        12:32:25   BIC                             85.020\n",
       "Sample:                             0   HQIC                            84.287\n",
       "                                 - 17                                         \n",
       "Covariance Type:                  opg                                         \n",
       "==============================================================================\n",
       "                 coef    std err          z      P>|z|      [0.025      0.975]\n",
       "------------------------------------------------------------------------------\n",
       "sigma2         9.9999      4.468      2.238      0.025       1.244      18.756\n",
       "===================================================================================\n",
       "Ljung-Box (L1) (Q):                   0.45   Jarque-Bera (JB):                 0.80\n",
       "Prob(Q):                              0.50   Prob(JB):                         0.67\n",
       "Heteroskedasticity (H):               1.76   Skew:                             0.12\n",
       "Prob(H) (two-sided):                  0.55   Kurtosis:                         1.94\n",
       "===================================================================================\n",
       "\n",
       "Warnings:\n",
       "[1] Covariance matrix calculated using the outer product of gradients (complex-step).\n",
       "\"\"\""
      ]
     },
     "execution_count": 23,
     "metadata": {},
     "output_type": "execute_result"
    }
   ],
   "source": [
    "stepwise_fit = auto_arima(train, trace=True, start_p=0, d=1, start_q=0, information_criterion='aic', test='adf',\n",
    "suppress_warnings=True)\n",
    "\n",
    "stepwise_fit.summary()"
   ]
  },
  {
   "cell_type": "code",
   "execution_count": 24,
   "id": "cf949ad6-7223-482d-8e7b-e51593c3d383",
   "metadata": {
    "tags": []
   },
   "outputs": [
    {
     "name": "stdout",
     "output_type": "stream",
     "text": [
      "Performing stepwise search to minimize bic\n",
      " ARIMA(0,1,0)(0,0,0)[0] intercept   : BIC=86.107, Time=0.01 sec\n",
      " ARIMA(1,1,0)(0,0,0)[0] intercept   : BIC=88.420, Time=0.02 sec\n",
      " ARIMA(0,1,1)(0,0,0)[0] intercept   : BIC=87.311, Time=0.02 sec\n",
      " ARIMA(0,1,0)(0,0,0)[0]             : BIC=85.020, Time=0.01 sec\n",
      " ARIMA(1,1,1)(0,0,0)[0] intercept   : BIC=inf, Time=0.10 sec\n",
      "\n",
      "Best model:  ARIMA(0,1,0)(0,0,0)[0]          \n",
      "Total fit time: 0.159 seconds\n"
     ]
    },
    {
     "data": {
      "text/html": [
       "<table class=\"simpletable\">\n",
       "<caption>SARIMAX Results</caption>\n",
       "<tr>\n",
       "  <th>Dep. Variable:</th>           <td>y</td>        <th>  No. Observations:  </th>   <td>17</td>   \n",
       "</tr>\n",
       "<tr>\n",
       "  <th>Model:</th>           <td>SARIMAX(0, 1, 0)</td> <th>  Log Likelihood     </th> <td>-41.124</td>\n",
       "</tr>\n",
       "<tr>\n",
       "  <th>Date:</th>            <td>Mon, 20 Oct 2025</td> <th>  AIC                </th> <td>84.247</td> \n",
       "</tr>\n",
       "<tr>\n",
       "  <th>Time:</th>                <td>12:32:25</td>     <th>  BIC                </th> <td>85.020</td> \n",
       "</tr>\n",
       "<tr>\n",
       "  <th>Sample:</th>                  <td>0</td>        <th>  HQIC               </th> <td>84.287</td> \n",
       "</tr>\n",
       "<tr>\n",
       "  <th></th>                       <td> - 17</td>      <th>                     </th>    <td> </td>   \n",
       "</tr>\n",
       "<tr>\n",
       "  <th>Covariance Type:</th>        <td>opg</td>       <th>                     </th>    <td> </td>   \n",
       "</tr>\n",
       "</table>\n",
       "<table class=\"simpletable\">\n",
       "<tr>\n",
       "     <td></td>       <th>coef</th>     <th>std err</th>      <th>z</th>      <th>P>|z|</th>  <th>[0.025</th>    <th>0.975]</th>  \n",
       "</tr>\n",
       "<tr>\n",
       "  <th>sigma2</th> <td>    9.9999</td> <td>    4.468</td> <td>    2.238</td> <td> 0.025</td> <td>    1.244</td> <td>   18.756</td>\n",
       "</tr>\n",
       "</table>\n",
       "<table class=\"simpletable\">\n",
       "<tr>\n",
       "  <th>Ljung-Box (L1) (Q):</th>     <td>0.45</td> <th>  Jarque-Bera (JB):  </th> <td>0.80</td>\n",
       "</tr>\n",
       "<tr>\n",
       "  <th>Prob(Q):</th>                <td>0.50</td> <th>  Prob(JB):          </th> <td>0.67</td>\n",
       "</tr>\n",
       "<tr>\n",
       "  <th>Heteroskedasticity (H):</th> <td>1.76</td> <th>  Skew:              </th> <td>0.12</td>\n",
       "</tr>\n",
       "<tr>\n",
       "  <th>Prob(H) (two-sided):</th>    <td>0.55</td> <th>  Kurtosis:          </th> <td>1.94</td>\n",
       "</tr>\n",
       "</table><br/><br/>Warnings:<br/>[1] Covariance matrix calculated using the outer product of gradients (complex-step)."
      ],
      "text/latex": [
       "\\begin{center}\n",
       "\\begin{tabular}{lclc}\n",
       "\\toprule\n",
       "\\textbf{Dep. Variable:}          &        y         & \\textbf{  No. Observations:  } &     17      \\\\\n",
       "\\textbf{Model:}                  & SARIMAX(0, 1, 0) & \\textbf{  Log Likelihood     } &  -41.124    \\\\\n",
       "\\textbf{Date:}                   & Mon, 20 Oct 2025 & \\textbf{  AIC                } &   84.247    \\\\\n",
       "\\textbf{Time:}                   &     12:32:25     & \\textbf{  BIC                } &   85.020    \\\\\n",
       "\\textbf{Sample:}                 &        0         & \\textbf{  HQIC               } &   84.287    \\\\\n",
       "\\textbf{}                        &       - 17       & \\textbf{                     } &             \\\\\n",
       "\\textbf{Covariance Type:}        &       opg        & \\textbf{                     } &             \\\\\n",
       "\\bottomrule\n",
       "\\end{tabular}\n",
       "\\begin{tabular}{lcccccc}\n",
       "                & \\textbf{coef} & \\textbf{std err} & \\textbf{z} & \\textbf{P$> |$z$|$} & \\textbf{[0.025} & \\textbf{0.975]}  \\\\\n",
       "\\midrule\n",
       "\\textbf{sigma2} &       9.9999  &        4.468     &     2.238  &         0.025        &        1.244    &       18.756     \\\\\n",
       "\\bottomrule\n",
       "\\end{tabular}\n",
       "\\begin{tabular}{lclc}\n",
       "\\textbf{Ljung-Box (L1) (Q):}     & 0.45 & \\textbf{  Jarque-Bera (JB):  } & 0.80  \\\\\n",
       "\\textbf{Prob(Q):}                & 0.50 & \\textbf{  Prob(JB):          } & 0.67  \\\\\n",
       "\\textbf{Heteroskedasticity (H):} & 1.76 & \\textbf{  Skew:              } & 0.12  \\\\\n",
       "\\textbf{Prob(H) (two-sided):}    & 0.55 & \\textbf{  Kurtosis:          } & 1.94  \\\\\n",
       "\\bottomrule\n",
       "\\end{tabular}\n",
       "%\\caption{SARIMAX Results}\n",
       "\\end{center}\n",
       "\n",
       "Warnings: \\newline\n",
       " [1] Covariance matrix calculated using the outer product of gradients (complex-step)."
      ],
      "text/plain": [
       "<class 'statsmodels.iolib.summary.Summary'>\n",
       "\"\"\"\n",
       "                               SARIMAX Results                                \n",
       "==============================================================================\n",
       "Dep. Variable:                      y   No. Observations:                   17\n",
       "Model:               SARIMAX(0, 1, 0)   Log Likelihood                 -41.124\n",
       "Date:                Mon, 20 Oct 2025   AIC                             84.247\n",
       "Time:                        12:32:25   BIC                             85.020\n",
       "Sample:                             0   HQIC                            84.287\n",
       "                                 - 17                                         \n",
       "Covariance Type:                  opg                                         \n",
       "==============================================================================\n",
       "                 coef    std err          z      P>|z|      [0.025      0.975]\n",
       "------------------------------------------------------------------------------\n",
       "sigma2         9.9999      4.468      2.238      0.025       1.244      18.756\n",
       "===================================================================================\n",
       "Ljung-Box (L1) (Q):                   0.45   Jarque-Bera (JB):                 0.80\n",
       "Prob(Q):                              0.50   Prob(JB):                         0.67\n",
       "Heteroskedasticity (H):               1.76   Skew:                             0.12\n",
       "Prob(H) (two-sided):                  0.55   Kurtosis:                         1.94\n",
       "===================================================================================\n",
       "\n",
       "Warnings:\n",
       "[1] Covariance matrix calculated using the outer product of gradients (complex-step).\n",
       "\"\"\""
      ]
     },
     "execution_count": 24,
     "metadata": {},
     "output_type": "execute_result"
    }
   ],
   "source": [
    "stepwise_fit = auto_arima(train, trace=True, start_p=0, d=1, start_q=0, information_criterion='bic', test='adf',\n",
    "suppress_warnings=True)\n",
    "\n",
    "stepwise_fit.summary()"
   ]
  },
  {
   "cell_type": "markdown",
   "id": "470723be-88f6-417d-87a6-db6657babf28",
   "metadata": {},
   "source": [
    "From the perspective of the value of both criteria, the best model was found to be one without autoregressive (AR) or moving average (MA) components. A model fitting attempt based on the training set confirmed the conclusions drawn from the analysis of the ACF and PACF graphs. Due to the obtained results, further estimation and forecasting using the ARIMA model based on the training set was abandoned. Holt's model was used for this purpose."
   ]
  },
  {
   "cell_type": "markdown",
   "id": "2c0c5399-3060-4172-a357-9e49bd26abc2",
   "metadata": {},
   "source": [
    "### ARIMA forecast on full dataset"
   ]
  },
  {
   "cell_type": "markdown",
   "id": "cd448697-3bdb-4c8b-91f1-7079193aca73",
   "metadata": {},
   "source": [
    "#### Choosing best ARIMA model"
   ]
  },
  {
   "cell_type": "code",
   "execution_count": 25,
   "id": "052a2fd6-0644-457f-8e90-b93f31cc9800",
   "metadata": {},
   "outputs": [
    {
     "name": "stdout",
     "output_type": "stream",
     "text": [
      "Performing stepwise search to minimize aic\n",
      " ARIMA(0,1,0)(0,0,0)[0] intercept   : AIC=119.464, Time=0.01 sec\n",
      " ARIMA(1,1,0)(0,0,0)[0] intercept   : AIC=119.613, Time=0.02 sec\n",
      " ARIMA(0,1,1)(0,0,0)[0] intercept   : AIC=117.356, Time=0.03 sec\n",
      " ARIMA(0,1,0)(0,0,0)[0]             : AIC=118.822, Time=0.01 sec\n",
      " ARIMA(1,1,1)(0,0,0)[0] intercept   : AIC=inf, Time=0.08 sec\n",
      " ARIMA(0,1,2)(0,0,0)[0] intercept   : AIC=inf, Time=0.07 sec\n",
      " ARIMA(1,1,2)(0,0,0)[0] intercept   : AIC=inf, Time=0.24 sec\n",
      " ARIMA(0,1,1)(0,0,0)[0]             : AIC=119.540, Time=0.01 sec\n",
      "\n",
      "Best model:  ARIMA(0,1,1)(0,0,0)[0] intercept\n",
      "Total fit time: 0.468 seconds\n"
     ]
    },
    {
     "data": {
      "text/html": [
       "<table class=\"simpletable\">\n",
       "<caption>SARIMAX Results</caption>\n",
       "<tr>\n",
       "  <th>Dep. Variable:</th>           <td>y</td>        <th>  No. Observations:  </th>   <td>21</td>   \n",
       "</tr>\n",
       "<tr>\n",
       "  <th>Model:</th>           <td>SARIMAX(0, 1, 1)</td> <th>  Log Likelihood     </th> <td>-55.678</td>\n",
       "</tr>\n",
       "<tr>\n",
       "  <th>Date:</th>            <td>Mon, 20 Oct 2025</td> <th>  AIC                </th> <td>117.356</td>\n",
       "</tr>\n",
       "<tr>\n",
       "  <th>Time:</th>                <td>12:32:25</td>     <th>  BIC                </th> <td>120.343</td>\n",
       "</tr>\n",
       "<tr>\n",
       "  <th>Sample:</th>                  <td>0</td>        <th>  HQIC               </th> <td>117.939</td>\n",
       "</tr>\n",
       "<tr>\n",
       "  <th></th>                       <td> - 21</td>      <th>                     </th>    <td> </td>   \n",
       "</tr>\n",
       "<tr>\n",
       "  <th>Covariance Type:</th>        <td>opg</td>       <th>                     </th>    <td> </td>   \n",
       "</tr>\n",
       "</table>\n",
       "<table class=\"simpletable\">\n",
       "<tr>\n",
       "      <td></td>         <th>coef</th>     <th>std err</th>      <th>z</th>      <th>P>|z|</th>  <th>[0.025</th>    <th>0.975]</th>  \n",
       "</tr>\n",
       "<tr>\n",
       "  <th>intercept</th> <td>    1.0305</td> <td>    0.300</td> <td>    3.438</td> <td> 0.001</td> <td>    0.443</td> <td>    1.618</td>\n",
       "</tr>\n",
       "<tr>\n",
       "  <th>ma.L1</th>     <td>   -0.6706</td> <td>    0.227</td> <td>   -2.951</td> <td> 0.003</td> <td>   -1.116</td> <td>   -0.225</td>\n",
       "</tr>\n",
       "<tr>\n",
       "  <th>sigma2</th>    <td>   14.8807</td> <td>    5.563</td> <td>    2.675</td> <td> 0.007</td> <td>    3.978</td> <td>   25.783</td>\n",
       "</tr>\n",
       "</table>\n",
       "<table class=\"simpletable\">\n",
       "<tr>\n",
       "  <th>Ljung-Box (L1) (Q):</th>     <td>0.20</td> <th>  Jarque-Bera (JB):  </th> <td>0.08</td> \n",
       "</tr>\n",
       "<tr>\n",
       "  <th>Prob(Q):</th>                <td>0.66</td> <th>  Prob(JB):          </th> <td>0.96</td> \n",
       "</tr>\n",
       "<tr>\n",
       "  <th>Heteroskedasticity (H):</th> <td>3.68</td> <th>  Skew:              </th> <td>-0.02</td>\n",
       "</tr>\n",
       "<tr>\n",
       "  <th>Prob(H) (two-sided):</th>    <td>0.11</td> <th>  Kurtosis:          </th> <td>2.70</td> \n",
       "</tr>\n",
       "</table><br/><br/>Warnings:<br/>[1] Covariance matrix calculated using the outer product of gradients (complex-step)."
      ],
      "text/latex": [
       "\\begin{center}\n",
       "\\begin{tabular}{lclc}\n",
       "\\toprule\n",
       "\\textbf{Dep. Variable:}          &        y         & \\textbf{  No. Observations:  } &     21      \\\\\n",
       "\\textbf{Model:}                  & SARIMAX(0, 1, 1) & \\textbf{  Log Likelihood     } &  -55.678    \\\\\n",
       "\\textbf{Date:}                   & Mon, 20 Oct 2025 & \\textbf{  AIC                } &  117.356    \\\\\n",
       "\\textbf{Time:}                   &     12:32:25     & \\textbf{  BIC                } &  120.343    \\\\\n",
       "\\textbf{Sample:}                 &        0         & \\textbf{  HQIC               } &  117.939    \\\\\n",
       "\\textbf{}                        &       - 21       & \\textbf{                     } &             \\\\\n",
       "\\textbf{Covariance Type:}        &       opg        & \\textbf{                     } &             \\\\\n",
       "\\bottomrule\n",
       "\\end{tabular}\n",
       "\\begin{tabular}{lcccccc}\n",
       "                   & \\textbf{coef} & \\textbf{std err} & \\textbf{z} & \\textbf{P$> |$z$|$} & \\textbf{[0.025} & \\textbf{0.975]}  \\\\\n",
       "\\midrule\n",
       "\\textbf{intercept} &       1.0305  &        0.300     &     3.438  &         0.001        &        0.443    &        1.618     \\\\\n",
       "\\textbf{ma.L1}     &      -0.6706  &        0.227     &    -2.951  &         0.003        &       -1.116    &       -0.225     \\\\\n",
       "\\textbf{sigma2}    &      14.8807  &        5.563     &     2.675  &         0.007        &        3.978    &       25.783     \\\\\n",
       "\\bottomrule\n",
       "\\end{tabular}\n",
       "\\begin{tabular}{lclc}\n",
       "\\textbf{Ljung-Box (L1) (Q):}     & 0.20 & \\textbf{  Jarque-Bera (JB):  } &  0.08  \\\\\n",
       "\\textbf{Prob(Q):}                & 0.66 & \\textbf{  Prob(JB):          } &  0.96  \\\\\n",
       "\\textbf{Heteroskedasticity (H):} & 3.68 & \\textbf{  Skew:              } & -0.02  \\\\\n",
       "\\textbf{Prob(H) (two-sided):}    & 0.11 & \\textbf{  Kurtosis:          } &  2.70  \\\\\n",
       "\\bottomrule\n",
       "\\end{tabular}\n",
       "%\\caption{SARIMAX Results}\n",
       "\\end{center}\n",
       "\n",
       "Warnings: \\newline\n",
       " [1] Covariance matrix calculated using the outer product of gradients (complex-step)."
      ],
      "text/plain": [
       "<class 'statsmodels.iolib.summary.Summary'>\n",
       "\"\"\"\n",
       "                               SARIMAX Results                                \n",
       "==============================================================================\n",
       "Dep. Variable:                      y   No. Observations:                   21\n",
       "Model:               SARIMAX(0, 1, 1)   Log Likelihood                 -55.678\n",
       "Date:                Mon, 20 Oct 2025   AIC                            117.356\n",
       "Time:                        12:32:25   BIC                            120.343\n",
       "Sample:                             0   HQIC                           117.939\n",
       "                                 - 21                                         \n",
       "Covariance Type:                  opg                                         \n",
       "==============================================================================\n",
       "                 coef    std err          z      P>|z|      [0.025      0.975]\n",
       "------------------------------------------------------------------------------\n",
       "intercept      1.0305      0.300      3.438      0.001       0.443       1.618\n",
       "ma.L1         -0.6706      0.227     -2.951      0.003      -1.116      -0.225\n",
       "sigma2        14.8807      5.563      2.675      0.007       3.978      25.783\n",
       "===================================================================================\n",
       "Ljung-Box (L1) (Q):                   0.20   Jarque-Bera (JB):                 0.08\n",
       "Prob(Q):                              0.66   Prob(JB):                         0.96\n",
       "Heteroskedasticity (H):               3.68   Skew:                            -0.02\n",
       "Prob(H) (two-sided):                  0.11   Kurtosis:                         2.70\n",
       "===================================================================================\n",
       "\n",
       "Warnings:\n",
       "[1] Covariance matrix calculated using the outer product of gradients (complex-step).\n",
       "\"\"\""
      ]
     },
     "execution_count": 25,
     "metadata": {},
     "output_type": "execute_result"
    }
   ],
   "source": [
    "stepwise_fit = auto_arima(df['ml_models'], trace=True, start_p=0, d=1, start_q=0, information_criterion='aic', test='adf',\n",
    "suppress_warnings=True)\n",
    "\n",
    "stepwise_fit.summary()"
   ]
  },
  {
   "cell_type": "code",
   "execution_count": 26,
   "id": "e295b4f7-7987-402a-9a03-a5c69ddefab1",
   "metadata": {},
   "outputs": [
    {
     "name": "stdout",
     "output_type": "stream",
     "text": [
      "Performing stepwise search to minimize bic\n",
      " ARIMA(0,1,0)(0,0,0)[0] intercept   : BIC=121.455, Time=0.01 sec\n",
      " ARIMA(1,1,0)(0,0,0)[0] intercept   : BIC=122.600, Time=0.02 sec\n",
      " ARIMA(0,1,1)(0,0,0)[0] intercept   : BIC=120.343, Time=0.02 sec\n",
      " ARIMA(0,1,0)(0,0,0)[0]             : BIC=119.817, Time=0.01 sec\n",
      " ARIMA(1,1,1)(0,0,0)[0] intercept   : BIC=inf, Time=0.08 sec\n",
      "\n",
      "Best model:  ARIMA(0,1,0)(0,0,0)[0]          \n",
      "Total fit time: 0.145 seconds\n"
     ]
    },
    {
     "data": {
      "text/html": [
       "<table class=\"simpletable\">\n",
       "<caption>SARIMAX Results</caption>\n",
       "<tr>\n",
       "  <th>Dep. Variable:</th>           <td>y</td>        <th>  No. Observations:  </th>   <td>21</td>   \n",
       "</tr>\n",
       "<tr>\n",
       "  <th>Model:</th>           <td>SARIMAX(0, 1, 0)</td> <th>  Log Likelihood     </th> <td>-58.411</td>\n",
       "</tr>\n",
       "<tr>\n",
       "  <th>Date:</th>            <td>Mon, 20 Oct 2025</td> <th>  AIC                </th> <td>118.822</td>\n",
       "</tr>\n",
       "<tr>\n",
       "  <th>Time:</th>                <td>12:32:26</td>     <th>  BIC                </th> <td>119.817</td>\n",
       "</tr>\n",
       "<tr>\n",
       "  <th>Sample:</th>                  <td>0</td>        <th>  HQIC               </th> <td>119.016</td>\n",
       "</tr>\n",
       "<tr>\n",
       "  <th></th>                       <td> - 21</td>      <th>                     </th>    <td> </td>   \n",
       "</tr>\n",
       "<tr>\n",
       "  <th>Covariance Type:</th>        <td>opg</td>       <th>                     </th>    <td> </td>   \n",
       "</tr>\n",
       "</table>\n",
       "<table class=\"simpletable\">\n",
       "<tr>\n",
       "     <td></td>       <th>coef</th>     <th>std err</th>      <th>z</th>      <th>P>|z|</th>  <th>[0.025</th>    <th>0.975]</th>  \n",
       "</tr>\n",
       "<tr>\n",
       "  <th>sigma2</th> <td>   20.1499</td> <td>    6.283</td> <td>    3.207</td> <td> 0.001</td> <td>    7.835</td> <td>   32.465</td>\n",
       "</tr>\n",
       "</table>\n",
       "<table class=\"simpletable\">\n",
       "<tr>\n",
       "  <th>Ljung-Box (L1) (Q):</th>     <td>2.07</td> <th>  Jarque-Bera (JB):  </th> <td>2.71</td> \n",
       "</tr>\n",
       "<tr>\n",
       "  <th>Prob(Q):</th>                <td>0.15</td> <th>  Prob(JB):          </th> <td>0.26</td> \n",
       "</tr>\n",
       "<tr>\n",
       "  <th>Heteroskedasticity (H):</th> <td>6.43</td> <th>  Skew:              </th> <td>-0.78</td>\n",
       "</tr>\n",
       "<tr>\n",
       "  <th>Prob(H) (two-sided):</th>    <td>0.03</td> <th>  Kurtosis:          </th> <td>3.90</td> \n",
       "</tr>\n",
       "</table><br/><br/>Warnings:<br/>[1] Covariance matrix calculated using the outer product of gradients (complex-step)."
      ],
      "text/latex": [
       "\\begin{center}\n",
       "\\begin{tabular}{lclc}\n",
       "\\toprule\n",
       "\\textbf{Dep. Variable:}          &        y         & \\textbf{  No. Observations:  } &     21      \\\\\n",
       "\\textbf{Model:}                  & SARIMAX(0, 1, 0) & \\textbf{  Log Likelihood     } &  -58.411    \\\\\n",
       "\\textbf{Date:}                   & Mon, 20 Oct 2025 & \\textbf{  AIC                } &  118.822    \\\\\n",
       "\\textbf{Time:}                   &     12:32:26     & \\textbf{  BIC                } &  119.817    \\\\\n",
       "\\textbf{Sample:}                 &        0         & \\textbf{  HQIC               } &  119.016    \\\\\n",
       "\\textbf{}                        &       - 21       & \\textbf{                     } &             \\\\\n",
       "\\textbf{Covariance Type:}        &       opg        & \\textbf{                     } &             \\\\\n",
       "\\bottomrule\n",
       "\\end{tabular}\n",
       "\\begin{tabular}{lcccccc}\n",
       "                & \\textbf{coef} & \\textbf{std err} & \\textbf{z} & \\textbf{P$> |$z$|$} & \\textbf{[0.025} & \\textbf{0.975]}  \\\\\n",
       "\\midrule\n",
       "\\textbf{sigma2} &      20.1499  &        6.283     &     3.207  &         0.001        &        7.835    &       32.465     \\\\\n",
       "\\bottomrule\n",
       "\\end{tabular}\n",
       "\\begin{tabular}{lclc}\n",
       "\\textbf{Ljung-Box (L1) (Q):}     & 2.07 & \\textbf{  Jarque-Bera (JB):  } &  2.71  \\\\\n",
       "\\textbf{Prob(Q):}                & 0.15 & \\textbf{  Prob(JB):          } &  0.26  \\\\\n",
       "\\textbf{Heteroskedasticity (H):} & 6.43 & \\textbf{  Skew:              } & -0.78  \\\\\n",
       "\\textbf{Prob(H) (two-sided):}    & 0.03 & \\textbf{  Kurtosis:          } &  3.90  \\\\\n",
       "\\bottomrule\n",
       "\\end{tabular}\n",
       "%\\caption{SARIMAX Results}\n",
       "\\end{center}\n",
       "\n",
       "Warnings: \\newline\n",
       " [1] Covariance matrix calculated using the outer product of gradients (complex-step)."
      ],
      "text/plain": [
       "<class 'statsmodels.iolib.summary.Summary'>\n",
       "\"\"\"\n",
       "                               SARIMAX Results                                \n",
       "==============================================================================\n",
       "Dep. Variable:                      y   No. Observations:                   21\n",
       "Model:               SARIMAX(0, 1, 0)   Log Likelihood                 -58.411\n",
       "Date:                Mon, 20 Oct 2025   AIC                            118.822\n",
       "Time:                        12:32:26   BIC                            119.817\n",
       "Sample:                             0   HQIC                           119.016\n",
       "                                 - 21                                         \n",
       "Covariance Type:                  opg                                         \n",
       "==============================================================================\n",
       "                 coef    std err          z      P>|z|      [0.025      0.975]\n",
       "------------------------------------------------------------------------------\n",
       "sigma2        20.1499      6.283      3.207      0.001       7.835      32.465\n",
       "===================================================================================\n",
       "Ljung-Box (L1) (Q):                   2.07   Jarque-Bera (JB):                 2.71\n",
       "Prob(Q):                              0.15   Prob(JB):                         0.26\n",
       "Heteroskedasticity (H):               6.43   Skew:                            -0.78\n",
       "Prob(H) (two-sided):                  0.03   Kurtosis:                         3.90\n",
       "===================================================================================\n",
       "\n",
       "Warnings:\n",
       "[1] Covariance matrix calculated using the outer product of gradients (complex-step).\n",
       "\"\"\""
      ]
     },
     "execution_count": 26,
     "metadata": {},
     "output_type": "execute_result"
    }
   ],
   "source": [
    "stepwise_fit = auto_arima(df['ml_models'], trace=True, start_p=0, d=1, start_q=0, information_criterion='bic', test='adf',\n",
    "suppress_warnings=True)\n",
    "\n",
    "stepwise_fit.summary()"
   ]
  },
  {
   "cell_type": "markdown",
   "id": "09b1f193-1451-4d92-8b6f-66099c7d63fb",
   "metadata": {},
   "source": [
    "The lowest AIC value was obtained by the model with the MA component and the intercept. In terms of the BIC criterion, the (0,1,1) model with the intercept was ranked second. Due to the selection of a model with at least one component by the criteria, an attempt was made to use the ARIMA model for the series"
   ]
  },
  {
   "cell_type": "markdown",
   "id": "9f1c2460-4f16-4131-9fea-b5c0ca2d39e1",
   "metadata": {
    "tags": []
   },
   "source": [
    "#### ARIMA(0,1,1) forecast"
   ]
  },
  {
   "cell_type": "code",
   "execution_count": 27,
   "id": "68a91173-1064-4ad3-98b2-b3ca3cad8e30",
   "metadata": {},
   "outputs": [
    {
     "name": "stdout",
     "output_type": "stream",
     "text": [
      "   Date\n",
      "0  2024\n",
      "1  2025\n",
      "2  2026\n",
      "3  2027\n"
     ]
    }
   ],
   "source": [
    "data = {'Date': [2024, 2025, 2026, 2027]}\n",
    "\n",
    "future_dates = pd.DataFrame(data)\n",
    "\n",
    "print(future_dates)"
   ]
  },
  {
   "cell_type": "code",
   "execution_count": 28,
   "id": "33032d23-96f5-49a8-b81b-0994b10a047a",
   "metadata": {
    "tags": []
   },
   "outputs": [],
   "source": [
    "future_dates = [2024, 2025, 2026, 2027]"
   ]
  },
  {
   "cell_type": "code",
   "execution_count": 29,
   "id": "7ecc0822-c3bf-49bb-b3fb-93f204d34dc2",
   "metadata": {},
   "outputs": [],
   "source": [
    "sarima=ARIMA(df['ml_models'],order=(0,1,1), trend='t')\n",
    "predicted=sarima.fit()"
   ]
  },
  {
   "cell_type": "code",
   "execution_count": 30,
   "id": "2aae48d2-38c2-47a5-a477-fab2bc7b9fdc",
   "metadata": {},
   "outputs": [
    {
     "name": "stdout",
     "output_type": "stream",
     "text": [
      "                               SARIMAX Results                                \n",
      "==============================================================================\n",
      "Dep. Variable:              ml_models   No. Observations:                   21\n",
      "Model:                 ARIMA(0, 1, 1)   Log Likelihood                 -55.678\n",
      "Date:                Mon, 20 Oct 2025   AIC                            117.356\n",
      "Time:                        12:32:26   BIC                            120.343\n",
      "Sample:                             0   HQIC                           117.939\n",
      "                                 - 21                                         \n",
      "Covariance Type:                  opg                                         \n",
      "==============================================================================\n",
      "                 coef    std err          z      P>|z|      [0.025      0.975]\n",
      "------------------------------------------------------------------------------\n",
      "x1             1.0305      0.300      3.438      0.001       0.443       1.618\n",
      "ma.L1         -0.6706      0.227     -2.951      0.003      -1.116      -0.225\n",
      "sigma2        14.8806      5.563      2.675      0.007       3.978      25.783\n",
      "===================================================================================\n",
      "Ljung-Box (L1) (Q):                   0.20   Jarque-Bera (JB):                 0.08\n",
      "Prob(Q):                              0.66   Prob(JB):                         0.96\n",
      "Heteroskedasticity (H):               3.68   Skew:                            -0.02\n",
      "Prob(H) (two-sided):                  0.11   Kurtosis:                         2.70\n",
      "===================================================================================\n",
      "\n",
      "Warnings:\n",
      "[1] Covariance matrix calculated using the outer product of gradients (complex-step).\n"
     ]
    }
   ],
   "source": [
    "print(predicted.summary())"
   ]
  },
  {
   "cell_type": "code",
   "execution_count": 31,
   "id": "7d4df5e7-cedb-424e-a2e4-e95337d102e1",
   "metadata": {
    "tags": []
   },
   "outputs": [],
   "source": [
    "residuals = predicted.resid"
   ]
  },
  {
   "cell_type": "code",
   "execution_count": 32,
   "id": "9b4ad40e-162d-42f6-947f-296997a63141",
   "metadata": {
    "tags": []
   },
   "outputs": [
    {
     "name": "stdout",
     "output_type": "stream",
     "text": [
      "      Prediction  Lower Bound  Upper Bound\n",
      "2024 21.72862208  17.29110042  26.16614375\n",
      "2025 22.75913617  18.08702990  27.43124244\n",
      "2026 23.78965026  18.89418752  28.68511300\n",
      "2027 24.82016435  19.71110045  29.92922825\n"
     ]
    }
   ],
   "source": [
    "forecast_steps = 4\n",
    "forecast = predicted.get_forecast(steps=forecast_steps)\n",
    "\n",
    "forecast_index = range(df2.index[-1] + 1, df2.index[-1] + 1 + forecast_steps)\n",
    "\n",
    "forecast_values = forecast.predicted_mean\n",
    "\n",
    "confidence_intervals = forecast.conf_int(alpha=0.25)\n",
    "lower_bounds = confidence_intervals.iloc[:, 0] \n",
    "upper_bounds = confidence_intervals.iloc[:, 1]\n",
    "\n",
    "df_forecast = pd.DataFrame({\n",
    "    'Prediction': forecast_values.values,  \n",
    "    'Lower Bound': lower_bounds.values,\n",
    "    'Upper Bound': upper_bounds.values\n",
    "}, index=forecast_index)\n",
    "\n",
    "print(df_forecast)"
   ]
  },
  {
   "cell_type": "code",
   "execution_count": 33,
   "id": "239d44d1-a2ac-4bf6-b8ef-f70170bd36b1",
   "metadata": {},
   "outputs": [
    {
     "data": {
      "text/plain": [
       "range(2024, 2028)"
      ]
     },
     "execution_count": 33,
     "metadata": {},
     "output_type": "execute_result"
    }
   ],
   "source": [
    "forecast_index"
   ]
  },
  {
   "cell_type": "code",
   "execution_count": 34,
   "id": "d1df9118-1a0c-4bf5-b174-66773a052326",
   "metadata": {
    "tags": []
   },
   "outputs": [
    {
     "data": {
      "image/png": "[encoded data removed]",
      "text/plain": [
       "<Figure size 1200x600 with 1 Axes>"
      ]
     },
     "metadata": {},
     "output_type": "display_data"
    }
   ],
   "source": [
    "xticks_labels = df2.index.tolist()\n",
    "xticks_labels.extend(future_dates)\n",
    "xticks_filtered = [year for year in xticks_labels if year % 3 == 0]\n",
    "\n",
    "predicted=sarima.fit().predict();predicted\n",
    "\n",
    "conf_int = forecast.conf_int()\n",
    "\n",
    "plt.figure(figsize=(12, 6))\n",
    "plt.plot(df2['ml_models'], marker='o', color='blue', label='Real values')\n",
    "plt.plot(forecast_index, forecast.predicted_mean, marker='x', linestyle='--', color='red', label='ARIMA Prediction')\n",
    "plt.plot(df2.index, predicted, marker='o', color='orange', label='Expected values')\n",
    "plt.fill_between(forecast_index, forecast.conf_int().iloc[:, 0], forecast.conf_int().iloc[:, 1],\n",
    "                 color='orange', alpha=0.2, label='Confidence interval')\n",
    "\n",
    "plt.xlabel(\"Year\")\n",
    "plt.ylabel('Number of machine learning models')\n",
    "plt.xticks(xticks_filtered)\n",
    "plt.legend()\n",
    "plt.grid(True)\n",
    "plt.show()"
   ]
  },
  {
   "cell_type": "markdown",
   "id": "54fa7fbc-70db-46eb-aa2e-e24751ed041f",
   "metadata": {},
   "source": [
    "The expected values were significantly smoother than the actual data. There was a significant increase in values between 2020 and 2023 that was not captured by the model, so the forecast is very pessimistic."
   ]
  },
  {
   "cell_type": "code",
   "execution_count": 35,
   "id": "39afa505-e85c-4586-a803-e7d091a1c1ad",
   "metadata": {
    "tags": []
   },
   "outputs": [
    {
     "name": "stdout",
     "output_type": "stream",
     "text": [
      "Mean Squared Error (MSE): 14.389028138417808\n",
      "RMSE: 3.79\n",
      "Mean Absolute Error (MAE): 3.0408443567911445\n",
      "Determination: 0.7048576088817556\n",
      "Mean Absolute Percentage Error (MAPE): inf\n"
     ]
    }
   ],
   "source": [
    "mse_ar = mean_squared_error(df2['ml_models'], predicted)\n",
    "rmse_ar = np.sqrt(mse_ar)\n",
    "mae_ar = mean_absolute_error(df2['ml_models'], predicted)\n",
    "rsquare_ar = r2_score(df2['ml_models'], predicted)\n",
    "mape_ar = np.mean(np.abs((df2['ml_models'] - predicted)) / df2['ml_models'])* 100\n",
    "\n",
    "print(f\"Mean Squared Error (MSE): {mse_ar}\")\n",
    "print(f\"RMSE: {rmse_ar:.2f}\")\n",
    "print(f\"Mean Absolute Error (MAE): {mae_ar}\")\n",
    "print(f'Determination:', rsquare_ar)\n",
    "print(f\"Mean Absolute Percentage Error (MAPE): {mape_ar}\")"
   ]
  },
  {
   "cell_type": "code",
   "execution_count": 36,
   "id": "6d0fac8e-b8e6-4e5d-be8f-1a698631d0d1",
   "metadata": {
    "tags": []
   },
   "outputs": [
    {
     "name": "stdout",
     "output_type": "stream",
     "text": [
      "Test Shapiro–Wilka: statystyka = 0.9701, p-value = 0.7353\n"
     ]
    }
   ],
   "source": [
    "shapiro_stat, shapiro_p = shapiro(residuals)\n",
    "print(f\"Test Shapiro–Wilka: statystyka = {shapiro_stat:.4f}, p-value = {shapiro_p:.4f}\")"
   ]
  },
  {
   "cell_type": "code",
   "execution_count": 37,
   "id": "1087fc14-f908-4a99-9f2f-4930081a3ac0",
   "metadata": {
    "tags": []
   },
   "outputs": [
    {
     "name": "stdout",
     "output_type": "stream",
     "text": [
      "ARCH test p-value: 0.3997\n"
     ]
    }
   ],
   "source": [
    "arch_test = het_arch(residuals)\n",
    "print(f\"ARCH test p-value: {arch_test[1]:.4f}\")"
   ]
  },
  {
   "cell_type": "markdown",
   "id": "250ac910-4cca-4266-b6b6-1dbe04039d9b",
   "metadata": {},
   "source": [
    "Based on the p-values, the null hypotheses of the tests were rejected. The model residuals are normally distributed and do not exhibit variable variance. The model residuals are normally distributed and do not exhibit variable variance."
   ]
  },
  {
   "cell_type": "markdown",
   "id": "823b4470-6d1a-4127-bbab-c9b49a917820",
   "metadata": {
    "tags": []
   },
   "source": [
    "### Regular and dumped Holt model forecast on training dataset"
   ]
  },
  {
   "cell_type": "markdown",
   "id": "eb8562a7-6c52-40bb-863d-4428d5be119e",
   "metadata": {},
   "source": [
    "To balance and compare more models matching the data, a dumped Holt model, which suppresses exponential growth that may disturb the prediction, was estimated."
   ]
  },
  {
   "cell_type": "code",
   "execution_count": 38,
   "id": "7407ba56-5bc9-41a9-ae89-f6bbd0c3d0b4",
   "metadata": {
    "tags": []
   },
   "outputs": [],
   "source": [
    "# Regular Holt model\n",
    "holt_model = ExponentialSmoothing(train, trend='add', seasonal=None).fit()\n",
    "holt_forecast = holt_model.forecast(4)\n",
    "\n",
    "# Dumped Holt model\n",
    "holt_damped_model = ExponentialSmoothing(train, trend='add', damped_trend=True, seasonal=None).fit()\n",
    "holt_damped_forecast = holt_damped_model.forecast(4)"
   ]
  },
  {
   "cell_type": "code",
   "execution_count": 39,
   "id": "c607a4eb-f166-4153-a7fd-9d9002385303",
   "metadata": {},
   "outputs": [],
   "source": [
    "future_years = test_years.values"
   ]
  },
  {
   "cell_type": "code",
   "execution_count": 40,
   "id": "7b56523c-925a-4d5e-bd2e-cfbd5f85302b",
   "metadata": {
    "tags": []
   },
   "outputs": [
    {
     "data": {
      "text/plain": [
       "(0.0, 30.0)"
      ]
     },
     "execution_count": 40,
     "metadata": {},
     "output_type": "execute_result"
    },
    {
     "data": {
      "image/png": "[encoded data removed]",
      "text/plain": [
       "<Figure size 1400x600 with 1 Axes>"
      ]
     },
     "metadata": {},
     "output_type": "display_data"
    }
   ],
   "source": [
    "plt.figure(figsize=(14, 6))\n",
    "\n",
    "plt.plot(train_years, train, label='Training dataset', marker='o')\n",
    "plt.plot(test_years, test, label='Testing dataset', color='orange', marker='o')\n",
    "plt.plot(future_years, holt_forecast, label='Regular model prediction on training dataset', marker='x', linestyle='--', color='red')\n",
    "plt.plot(future_years, holt_damped_forecast,label='Dumped model prediction on training dataset',marker='.', linestyle='--', color='green')\n",
    "\n",
    "plt.xlabel(\"Year\")\n",
    "plt.ylabel(\"Number of machine learning models\")\n",
    "plt.legend()\n",
    "plt.xticks(xticks_filtered)\n",
    "plt.grid(True)\n",
    "plt.ylim(0, 30)"
   ]
  },
  {
   "cell_type": "code",
   "execution_count": 41,
   "id": "34d600fc-faa5-41c5-acb8-9a8178e354a5",
   "metadata": {},
   "outputs": [
    {
     "name": "stdout",
     "output_type": "stream",
     "text": [
      "Damping parameter (phi): 0.994999999814659\n"
     ]
    }
   ],
   "source": [
    "print(\"Damping parameter (phi):\", holt_damped_model.params['damping_trend'])"
   ]
  },
  {
   "cell_type": "code",
   "execution_count": 42,
   "id": "f6d2dbbe-6eef-4917-b287-2881514ccb4a",
   "metadata": {},
   "outputs": [
    {
     "data": {
      "text/plain": [
       "17   17.09922295\n",
       "18   18.87603487\n",
       "19   20.64396273\n",
       "20   22.40305095\n",
       "dtype: float64"
      ]
     },
     "execution_count": 42,
     "metadata": {},
     "output_type": "execute_result"
    }
   ],
   "source": [
    "holt_damped_forecast"
   ]
  },
  {
   "cell_type": "code",
   "execution_count": 43,
   "id": "86cade8a-d9bf-4e0c-88e9-40f1929860a5",
   "metadata": {},
   "outputs": [
    {
     "data": {
      "text/plain": [
       "17   17.13083360\n",
       "18   18.93681614\n",
       "19   20.74279868\n",
       "20   22.54878122\n",
       "dtype: float64"
      ]
     },
     "execution_count": 43,
     "metadata": {},
     "output_type": "execute_result"
    }
   ],
   "source": [
    "holt_forecast"
   ]
  },
  {
   "cell_type": "markdown",
   "id": "980fb1ff-25bc-49ad-9a5b-a77b2c1d6017",
   "metadata": {},
   "source": [
    "Forecasts made with the dumping model were very similar to those of Holt's models without modification. This was due to the slow and linear rise of the values in the training set and the short time series. Unsuprisingly, the predictions of both models differ significantly from the values recorded in 2020. Therefore, they can be treated as a counterfactual scenario – indicating what the development trajectory might have looked like had it not been for the outbreak of the pandemic."
   ]
  },
  {
   "cell_type": "code",
   "execution_count": 44,
   "id": "5a06c384-524f-4d67-8c6b-35bfab3b03be",
   "metadata": {
    "tags": []
   },
   "outputs": [
    {
     "name": "stdout",
     "output_type": "stream",
     "text": [
      "MSE: 31.43\n",
      "RMSE: 5.61\n",
      "MAE: 4.44\n",
      "MAPE: nan%\n"
     ]
    }
   ],
   "source": [
    "mse_u = mean_squared_error(test, holt_forecast)\n",
    "rmse_u = np.sqrt(mean_squared_error(test, holt_forecast))\n",
    "mae_u = mean_absolute_error(test, holt_forecast)\n",
    "mape_u = np.mean(np.abs((test - holt_forecast) / test)) * 100\n",
    "\n",
    "print(f\"MSE: {mse_u:.2f}\")\n",
    "print(f\"RMSE: {rmse_u:.2f}\")\n",
    "print(f\"MAE: {mae_u:.2f}\")\n",
    "print(f\"MAPE: {mape_u:.2f}%\")"
   ]
  },
  {
   "cell_type": "code",
   "execution_count": 45,
   "id": "21fed425-ab0e-449c-8e4f-15ad7f1512a6",
   "metadata": {
    "tags": []
   },
   "outputs": [
    {
     "name": "stdout",
     "output_type": "stream",
     "text": [
      "MSE: 31.40\n",
      "RMSE: 5.60\n",
      "MAE: 4.48\n",
      "MAPE: nan%\n"
     ]
    }
   ],
   "source": [
    "mse_ud = mean_squared_error(test, holt_damped_forecast)\n",
    "rmse_ud = np.sqrt(mean_squared_error(test, holt_damped_forecast))\n",
    "mae_ud = mean_absolute_error(test, holt_damped_forecast)\n",
    "mape_ud = np.mean(np.abs((test - holt_damped_forecast) / test)) * 100\n",
    "\n",
    "print(f\"MSE: {mse_ud:.2f}\")\n",
    "print(f\"RMSE: {rmse_ud:.2f}\")\n",
    "print(f\"MAE: {mae_ud:.2f}\")\n",
    "print(f\"MAPE: {mape_ud:.2f}%\")"
   ]
  },
  {
   "cell_type": "markdown",
   "id": "24a029ae-1d03-41f9-b995-4bb2d0e13344",
   "metadata": {},
   "source": [
    "As expected, prediction errors for both variants are very high."
   ]
  },
  {
   "cell_type": "markdown",
   "id": "bd2f2727-0948-41d9-a0df-ce54cc016bbe",
   "metadata": {
    "tags": []
   },
   "source": [
    "### Regular and dumped Holt model forecast "
   ]
  },
  {
   "cell_type": "code",
   "execution_count": 46,
   "id": "393d1116-e81e-499a-b9b8-c4ce64d16801",
   "metadata": {
    "tags": []
   },
   "outputs": [],
   "source": [
    "holt_model2 = ExponentialSmoothing(df2['ml_models'], trend='add', seasonal=None).fit()\n",
    "fitted_holt = holt_model2.fittedvalues\n",
    "holt_forecast2 = holt_model2.forecast(4)\n",
    "\n",
    "holt_damped_model2 = ExponentialSmoothing(df2['ml_models'], trend='add', damped_trend=True, seasonal=None).fit()\n",
    "fitted_holt_damped = holt_damped_model2.fittedvalues\n",
    "holt_damped_forecast2 = holt_damped_model2.forecast(4)"
   ]
  },
  {
   "cell_type": "code",
   "execution_count": 47,
   "id": "75d89993-c2fb-434e-b08c-48e0afd815e3",
   "metadata": {
    "scrolled": true,
    "tags": []
   },
   "outputs": [
    {
     "data": {
      "text/plain": [
       "year\n",
       "2003    0.71101014\n",
       "2004    1.37486380\n",
       "2005    1.24050277\n",
       "2006    1.71964120\n",
       "2007    3.42030375\n",
       "2008    3.85089700\n",
       "2009    3.77417644\n",
       "2010    3.26068469\n",
       "2011    3.72262443\n",
       "2012    3.41581254\n",
       "2013    3.09133986\n",
       "2014    4.77141065\n",
       "2015    7.55966650\n",
       "2016    8.58582664\n",
       "2017    9.96158140\n",
       "2018   11.63747531\n",
       "2019   12.89125969\n",
       "2020   15.74212730\n",
       "2021   14.33353010\n",
       "2022   15.44476266\n",
       "2023   18.55500841\n",
       "dtype: float64"
      ]
     },
     "execution_count": 47,
     "metadata": {},
     "output_type": "execute_result"
    }
   ],
   "source": [
    "fitted_holt_damped"
   ]
  },
  {
   "cell_type": "code",
   "execution_count": 48,
   "id": "0be5a581-3684-4e80-bd1f-17c76090ade8",
   "metadata": {
    "tags": []
   },
   "outputs": [],
   "source": [
    "# Confidence intervals based on residuals variance\n",
    "residuals = df2['ml_models'] - fitted_holt_damped\n",
    "res_var = np.var(residuals)\n",
    "se = np.sqrt(res_var)\n",
    "\n",
    "z = 1.96\n",
    "ci_upper = holt_damped_forecast2 + z * se\n",
    "ci_lower = holt_damped_forecast2 - z * se"
   ]
  },
  {
   "cell_type": "code",
   "execution_count": 49,
   "id": "0c617f9b-9ce1-4fd6-9be7-8cfda4c54f88",
   "metadata": {
    "tags": []
   },
   "outputs": [],
   "source": [
    "forecast_steps = 4\n",
    "z = 1.96\n",
    "se_steps = [np.sqrt(res_var * h) for h in range(1, forecast_steps + 1)]\n",
    "lower_bound = holt_damped_forecast2 - z * np.array(se_steps)\n",
    "upper_bound = holt_damped_forecast2 + z * np.array(se_steps)"
   ]
  },
  {
   "cell_type": "code",
   "execution_count": 50,
   "id": "949a7aa6-68c2-4dba-8587-cddac526a323",
   "metadata": {},
   "outputs": [],
   "source": [
    "last_year = df2.index.max()\n",
    "\n",
    "forecast_index = pd.Index([last_year + i for i in range(1, 5)])\n",
    "\n",
    "forecast_series = pd.Series(holt_damped_forecast2.values, index=forecast_index)"
   ]
  },
  {
   "cell_type": "code",
   "execution_count": 51,
   "id": "d126f810-5d55-4170-8704-8103d2f7628a",
   "metadata": {
    "tags": []
   },
   "outputs": [
    {
     "data": {
      "image/png": "[encoded data removed]",
      "text/plain": [
       "<Figure size 1400x600 with 1 Axes>"
      ]
     },
     "metadata": {},
     "output_type": "display_data"
    }
   ],
   "source": [
    "plt.figure(figsize=(14, 6))\n",
    "plt.plot(df['year'], df['ml_models'], label='Real values', marker='o')\n",
    "plt.plot(fitted_holt_damped, label='Regular model expected values', marker='o', color='orange')\n",
    "plt.plot(fitted_holt, label='Dumped model expected values', marker='o', color='green')\n",
    "plt.plot(forecast_index, holt_damped_forecast2, label='Dumped model prediction', color='green', linestyle='--', marker='x')\n",
    "plt.plot(forecast_index, holt_forecast2, label='Regular model prediction', color='red', linestyle='--', marker='x')\n",
    "plt.fill_between(forecast_index, lower_bound, upper_bound, label='95% Confidence interval', color='orange', alpha=0.2)\n",
    "plt.xlabel('Year')\n",
    "plt.ylabel(\"Number of machine learning models\")\n",
    "plt.xticks(xticks_filtered)\n",
    "plt.legend()\n",
    "plt.grid(True)"
   ]
  },
  {
   "cell_type": "markdown",
   "id": "a833b249-ae71-4131-b25c-ea6bc145112f",
   "metadata": {},
   "source": [
    "Both models indicate a stable, linear upward trend in the number of significant machine learning models in the European Union. The expected values and predictions of both models are almost identical. The dynamic growth in the number of important machine learning models in 2020-2023 did not affect the rapid increase in prediction values. Due to the very similar results of both models, the next steps, including the assessment of the quality of fit to the data and the properties of the residuals, were performed only for the simpler Holt model without damping. Results were compared to the prediction made with ARIMA."
   ]
  },
  {
   "cell_type": "code",
   "execution_count": 52,
   "id": "3acd7cb3-23fd-494a-8d81-4eceda3f8fd9",
   "metadata": {
    "tags": []
   },
   "outputs": [],
   "source": [
    "mse_hw = mean_squared_error(df2['ml_models'], fitted_holt)\n",
    "rmse_hw = np.sqrt(mse_ar)\n",
    "mae_hw = mean_absolute_error(df2['ml_models'], fitted_holt)\n",
    "rsquare_hw = r2_score(df2['ml_models'], fitted_holt)\n",
    "mape_hw = np.mean(np.abs((df2['ml_models'] - fitted_holt)) / df2['ml_models'])* 100"
   ]
  },
  {
   "cell_type": "code",
   "execution_count": 53,
   "id": "f8f942fb-371f-4a6c-9f61-eb20f9c98a0b",
   "metadata": {},
   "outputs": [
    {
     "data": {
      "text/html": [
       "<style type=\"text/css\">\n",
       "</style>\n",
       "<table id=\"T_212e6\">\n",
       "  <thead>\n",
       "    <tr>\n",
       "      <th id=\"T_212e6_level0_col0\" class=\"col_heading level0 col0\" >Model</th>\n",
       "      <th id=\"T_212e6_level0_col1\" class=\"col_heading level0 col1\" >MSE</th>\n",
       "      <th id=\"T_212e6_level0_col2\" class=\"col_heading level0 col2\" >RMSE</th>\n",
       "      <th id=\"T_212e6_level0_col3\" class=\"col_heading level0 col3\" >MAE</th>\n",
       "      <th id=\"T_212e6_level0_col4\" class=\"col_heading level0 col4\" >R²</th>\n",
       "    </tr>\n",
       "  </thead>\n",
       "  <tbody>\n",
       "    <tr>\n",
       "      <td id=\"T_212e6_row0_col0\" class=\"data row0 col0\" >Holt</td>\n",
       "      <td id=\"T_212e6_row0_col1\" class=\"data row0 col1\" >14.635</td>\n",
       "      <td id=\"T_212e6_row0_col2\" class=\"data row0 col2\" >3.793</td>\n",
       "      <td id=\"T_212e6_row0_col3\" class=\"data row0 col3\" >2.880</td>\n",
       "      <td id=\"T_212e6_row0_col4\" class=\"data row0 col4\" >0.700</td>\n",
       "    </tr>\n",
       "    <tr>\n",
       "      <td id=\"T_212e6_row1_col0\" class=\"data row1 col0\" >AR</td>\n",
       "      <td id=\"T_212e6_row1_col1\" class=\"data row1 col1\" >14.389</td>\n",
       "      <td id=\"T_212e6_row1_col2\" class=\"data row1 col2\" >3.793</td>\n",
       "      <td id=\"T_212e6_row1_col3\" class=\"data row1 col3\" >3.041</td>\n",
       "      <td id=\"T_212e6_row1_col4\" class=\"data row1 col4\" >0.705</td>\n",
       "    </tr>\n",
       "  </tbody>\n",
       "</table>\n"
      ],
      "text/plain": [
       "<pandas.io.formats.style.Styler at 0x1431c75ea50>"
      ]
     },
     "metadata": {},
     "output_type": "display_data"
    }
   ],
   "source": [
    "results = pd.DataFrame({\n",
    "    'Model': ['Holt', 'AR'],\n",
    "    'MSE': [mse_hw, mse_ar],\n",
    "    'RMSE': [rmse_hw, rmse_ar],\n",
    "    'MAE': [mae_hw, mae_ar],\n",
    "    'R²': [rsquare_hw, rsquare_ar]\n",
    "})\n",
    "\n",
    "results = results.apply(pd.to_numeric, errors='ignore').round(3)\n",
    "\n",
    "display(results.style.format({\n",
    "    \"MSE\": \"{:.3f}\",\n",
    "    \"RMSE\": \"{:.3f}\",\n",
    "    \"MAE\": \"{:.3f}\",\n",
    "    \"R²\": \"{:.3f}\"\n",
    "})\n",
    " .hide(axis=\"index\")   \n",
    ")\n"
   ]
  },
  {
   "cell_type": "markdown",
   "id": "37d8d51f-51d8-4e33-9767-7fdc44ad6638",
   "metadata": {},
   "source": [
    "Holt's model yielded similar error values to the ARIMA model. The values estimated by both models are also similar over the period under consideration. The coefficient of determination for both models indicates an average degree of explaining the variance of the series, although the series contains outliers that compromise the reliability of this measure."
   ]
  },
  {
   "cell_type": "code",
   "execution_count": 54,
   "id": "dfd008ad-ace6-4e3b-82c4-a6ceb18013c5",
   "metadata": {
    "tags": []
   },
   "outputs": [],
   "source": [
    "actual_values = df2['ml_models'].values"
   ]
  },
  {
   "cell_type": "code",
   "execution_count": 55,
   "id": "d3e00389-45be-4765-b831-6b39f12c0bd9",
   "metadata": {
    "tags": []
   },
   "outputs": [],
   "source": [
    "residuals = actual_values - fitted_holt"
   ]
  },
  {
   "cell_type": "code",
   "execution_count": 56,
   "id": "3e373ad5-ce0e-40b4-97ec-eddbb9a5f37b",
   "metadata": {
    "tags": []
   },
   "outputs": [
    {
     "name": "stdout",
     "output_type": "stream",
     "text": [
      "Test Shapiro–Wilka: statystyka = 0.9388, p-value = 0.2063\n"
     ]
    }
   ],
   "source": [
    "shapiro_stat, shapiro_p = shapiro(residuals)\n",
    "print(f\"Test Shapiro–Wilka: statystyka = {shapiro_stat:.4f}, p-value = {shapiro_p:.4f}\")"
   ]
  },
  {
   "cell_type": "code",
   "execution_count": 57,
   "id": "ad5a31fc-ce10-4a47-99d8-955f99272ef0",
   "metadata": {
    "tags": []
   },
   "outputs": [
    {
     "name": "stdout",
     "output_type": "stream",
     "text": [
      "ARCH test p-value: 0.7678\n"
     ]
    }
   ],
   "source": [
    "from statsmodels.stats.diagnostic import het_arch\n",
    "\n",
    "arch_test = het_arch(residuals)\n",
    "print(f\"ARCH test p-value: {arch_test[1]:.4f}\")"
   ]
  },
  {
   "cell_type": "markdown",
   "id": "ca658c5b-cead-4ca2-a8d9-8fe0882ba97d",
   "metadata": {},
   "source": [
    "The model residuals exhibit properties that indicate a good fit of the model to the data. According to the p values, the residuals are not heteroscedastic and are normally distributed."
   ]
  },
  {
   "cell_type": "code",
   "execution_count": 58,
   "id": "84933356-6f40-4cc9-9f51-83a9807b54c1",
   "metadata": {
    "tags": []
   },
   "outputs": [
    {
     "data": {
      "text/plain": [
       "Text(0.5, 1.0, 'Histogram of Residuals')"
      ]
     },
     "execution_count": 58,
     "metadata": {},
     "output_type": "execute_result"
    },
    {
     "data": {
      "image/png": "[encoded data removed]",
      "text/plain": [
       "<Figure size 640x480 with 1 Axes>"
      ]
     },
     "metadata": {},
     "output_type": "display_data"
    }
   ],
   "source": [
    "plt.hist(residuals, bins=20, edgecolor=\"black\", density=True)\n",
    "plt.title(\"Histogram of Residuals\")"
   ]
  },
  {
   "cell_type": "markdown",
   "id": "311537e6-c33c-4387-a01f-3fd12f38d83a",
   "metadata": {},
   "source": [
    "### Summary for UE prediction"
   ]
  },
  {
   "cell_type": "markdown",
   "id": "fc1c00d8-c2d0-4271-85ca-4c8b43ee709e",
   "metadata": {},
   "source": [
    "For the EU and the UK, no model providing a very good fit to the data could be identified. Therefore, the predictions should be treated with caution, considering the general direction of the future number of relevant machine learning models. As with the other series, the forecasting difficulties stemmed primarily from the limited number of observations and the significant, irregular variability of the data over the period under consideration."
   ]
  }
 ],
 "metadata": {
  "kernelspec": {
   "display_name": "Python [conda env:base] *",
   "language": "python",
   "name": "conda-base-py"
  },
  "language_info": {
   "codemirror_mode": {
    "name": "ipython",
    "version": 3
   },
   "file_extension": ".py",
   "mimetype": "text/x-python",
   "name": "python",
   "nbconvert_exporter": "python",
   "pygments_lexer": "ipython3",
   "version": "3.13.5"
  },
  "toc-autonumbering": false
 },
 "nbformat": 4,
 "nbformat_minor": 5
}
